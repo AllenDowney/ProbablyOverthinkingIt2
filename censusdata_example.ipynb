{
 "cells": [
  {
   "cell_type": "code",
   "execution_count": 1,
   "id": "respective-guard",
   "metadata": {},
   "outputs": [],
   "source": [
    "import censusdata"
   ]
  },
  {
   "cell_type": "code",
   "execution_count": 2,
   "id": "handled-coating",
   "metadata": {},
   "outputs": [],
   "source": [
    "df = censusdata.download('acs5', 2015, censusdata.censusgeo([('state', '23'), ('county', '005'), ('block group', '*')]), [('C02003_001E')]).head()"
   ]
  },
  {
   "cell_type": "code",
   "execution_count": 5,
   "id": "administrative-carrier",
   "metadata": {},
   "outputs": [
    {
     "data": {
      "text/plain": [
       "Index([Block Group 1, Census Tract 1, Cumberland County, Maine: Summary level: 150, state:23> county:005> tract:000100> block group:1,\n",
       "       Block Group 2, Census Tract 1, Cumberland County, Maine: Summary level: 150, state:23> county:005> tract:000100> block group:2,\n",
       "       Block Group 3, Census Tract 1, Cumberland County, Maine: Summary level: 150, state:23> county:005> tract:000100> block group:3,\n",
       "       Block Group 1, Census Tract 2, Cumberland County, Maine: Summary level: 150, state:23> county:005> tract:000200> block group:1,\n",
       "       Block Group 2, Census Tract 2, Cumberland County, Maine: Summary level: 150, state:23> county:005> tract:000200> block group:2],\n",
       "      dtype='object')"
      ]
     },
     "execution_count": 5,
     "metadata": {},
     "output_type": "execute_result"
    }
   ],
   "source": [
    "index = df.index\n",
    "index"
   ]
  },
  {
   "cell_type": "code",
   "execution_count": 11,
   "id": "vulnerable-tension",
   "metadata": {},
   "outputs": [
    {
     "data": {
      "text/plain": [
       "censusgeo((('state', '23'), ('county', '005'), ('tract', '000100'), ('block group', '1')), 'Block Group 1, Census Tract 1, Cumberland County, Maine')"
      ]
     },
     "execution_count": 11,
     "metadata": {},
     "output_type": "execute_result"
    }
   ],
   "source": [
    "obj = index[0]\n",
    "obj"
   ]
  },
  {
   "cell_type": "code",
   "execution_count": 12,
   "id": "informed-blast",
   "metadata": {},
   "outputs": [
    {
     "data": {
      "text/plain": [
       "censusdata.censusgeo.censusgeo"
      ]
     },
     "execution_count": 12,
     "metadata": {},
     "output_type": "execute_result"
    }
   ],
   "source": [
    "type(obj)"
   ]
  },
  {
   "cell_type": "code",
   "execution_count": 15,
   "id": "confused-mouth",
   "metadata": {},
   "outputs": [
    {
     "data": {
      "text/plain": [
       "['__class__',\n",
       " '__delattr__',\n",
       " '__dict__',\n",
       " '__dir__',\n",
       " '__doc__',\n",
       " '__eq__',\n",
       " '__format__',\n",
       " '__ge__',\n",
       " '__getattribute__',\n",
       " '__gt__',\n",
       " '__hash__',\n",
       " '__init__',\n",
       " '__init_subclass__',\n",
       " '__le__',\n",
       " '__lt__',\n",
       " '__module__',\n",
       " '__ne__',\n",
       " '__new__',\n",
       " '__reduce__',\n",
       " '__reduce_ex__',\n",
       " '__repr__',\n",
       " '__setattr__',\n",
       " '__sizeof__',\n",
       " '__str__',\n",
       " '__subclasshook__',\n",
       " '__weakref__',\n",
       " 'geo',\n",
       " 'hierarchy',\n",
       " 'name',\n",
       " 'params',\n",
       " 'request',\n",
       " 'sumlevel',\n",
       " 'sumleveldict']"
      ]
     },
     "execution_count": 15,
     "metadata": {},
     "output_type": "execute_result"
    }
   ],
   "source": [
    "dir(obj)"
   ]
  },
  {
   "cell_type": "code",
   "execution_count": 19,
   "id": "spanish-latin",
   "metadata": {},
   "outputs": [
    {
     "data": {
      "text/plain": [
       "(('state', '23'), ('county', '005'), ('tract', '000100'), ('block group', '1'))"
      ]
     },
     "execution_count": 19,
     "metadata": {},
     "output_type": "execute_result"
    }
   ],
   "source": [
    "params = obj.params()\n",
    "params"
   ]
  },
  {
   "cell_type": "code",
   "execution_count": 20,
   "id": "uniform-science",
   "metadata": {},
   "outputs": [
    {
     "data": {
      "text/plain": [
       "tuple"
      ]
     },
     "execution_count": 20,
     "metadata": {},
     "output_type": "execute_result"
    }
   ],
   "source": [
    "type(params)"
   ]
  },
  {
   "cell_type": "code",
   "execution_count": 22,
   "id": "considered-stupid",
   "metadata": {},
   "outputs": [
    {
     "data": {
      "text/plain": [
       "'1'"
      ]
     },
     "execution_count": 22,
     "metadata": {},
     "output_type": "execute_result"
    }
   ],
   "source": [
    "dict(params)['block group']"
   ]
  },
  {
   "cell_type": "code",
   "execution_count": 24,
   "id": "radical-boxing",
   "metadata": {},
   "outputs": [],
   "source": [
    "df['block group'] = [dict(params)['block group'] for obj in df.index]"
   ]
  },
  {
   "cell_type": "code",
   "execution_count": 25,
   "id": "otherwise-woman",
   "metadata": {},
   "outputs": [
    {
     "data": {
      "text/html": [
       "<div>\n",
       "<style scoped>\n",
       "    .dataframe tbody tr th:only-of-type {\n",
       "        vertical-align: middle;\n",
       "    }\n",
       "\n",
       "    .dataframe tbody tr th {\n",
       "        vertical-align: top;\n",
       "    }\n",
       "\n",
       "    .dataframe thead th {\n",
       "        text-align: right;\n",
       "    }\n",
       "</style>\n",
       "<table border=\"1\" class=\"dataframe\">\n",
       "  <thead>\n",
       "    <tr style=\"text-align: right;\">\n",
       "      <th></th>\n",
       "      <th>C02003_001E</th>\n",
       "      <th>block group</th>\n",
       "    </tr>\n",
       "  </thead>\n",
       "  <tbody>\n",
       "    <tr>\n",
       "      <th>Block Group 1, Census Tract 1, Cumberland County, Maine: Summary level: 150, state:23&gt; county:005&gt; tract:000100&gt; block group:1</th>\n",
       "      <td>508</td>\n",
       "      <td>1</td>\n",
       "    </tr>\n",
       "    <tr>\n",
       "      <th>Block Group 2, Census Tract 1, Cumberland County, Maine: Summary level: 150, state:23&gt; county:005&gt; tract:000100&gt; block group:2</th>\n",
       "      <td>890</td>\n",
       "      <td>1</td>\n",
       "    </tr>\n",
       "    <tr>\n",
       "      <th>Block Group 3, Census Tract 1, Cumberland County, Maine: Summary level: 150, state:23&gt; county:005&gt; tract:000100&gt; block group:3</th>\n",
       "      <td>848</td>\n",
       "      <td>1</td>\n",
       "    </tr>\n",
       "    <tr>\n",
       "      <th>Block Group 1, Census Tract 2, Cumberland County, Maine: Summary level: 150, state:23&gt; county:005&gt; tract:000200&gt; block group:1</th>\n",
       "      <td>891</td>\n",
       "      <td>1</td>\n",
       "    </tr>\n",
       "    <tr>\n",
       "      <th>Block Group 2, Census Tract 2, Cumberland County, Maine: Summary level: 150, state:23&gt; county:005&gt; tract:000200&gt; block group:2</th>\n",
       "      <td>473</td>\n",
       "      <td>1</td>\n",
       "    </tr>\n",
       "  </tbody>\n",
       "</table>\n",
       "</div>"
      ],
      "text/plain": [
       "                                                    C02003_001E block group\n",
       "Block Group 1, Census Tract 1, Cumberland Count...          508           1\n",
       "Block Group 2, Census Tract 1, Cumberland Count...          890           1\n",
       "Block Group 3, Census Tract 1, Cumberland Count...          848           1\n",
       "Block Group 1, Census Tract 2, Cumberland Count...          891           1\n",
       "Block Group 2, Census Tract 2, Cumberland Count...          473           1"
      ]
     },
     "execution_count": 25,
     "metadata": {},
     "output_type": "execute_result"
    }
   ],
   "source": [
    "df"
   ]
  },
  {
   "cell_type": "code",
   "execution_count": null,
   "id": "organized-freedom",
   "metadata": {},
   "outputs": [],
   "source": []
  }
 ],
 "metadata": {
  "kernelspec": {
   "display_name": "Python 3",
   "language": "python",
   "name": "python3"
  },
  "language_info": {
   "codemirror_mode": {
    "name": "ipython",
    "version": 3
   },
   "file_extension": ".py",
   "mimetype": "text/x-python",
   "name": "python",
   "nbconvert_exporter": "python",
   "pygments_lexer": "ipython3",
   "version": "3.9.1"
  }
 },
 "nbformat": 4,
 "nbformat_minor": 5
}
