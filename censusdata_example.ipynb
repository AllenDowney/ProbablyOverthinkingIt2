{
 "cells": [
  {
   "cell_type": "code",
   "execution_count": 1,
   "id": "respective-guard",
   "metadata": {},
   "outputs": [],
   "source": [
    "import censusdata"
   ]
  },
  {
   "cell_type": "code",
   "execution_count": 2,
   "id": "handled-coating",
   "metadata": {},
   "outputs": [],
   "source": [
    "df = censusdata.download('acs5', 2015, censusdata.censusgeo([('state', '23'), ('county', '005'), ('block group', '*')]), [('C02003_001E')]).head()"
   ]
  },
  {
   "cell_type": "code",
   "execution_count": 3,
   "id": "administrative-carrier",
   "metadata": {},
   "outputs": [
    {
     "data": {
      "text/plain": [
       "Index([Block Group 1, Census Tract 1, Cumberland County, Maine: Summary level: 150, state:23> county:005> tract:000100> block group:1,\n",
       "       Block Group 2, Census Tract 1, Cumberland County, Maine: Summary level: 150, state:23> county:005> tract:000100> block group:2,\n",
       "       Block Group 3, Census Tract 1, Cumberland County, Maine: Summary level: 150, state:23> county:005> tract:000100> block group:3,\n",
       "       Block Group 1, Census Tract 2, Cumberland County, Maine: Summary level: 150, state:23> county:005> tract:000200> block group:1,\n",
       "       Block Group 2, Census Tract 2, Cumberland County, Maine: Summary level: 150, state:23> county:005> tract:000200> block group:2],\n",
       "      dtype='object')"
      ]
     },
     "execution_count": 3,
     "metadata": {},
     "output_type": "execute_result"
    }
   ],
   "source": [
    "index = df.index\n",
    "index"
   ]
  },
  {
   "cell_type": "code",
   "execution_count": 4,
   "id": "vulnerable-tension",
   "metadata": {},
   "outputs": [
    {
     "data": {
      "text/plain": [
       "censusgeo((('state', '23'), ('county', '005'), ('tract', '000100'), ('block group', '1')), 'Block Group 1, Census Tract 1, Cumberland County, Maine')"
      ]
     },
     "execution_count": 4,
     "metadata": {},
     "output_type": "execute_result"
    }
   ],
   "source": [
    "obj = index[0]\n",
    "obj"
   ]
  },
  {
   "cell_type": "code",
   "execution_count": 5,
   "id": "informed-blast",
   "metadata": {},
   "outputs": [
    {
     "data": {
      "text/plain": [
       "censusdata.censusgeo.censusgeo"
      ]
     },
     "execution_count": 5,
     "metadata": {},
     "output_type": "execute_result"
    }
   ],
   "source": [
    "type(obj)"
   ]
  },
  {
   "cell_type": "code",
   "execution_count": 6,
   "id": "confused-mouth",
   "metadata": {},
   "outputs": [
    {
     "data": {
      "text/plain": [
       "['__class__',\n",
       " '__delattr__',\n",
       " '__dict__',\n",
       " '__dir__',\n",
       " '__doc__',\n",
       " '__eq__',\n",
       " '__format__',\n",
       " '__ge__',\n",
       " '__getattribute__',\n",
       " '__gt__',\n",
       " '__hash__',\n",
       " '__init__',\n",
       " '__init_subclass__',\n",
       " '__le__',\n",
       " '__lt__',\n",
       " '__module__',\n",
       " '__ne__',\n",
       " '__new__',\n",
       " '__reduce__',\n",
       " '__reduce_ex__',\n",
       " '__repr__',\n",
       " '__setattr__',\n",
       " '__sizeof__',\n",
       " '__str__',\n",
       " '__subclasshook__',\n",
       " '__weakref__',\n",
       " 'geo',\n",
       " 'hierarchy',\n",
       " 'name',\n",
       " 'params',\n",
       " 'request',\n",
       " 'sumlevel',\n",
       " 'sumleveldict']"
      ]
     },
     "execution_count": 6,
     "metadata": {},
     "output_type": "execute_result"
    }
   ],
   "source": [
    "dir(obj)"
   ]
  },
  {
   "cell_type": "code",
   "execution_count": 7,
   "id": "spanish-latin",
   "metadata": {},
   "outputs": [
    {
     "data": {
      "text/plain": [
       "(('state', '23'), ('county', '005'), ('tract', '000100'), ('block group', '1'))"
      ]
     },
     "execution_count": 7,
     "metadata": {},
     "output_type": "execute_result"
    }
   ],
   "source": [
    "params = obj.params()\n",
    "params"
   ]
  },
  {
   "cell_type": "code",
   "execution_count": 8,
   "id": "uniform-science",
   "metadata": {},
   "outputs": [
    {
     "data": {
      "text/plain": [
       "tuple"
      ]
     },
     "execution_count": 8,
     "metadata": {},
     "output_type": "execute_result"
    }
   ],
   "source": [
    "type(params)"
   ]
  },
  {
   "cell_type": "code",
   "execution_count": 9,
   "id": "considered-stupid",
   "metadata": {},
   "outputs": [
    {
     "data": {
      "text/plain": [
       "'1'"
      ]
     },
     "execution_count": 9,
     "metadata": {},
     "output_type": "execute_result"
    }
   ],
   "source": [
    "dict(params)['block group']"
   ]
  },
  {
   "cell_type": "code",
   "execution_count": 10,
   "id": "radical-boxing",
   "metadata": {},
   "outputs": [],
   "source": [
    "df['block group'] = [dict(obj.params())['block group'] for obj in df.index]"
   ]
  },
  {
   "cell_type": "code",
   "execution_count": 11,
   "id": "otherwise-woman",
   "metadata": {},
   "outputs": [
    {
     "data": {
      "text/html": [
       "<div>\n",
       "<style scoped>\n",
       "    .dataframe tbody tr th:only-of-type {\n",
       "        vertical-align: middle;\n",
       "    }\n",
       "\n",
       "    .dataframe tbody tr th {\n",
       "        vertical-align: top;\n",
       "    }\n",
       "\n",
       "    .dataframe thead th {\n",
       "        text-align: right;\n",
       "    }\n",
       "</style>\n",
       "<table border=\"1\" class=\"dataframe\">\n",
       "  <thead>\n",
       "    <tr style=\"text-align: right;\">\n",
       "      <th></th>\n",
       "      <th>C02003_001E</th>\n",
       "      <th>block group</th>\n",
       "    </tr>\n",
       "  </thead>\n",
       "  <tbody>\n",
       "    <tr>\n",
       "      <th>Block Group 1, Census Tract 1, Cumberland County, Maine: Summary level: 150, state:23&gt; county:005&gt; tract:000100&gt; block group:1</th>\n",
       "      <td>508</td>\n",
       "      <td>1</td>\n",
       "    </tr>\n",
       "    <tr>\n",
       "      <th>Block Group 2, Census Tract 1, Cumberland County, Maine: Summary level: 150, state:23&gt; county:005&gt; tract:000100&gt; block group:2</th>\n",
       "      <td>890</td>\n",
       "      <td>2</td>\n",
       "    </tr>\n",
       "    <tr>\n",
       "      <th>Block Group 3, Census Tract 1, Cumberland County, Maine: Summary level: 150, state:23&gt; county:005&gt; tract:000100&gt; block group:3</th>\n",
       "      <td>848</td>\n",
       "      <td>3</td>\n",
       "    </tr>\n",
       "    <tr>\n",
       "      <th>Block Group 1, Census Tract 2, Cumberland County, Maine: Summary level: 150, state:23&gt; county:005&gt; tract:000200&gt; block group:1</th>\n",
       "      <td>891</td>\n",
       "      <td>1</td>\n",
       "    </tr>\n",
       "    <tr>\n",
       "      <th>Block Group 2, Census Tract 2, Cumberland County, Maine: Summary level: 150, state:23&gt; county:005&gt; tract:000200&gt; block group:2</th>\n",
       "      <td>473</td>\n",
       "      <td>2</td>\n",
       "    </tr>\n",
       "  </tbody>\n",
       "</table>\n",
       "</div>"
      ],
      "text/plain": [
       "                                                    C02003_001E block group\n",
       "Block Group 1, Census Tract 1, Cumberland Count...          508           1\n",
       "Block Group 2, Census Tract 1, Cumberland Count...          890           2\n",
       "Block Group 3, Census Tract 1, Cumberland Count...          848           3\n",
       "Block Group 1, Census Tract 2, Cumberland Count...          891           1\n",
       "Block Group 2, Census Tract 2, Cumberland Count...          473           2"
      ]
     },
     "execution_count": 11,
     "metadata": {},
     "output_type": "execute_result"
    }
   ],
   "source": [
    "df"
   ]
  },
  {
   "cell_type": "markdown",
   "id": "friendly-engineering",
   "metadata": {},
   "source": [
    "Let's make a MultiIndex with the fields from params as levels."
   ]
  },
  {
   "cell_type": "code",
   "execution_count": 12,
   "id": "growing-discrimination",
   "metadata": {},
   "outputs": [
    {
     "data": {
      "text/plain": [
       "('state', 'county', 'tract', 'block group')"
      ]
     },
     "execution_count": 12,
     "metadata": {},
     "output_type": "execute_result"
    }
   ],
   "source": [
    "import numpy as np\n",
    "\n",
    "names, _ = zip(*params)\n",
    "names"
   ]
  },
  {
   "cell_type": "code",
   "execution_count": 13,
   "id": "previous-dominant",
   "metadata": {},
   "outputs": [
    {
     "data": {
      "text/plain": [
       "('23', '005', '000100', '1')"
      ]
     },
     "execution_count": 13,
     "metadata": {},
     "output_type": "execute_result"
    }
   ],
   "source": [
    "list(zip(*params))[1]"
   ]
  },
  {
   "cell_type": "code",
   "execution_count": 14,
   "id": "circular-mixer",
   "metadata": {},
   "outputs": [
    {
     "data": {
      "text/plain": [
       "[('23', '005', '000100', '1'),\n",
       " ('23', '005', '000100', '2'),\n",
       " ('23', '005', '000100', '3'),\n",
       " ('23', '005', '000200', '1'),\n",
       " ('23', '005', '000200', '2')]"
      ]
     },
     "execution_count": 14,
     "metadata": {},
     "output_type": "execute_result"
    }
   ],
   "source": [
    "t = [list(zip(*obj.params()))[1] for obj in df.index]\n",
    "t"
   ]
  },
  {
   "cell_type": "code",
   "execution_count": 15,
   "id": "organized-freedom",
   "metadata": {},
   "outputs": [
    {
     "data": {
      "text/html": [
       "<div>\n",
       "<style scoped>\n",
       "    .dataframe tbody tr th:only-of-type {\n",
       "        vertical-align: middle;\n",
       "    }\n",
       "\n",
       "    .dataframe tbody tr th {\n",
       "        vertical-align: top;\n",
       "    }\n",
       "\n",
       "    .dataframe thead th {\n",
       "        text-align: right;\n",
       "    }\n",
       "</style>\n",
       "<table border=\"1\" class=\"dataframe\">\n",
       "  <thead>\n",
       "    <tr style=\"text-align: right;\">\n",
       "      <th></th>\n",
       "      <th></th>\n",
       "      <th></th>\n",
       "      <th></th>\n",
       "      <th>C02003_001E</th>\n",
       "      <th>block group</th>\n",
       "    </tr>\n",
       "    <tr>\n",
       "      <th>state</th>\n",
       "      <th>county</th>\n",
       "      <th>tract</th>\n",
       "      <th>block group</th>\n",
       "      <th></th>\n",
       "      <th></th>\n",
       "    </tr>\n",
       "  </thead>\n",
       "  <tbody>\n",
       "    <tr>\n",
       "      <th rowspan=\"5\" valign=\"top\">23</th>\n",
       "      <th rowspan=\"5\" valign=\"top\">005</th>\n",
       "      <th rowspan=\"3\" valign=\"top\">000100</th>\n",
       "      <th>1</th>\n",
       "      <td>508</td>\n",
       "      <td>1</td>\n",
       "    </tr>\n",
       "    <tr>\n",
       "      <th>2</th>\n",
       "      <td>890</td>\n",
       "      <td>2</td>\n",
       "    </tr>\n",
       "    <tr>\n",
       "      <th>3</th>\n",
       "      <td>848</td>\n",
       "      <td>3</td>\n",
       "    </tr>\n",
       "    <tr>\n",
       "      <th rowspan=\"2\" valign=\"top\">000200</th>\n",
       "      <th>1</th>\n",
       "      <td>891</td>\n",
       "      <td>1</td>\n",
       "    </tr>\n",
       "    <tr>\n",
       "      <th>2</th>\n",
       "      <td>473</td>\n",
       "      <td>2</td>\n",
       "    </tr>\n",
       "  </tbody>\n",
       "</table>\n",
       "</div>"
      ],
      "text/plain": [
       "                                 C02003_001E block group\n",
       "state county tract  block group                         \n",
       "23    005    000100 1                    508           1\n",
       "                    2                    890           2\n",
       "                    3                    848           3\n",
       "             000200 1                    891           1\n",
       "                    2                    473           2"
      ]
     },
     "execution_count": 15,
     "metadata": {},
     "output_type": "execute_result"
    }
   ],
   "source": [
    "import pandas as pd\n",
    "\n",
    "df2 = df.copy()\n",
    "df2.index = pd.MultiIndex.from_tuples(t, names=names)\n",
    "df2"
   ]
  },
  {
   "cell_type": "markdown",
   "id": "complex-expansion",
   "metadata": {},
   "source": [
    "Or the same thing with arrays rather than tuples."
   ]
  },
  {
   "cell_type": "code",
   "execution_count": 16,
   "id": "skilled-spirituality",
   "metadata": {},
   "outputs": [],
   "source": [
    "names, _ = np.transpose(params)"
   ]
  },
  {
   "cell_type": "code",
   "execution_count": 17,
   "id": "irish-spell",
   "metadata": {},
   "outputs": [
    {
     "data": {
      "text/plain": [
       "[array(['23', '005', '000100', '1'], dtype='<U11'),\n",
       " array(['23', '005', '000100', '2'], dtype='<U11'),\n",
       " array(['23', '005', '000100', '3'], dtype='<U11'),\n",
       " array(['23', '005', '000200', '1'], dtype='<U11'),\n",
       " array(['23', '005', '000200', '2'], dtype='<U11')]"
      ]
     },
     "execution_count": 17,
     "metadata": {},
     "output_type": "execute_result"
    }
   ],
   "source": [
    "t = [np.transpose(obj.params())[1] for obj in df.index]\n",
    "t"
   ]
  },
  {
   "cell_type": "code",
   "execution_count": 18,
   "id": "freelance-drill",
   "metadata": {},
   "outputs": [
    {
     "data": {
      "text/html": [
       "<div>\n",
       "<style scoped>\n",
       "    .dataframe tbody tr th:only-of-type {\n",
       "        vertical-align: middle;\n",
       "    }\n",
       "\n",
       "    .dataframe tbody tr th {\n",
       "        vertical-align: top;\n",
       "    }\n",
       "\n",
       "    .dataframe thead th {\n",
       "        text-align: right;\n",
       "    }\n",
       "</style>\n",
       "<table border=\"1\" class=\"dataframe\">\n",
       "  <thead>\n",
       "    <tr style=\"text-align: right;\">\n",
       "      <th></th>\n",
       "      <th></th>\n",
       "      <th></th>\n",
       "      <th></th>\n",
       "      <th>C02003_001E</th>\n",
       "      <th>block group</th>\n",
       "    </tr>\n",
       "    <tr>\n",
       "      <th>state</th>\n",
       "      <th>county</th>\n",
       "      <th>tract</th>\n",
       "      <th>block group</th>\n",
       "      <th></th>\n",
       "      <th></th>\n",
       "    </tr>\n",
       "  </thead>\n",
       "  <tbody>\n",
       "    <tr>\n",
       "      <th rowspan=\"5\" valign=\"top\">23</th>\n",
       "      <th rowspan=\"5\" valign=\"top\">005</th>\n",
       "      <th rowspan=\"3\" valign=\"top\">000100</th>\n",
       "      <th>1</th>\n",
       "      <td>508</td>\n",
       "      <td>1</td>\n",
       "    </tr>\n",
       "    <tr>\n",
       "      <th>2</th>\n",
       "      <td>890</td>\n",
       "      <td>2</td>\n",
       "    </tr>\n",
       "    <tr>\n",
       "      <th>3</th>\n",
       "      <td>848</td>\n",
       "      <td>3</td>\n",
       "    </tr>\n",
       "    <tr>\n",
       "      <th rowspan=\"2\" valign=\"top\">000200</th>\n",
       "      <th>1</th>\n",
       "      <td>891</td>\n",
       "      <td>1</td>\n",
       "    </tr>\n",
       "    <tr>\n",
       "      <th>2</th>\n",
       "      <td>473</td>\n",
       "      <td>2</td>\n",
       "    </tr>\n",
       "  </tbody>\n",
       "</table>\n",
       "</div>"
      ],
      "text/plain": [
       "                                 C02003_001E block group\n",
       "state county tract  block group                         \n",
       "23    005    000100 1                    508           1\n",
       "                    2                    890           2\n",
       "                    3                    848           3\n",
       "             000200 1                    891           1\n",
       "                    2                    473           2"
      ]
     },
     "execution_count": 18,
     "metadata": {},
     "output_type": "execute_result"
    }
   ],
   "source": [
    "import pandas as pd\n",
    "\n",
    "df3 = df.copy()\n",
    "df3.index = pd.MultiIndex.from_arrays(np.transpose(t), names=names)\n",
    "df3"
   ]
  },
  {
   "cell_type": "code",
   "execution_count": null,
   "id": "alternative-cameroon",
   "metadata": {},
   "outputs": [],
   "source": []
  },
  {
   "cell_type": "code",
   "execution_count": null,
   "id": "adolescent-dealing",
   "metadata": {},
   "outputs": [],
   "source": []
  }
 ],
 "metadata": {
  "kernelspec": {
   "display_name": "Python 3",
   "language": "python",
   "name": "python3"
  },
  "language_info": {
   "codemirror_mode": {
    "name": "ipython",
    "version": 3
   },
   "file_extension": ".py",
   "mimetype": "text/x-python",
   "name": "python",
   "nbconvert_exporter": "python",
   "pygments_lexer": "ipython3",
   "version": "3.9.1"
  }
 },
 "nbformat": 4,
 "nbformat_minor": 5
}
