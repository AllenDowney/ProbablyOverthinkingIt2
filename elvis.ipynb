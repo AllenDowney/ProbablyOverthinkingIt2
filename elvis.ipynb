{
 "cells": [
  {
   "cell_type": "markdown",
   "metadata": {},
   "source": [
    "# Did Elvis Have an Identical Twin?  Probably.\n",
    "\n",
    "Copyright 2020 Allen B. Downey\n",
    "\n",
    "License: [Attribution-NonCommercial-ShareAlike 4.0 International (CC BY-NC-SA 4.0)](https://creativecommons.org/licenses/by-nc-sa/4.0/)\n",
    "\n",
    "[Elvis Presley](https://en.wikipedia.org/wiki/Elvis_Presley#1935%E2%80%931953:_Early_years) had a twin brother who died at birth.  We don't know if they were identical or fraternal twins, but we can figure out the probability that they were.\n",
    "\n",
    "Here's how:\n",
    "\n",
    "1. First, we need some background information about the relative frequencies of identical and fraternal twins.\n",
    "\n",
    "2. Then we'll use Bayes's Rule to take into account one piece of data, which is that Elvis's twin was male.\n",
    "\n",
    "3. Then we'll take into account a second piece of data, which is that Elvis's twin died at birth.\n",
    "\n",
    "For background information, I'll use data from 1935, the year Elvis was born, from the\n",
    "U.S. Census Bureau, [Birth, Stillbirth, and Infant Mortality Statistics for the Continental United States, the Territory of Hawaii, the Virgin Islands 1935](https://www.cdc.gov/nchs/data/vsushistorical/birthstat_1935.pdf).\n",
    "\n",
    "It includes this table, which shows the total number of plural births in the United States.\n",
    "\n",
    "<img width=\"300\" src=\"https://github.com/AllenDowney/BiteSizeBayes/raw/master/birth_data_1935.png\">"
   ]
  },
  {
   "cell_type": "markdown",
   "metadata": {},
   "source": [
    "The table doesn't report which twins are identical or fraternal, but we can use the data to estimate it.\n",
    "\n",
    "With the numbers in the table, we can compute the fraction of twins that are opposite sex, which I'll call `x`."
   ]
  },
  {
   "cell_type": "code",
   "execution_count": 1,
   "metadata": {},
   "outputs": [
    {
     "data": {
      "text/plain": [
       "0.3332539588046196"
      ]
     },
     "execution_count": 1,
     "metadata": {},
     "output_type": "execute_result"
    }
   ],
   "source": [
    "opposite = 8397\n",
    "same = 8678 + 8122\n",
    "\n",
    "x = opposite / (opposite + same)\n",
    "x"
   ]
  },
  {
   "cell_type": "markdown",
   "metadata": {},
   "source": [
    "But the quantity we want is the fraction of twins who are fraternal, which I'll call `p_f`. \n",
    "Let's see how we can get from `x` to `p_f`.\n",
    "\n",
    "Because identical twins have the same genes, they are almost always the same sex.\n",
    "Fraternal twins do not have the same genes; like other siblings, they are about equally likely to be the same or opposite sex.\n",
    "\n",
    "So we can write the relationship:\n",
    "\n",
    "`x = p_f / 2 + 0`\n",
    "\n",
    "which says that opposite-sex twins include half of the fraternal twins and none of the identical twins.\n",
    "\n",
    "And that implies"
   ]
  },
  {
   "cell_type": "code",
   "execution_count": 2,
   "metadata": {},
   "outputs": [
    {
     "data": {
      "text/plain": [
       "0.6665079176092392"
      ]
     },
     "execution_count": 2,
     "metadata": {},
     "output_type": "execute_result"
    }
   ],
   "source": [
    "p_f = 2 * x\n",
    "p_f"
   ]
  },
  {
   "cell_type": "markdown",
   "metadata": {},
   "source": [
    "We can also compute the fraction of twins that are identical, `p_i`:"
   ]
  },
  {
   "cell_type": "code",
   "execution_count": 3,
   "metadata": {},
   "outputs": [
    {
     "data": {
      "text/plain": [
       "0.3334920823907608"
      ]
     },
     "execution_count": 3,
     "metadata": {},
     "output_type": "execute_result"
    }
   ],
   "source": [
    "p_i = 1 - p_f\n",
    "p_i"
   ]
  },
  {
   "cell_type": "markdown",
   "metadata": {},
   "source": [
    "In 1935 about 2/3 of twins were fraternal and 1/3 were identical.\n",
    "So if we know nothing else about Elvis, the probability is about 1/3 that he was an identical twin.\n",
    "\n",
    "But we have two pieces of information that affect our estimate of this probability:\n",
    "\n",
    "* Elvis's twin was male, which is more likely if he was identical.\n",
    "\n",
    "* Elvis's twin died at birth, which is also more likely if he was identical.\n",
    "\n",
    "To take this information into account, we will use Bayes's Rule:\n",
    "\n",
    "`odds(H|D) = odds(H) * likelihood_ratio(D)`\n",
    "\n",
    "That is, the posterior odds of the hypothesis `H`, after seeing data `D`, are the product of the prior odds of `H` and the likelihood ratio of `D`.\n",
    "\n",
    "We can use `p_i`  and `p_f` to compute the prior odds that Elvis was an identical twin."
   ]
  },
  {
   "cell_type": "code",
   "execution_count": 4,
   "metadata": {},
   "outputs": [
    {
     "data": {
      "text/plain": [
       "0.5003572704537335"
      ]
     },
     "execution_count": 4,
     "metadata": {},
     "output_type": "execute_result"
    }
   ],
   "source": [
    "prior_odds = p_i / p_f\n",
    "prior_odds"
   ]
  },
  {
   "cell_type": "markdown",
   "metadata": {},
   "source": [
    "The prior odds are about `0.5:1`.\n",
    "\n",
    "Now let's compute the likelihood ratio of `D`.\n",
    "The probability that twins are the same sex is nearly 100% if they are identical and about 50% if they are fraternal.\n",
    "So the likelihood ratio is `100 / 50 = 2`."
   ]
  },
  {
   "cell_type": "code",
   "execution_count": 5,
   "metadata": {},
   "outputs": [],
   "source": [
    "likelihood_ratio = 2"
   ]
  },
  {
   "cell_type": "markdown",
   "metadata": {},
   "source": [
    "Now we can apply Bayes's Rule:"
   ]
  },
  {
   "cell_type": "code",
   "execution_count": 6,
   "metadata": {},
   "outputs": [
    {
     "data": {
      "text/plain": [
       "1.000714540907467"
      ]
     },
     "execution_count": 6,
     "metadata": {},
     "output_type": "execute_result"
    }
   ],
   "source": [
    "posterior_odds = prior_odds * likelihood_ratio\n",
    "posterior_odds"
   ]
  },
  {
   "cell_type": "markdown",
   "metadata": {},
   "source": [
    "The posterior odds are close to 1, or, in terms of probabilities:"
   ]
  },
  {
   "cell_type": "code",
   "execution_count": 7,
   "metadata": {},
   "outputs": [
    {
     "data": {
      "text/plain": [
       "0.5001785714285715"
      ]
     },
     "execution_count": 7,
     "metadata": {},
     "output_type": "execute_result"
    }
   ],
   "source": [
    "posterior_prob = posterior_odds / (posterior_odds + 1)\n",
    "posterior_prob"
   ]
  },
  {
   "cell_type": "markdown",
   "metadata": {},
   "source": [
    "Taking into account that Elvis's twin was male, the probability is close to 50% that he was identical."
   ]
  },
  {
   "cell_type": "markdown",
   "metadata": {},
   "source": [
    "## More Data\n",
    "\n",
    "Now let's take into account the second piece of data: Elvis's twin died at birth.\n",
    "\n",
    "It seems likely that there are different risks for fraternal and identical twins, so I'll define:\n",
    "\n",
    "* `r_f`: The probability that one twin is stillborn, given that they are fraternal.\n",
    "\n",
    "* `r_i`: The probability that one twin is stillborn, given that they are identical.\n",
    "\n",
    "We can't get those quantities directly from the table, but we can compute:\n",
    "\n",
    "* `y`: the probability of \"1 living\", given that the twins are opposite sex.\n",
    "\n",
    "* `z`: the probability of \"1 living\", given that the twins are the same sex."
   ]
  },
  {
   "cell_type": "code",
   "execution_count": 8,
   "metadata": {},
   "outputs": [
    {
     "data": {
      "text/plain": [
       "0.06633321424318209"
      ]
     },
     "execution_count": 8,
     "metadata": {},
     "output_type": "execute_result"
    }
   ],
   "source": [
    "y = (258 + 299) / opposite\n",
    "y"
   ]
  },
  {
   "cell_type": "code",
   "execution_count": 9,
   "metadata": {},
   "outputs": [
    {
     "data": {
      "text/plain": [
       "0.07255952380952381"
      ]
     },
     "execution_count": 9,
     "metadata": {},
     "output_type": "execute_result"
    }
   ],
   "source": [
    "z = (655 + 564) / same\n",
    "z"
   ]
  },
  {
   "cell_type": "markdown",
   "metadata": {},
   "source": [
    "Assuming that all opposite-sex twins are fraternal, we can infer that the risk for fraternal twins is `y`:"
   ]
  },
  {
   "cell_type": "code",
   "execution_count": 10,
   "metadata": {},
   "outputs": [
    {
     "data": {
      "text/plain": [
       "0.06633321424318209"
      ]
     },
     "execution_count": 10,
     "metadata": {},
     "output_type": "execute_result"
    }
   ],
   "source": [
    "r_f = y\n",
    "r_f"
   ]
  },
  {
   "cell_type": "markdown",
   "metadata": {},
   "source": [
    "To compute `r_i`, we can write the following relation:\n",
    "\n",
    "`z = q_i * r_i + q_f * r_f`\n",
    "\n",
    "which says that the risk for same-sex twins is the weighted sum of the risks for identical and fraternal twins, with weights\n",
    "\n",
    "* `q_i`, the fraction of same-sex twins who are identical, and \n",
    "\n",
    "* `q_f`, compute the fraction who are fraternal.\n",
    "\n",
    "`q_i` is the posterior probability we computed in the previous update; `q_f` is its complement."
   ]
  },
  {
   "cell_type": "code",
   "execution_count": 11,
   "metadata": {},
   "outputs": [],
   "source": [
    "q_i = posterior_prob\n",
    "q_f = 1 - posterior_prob"
   ]
  },
  {
   "cell_type": "markdown",
   "metadata": {},
   "source": [
    "Solving for `r_i`, we get"
   ]
  },
  {
   "cell_type": "code",
   "execution_count": 12,
   "metadata": {},
   "outputs": [
    {
     "data": {
      "text/plain": [
       "0.07878138759966678"
      ]
     },
     "execution_count": 12,
     "metadata": {},
     "output_type": "execute_result"
    }
   ],
   "source": [
    "r_i = (z - q_f * r_f) / q_i\n",
    "r_i"
   ]
  },
  {
   "cell_type": "markdown",
   "metadata": {},
   "source": [
    "Now we can compute the likelihood ratio:"
   ]
  },
  {
   "cell_type": "code",
   "execution_count": 13,
   "metadata": {},
   "outputs": [
    {
     "data": {
      "text/plain": [
       "1.1876612417852819"
      ]
     },
     "execution_count": 13,
     "metadata": {},
     "output_type": "execute_result"
    }
   ],
   "source": [
    "likelihood_ratio2 = r_i / r_f\n",
    "likelihood_ratio2"
   ]
  },
  {
   "cell_type": "markdown",
   "metadata": {},
   "source": [
    "In this dataset, the probability that one twin dies at birth is about 19% higher if the twins are identical.\n",
    "\n",
    "Now we can apply Bayes's Rule again to compute the posterior odds after both updates:"
   ]
  },
  {
   "cell_type": "code",
   "execution_count": 14,
   "metadata": {},
   "outputs": [
    {
     "data": {
      "text/plain": [
       "1.1885098743267504"
      ]
     },
     "execution_count": 14,
     "metadata": {},
     "output_type": "execute_result"
    }
   ],
   "source": [
    "posterior_odds2 = posterior_odds * likelihood_ratio2\n",
    "posterior_odds2"
   ]
  },
  {
   "cell_type": "markdown",
   "metadata": {},
   "source": [
    "Or, if you prefer probabilities:"
   ]
  },
  {
   "cell_type": "code",
   "execution_count": 15,
   "metadata": {},
   "outputs": [
    {
     "data": {
      "text/plain": [
       "0.5430680885972108"
      ]
     },
     "execution_count": 15,
     "metadata": {},
     "output_type": "execute_result"
    }
   ],
   "source": [
    "posterior_prob2 = posterior_odds2 / (posterior_odds2 + 1)\n",
    "posterior_prob2"
   ]
  },
  {
   "cell_type": "markdown",
   "metadata": {},
   "source": [
    "Taking into account both pieces of data, the posterior probability that Elvis was an identical twin is about 54%."
   ]
  },
  {
   "cell_type": "markdown",
   "metadata": {},
   "source": [
    "The code in this example is in [a Jupyter notebook you can run on Colab](https://colab.research.google.com/github/AllenDowney/ProbablyOverthinkingIt2/blob/master/elvis.ipynb).\n",
    "\n",
    "This example is from the second edition of *Think Bayes* forthcoming from O'Reilly Media.  The current draft is available from [Green Tea Press](https://greenteapress.com/wp/).\n",
    "\n",
    "I learned about this problem from [*Bayesian Data Analysis*](http://www.stat.columbia.edu/~gelman/book/).\n",
    "Their solution takes into account that Elvis's twin was male, but not the additional evidence that his twin died at birth.\n",
    "\n",
    "Jonah Spicher, who took my Bayesian Statistics class at Olin College, came up with the idea to use data from 1935 to compute the likelihood of the data."
   ]
  },
  {
   "cell_type": "code",
   "execution_count": null,
   "metadata": {},
   "outputs": [],
   "source": []
  }
 ],
 "metadata": {
  "kernelspec": {
   "display_name": "Python 3",
   "language": "python",
   "name": "python3"
  },
  "language_info": {
   "codemirror_mode": {
    "name": "ipython",
    "version": 3
   },
   "file_extension": ".py",
   "mimetype": "text/x-python",
   "name": "python",
   "nbconvert_exporter": "python",
   "pygments_lexer": "ipython3",
   "version": "3.9.1"
  }
 },
 "nbformat": 4,
 "nbformat_minor": 2
}
