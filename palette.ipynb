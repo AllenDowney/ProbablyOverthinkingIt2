{
 "cells": [
  {
   "cell_type": "code",
   "execution_count": 56,
   "metadata": {
    "collapsed": true
   },
   "outputs": [],
   "source": [
    "import palettable"
   ]
  },
  {
   "cell_type": "code",
   "execution_count": 66,
   "metadata": {},
   "outputs": [
    {
     "data": {
      "text/plain": [
       "['BrBG_10',\n",
       " 'BrBG_10_r',\n",
       " 'BrBG_11',\n",
       " 'BrBG_11_r',\n",
       " 'BrBG_3',\n",
       " 'BrBG_3_r',\n",
       " 'BrBG_4',\n",
       " 'BrBG_4_r',\n",
       " 'BrBG_5',\n",
       " 'BrBG_5_r',\n",
       " 'BrBG_6',\n",
       " 'BrBG_6_r',\n",
       " 'BrBG_7',\n",
       " 'BrBG_7_r',\n",
       " 'BrBG_8',\n",
       " 'BrBG_8_r',\n",
       " 'BrBG_9',\n",
       " 'BrBG_9_r',\n",
       " 'PRGn_10',\n",
       " 'PRGn_10_r',\n",
       " 'PRGn_11',\n",
       " 'PRGn_11_r',\n",
       " 'PRGn_3',\n",
       " 'PRGn_3_r',\n",
       " 'PRGn_4',\n",
       " 'PRGn_4_r',\n",
       " 'PRGn_5',\n",
       " 'PRGn_5_r',\n",
       " 'PRGn_6',\n",
       " 'PRGn_6_r',\n",
       " 'PRGn_7',\n",
       " 'PRGn_7_r',\n",
       " 'PRGn_8',\n",
       " 'PRGn_8_r',\n",
       " 'PRGn_9',\n",
       " 'PRGn_9_r',\n",
       " 'PiYG_10',\n",
       " 'PiYG_10_r',\n",
       " 'PiYG_11',\n",
       " 'PiYG_11_r',\n",
       " 'PiYG_3',\n",
       " 'PiYG_3_r',\n",
       " 'PiYG_4',\n",
       " 'PiYG_4_r',\n",
       " 'PiYG_5',\n",
       " 'PiYG_5_r',\n",
       " 'PiYG_6',\n",
       " 'PiYG_6_r',\n",
       " 'PiYG_7',\n",
       " 'PiYG_7_r',\n",
       " 'PiYG_8',\n",
       " 'PiYG_8_r',\n",
       " 'PiYG_9',\n",
       " 'PiYG_9_r',\n",
       " 'PuOr_10',\n",
       " 'PuOr_10_r',\n",
       " 'PuOr_11',\n",
       " 'PuOr_11_r',\n",
       " 'PuOr_3',\n",
       " 'PuOr_3_r',\n",
       " 'PuOr_4',\n",
       " 'PuOr_4_r',\n",
       " 'PuOr_5',\n",
       " 'PuOr_5_r',\n",
       " 'PuOr_6',\n",
       " 'PuOr_6_r',\n",
       " 'PuOr_7',\n",
       " 'PuOr_7_r',\n",
       " 'PuOr_8',\n",
       " 'PuOr_8_r',\n",
       " 'PuOr_9',\n",
       " 'PuOr_9_r',\n",
       " 'RdBu_10',\n",
       " 'RdBu_10_r',\n",
       " 'RdBu_11',\n",
       " 'RdBu_11_r',\n",
       " 'RdBu_3',\n",
       " 'RdBu_3_r',\n",
       " 'RdBu_4',\n",
       " 'RdBu_4_r',\n",
       " 'RdBu_5',\n",
       " 'RdBu_5_r',\n",
       " 'RdBu_6',\n",
       " 'RdBu_6_r',\n",
       " 'RdBu_7',\n",
       " 'RdBu_7_r',\n",
       " 'RdBu_8',\n",
       " 'RdBu_8_r',\n",
       " 'RdBu_9',\n",
       " 'RdBu_9_r',\n",
       " 'RdGy_10',\n",
       " 'RdGy_10_r',\n",
       " 'RdGy_11',\n",
       " 'RdGy_11_r',\n",
       " 'RdGy_3',\n",
       " 'RdGy_3_r',\n",
       " 'RdGy_4',\n",
       " 'RdGy_4_r',\n",
       " 'RdGy_5',\n",
       " 'RdGy_5_r',\n",
       " 'RdGy_6',\n",
       " 'RdGy_6_r',\n",
       " 'RdGy_7',\n",
       " 'RdGy_7_r',\n",
       " 'RdGy_8',\n",
       " 'RdGy_8_r',\n",
       " 'RdGy_9',\n",
       " 'RdGy_9_r',\n",
       " 'RdYlBu_10',\n",
       " 'RdYlBu_10_r',\n",
       " 'RdYlBu_11',\n",
       " 'RdYlBu_11_r',\n",
       " 'RdYlBu_3',\n",
       " 'RdYlBu_3_r',\n",
       " 'RdYlBu_4',\n",
       " 'RdYlBu_4_r',\n",
       " 'RdYlBu_5',\n",
       " 'RdYlBu_5_r',\n",
       " 'RdYlBu_6',\n",
       " 'RdYlBu_6_r',\n",
       " 'RdYlBu_7',\n",
       " 'RdYlBu_7_r',\n",
       " 'RdYlBu_8',\n",
       " 'RdYlBu_8_r',\n",
       " 'RdYlBu_9',\n",
       " 'RdYlBu_9_r',\n",
       " 'RdYlGn_10',\n",
       " 'RdYlGn_10_r',\n",
       " 'RdYlGn_11',\n",
       " 'RdYlGn_11_r',\n",
       " 'RdYlGn_3',\n",
       " 'RdYlGn_3_r',\n",
       " 'RdYlGn_4',\n",
       " 'RdYlGn_4_r',\n",
       " 'RdYlGn_5',\n",
       " 'RdYlGn_5_r',\n",
       " 'RdYlGn_6',\n",
       " 'RdYlGn_6_r',\n",
       " 'RdYlGn_7',\n",
       " 'RdYlGn_7_r',\n",
       " 'RdYlGn_8',\n",
       " 'RdYlGn_8_r',\n",
       " 'RdYlGn_9',\n",
       " 'RdYlGn_9_r',\n",
       " 'Spectral_10',\n",
       " 'Spectral_10_r',\n",
       " 'Spectral_11',\n",
       " 'Spectral_11_r',\n",
       " 'Spectral_3',\n",
       " 'Spectral_3_r',\n",
       " 'Spectral_4',\n",
       " 'Spectral_4_r',\n",
       " 'Spectral_5',\n",
       " 'Spectral_5_r',\n",
       " 'Spectral_6',\n",
       " 'Spectral_6_r',\n",
       " 'Spectral_7',\n",
       " 'Spectral_7_r',\n",
       " 'Spectral_8',\n",
       " 'Spectral_8_r',\n",
       " 'Spectral_9',\n",
       " 'Spectral_9_r',\n",
       " '__builtins__',\n",
       " '__cached__',\n",
       " '__doc__',\n",
       " '__file__',\n",
       " '__loader__',\n",
       " '__name__',\n",
       " '__package__',\n",
       " '__spec__',\n",
       " '_load_maps_by_type',\n",
       " 'absolute_import']"
      ]
     },
     "execution_count": 66,
     "metadata": {},
     "output_type": "execute_result"
    }
   ],
   "source": [
    "div = palettable.colorbrewer.diverging\n",
    "dir(div)"
   ]
  },
  {
   "cell_type": "code",
   "execution_count": 67,
   "metadata": {},
   "outputs": [
    {
     "name": "stdout",
     "output_type": "stream",
     "text": [
      "BrBG_r\n",
      "PiYG_r\n",
      "PRGn_r\n",
      "PuOr_r\n",
      "RdBu_r\n",
      "RdGy_r\n",
      "RdYlBu_r\n",
      "RdYlGn_r\n",
      "Spectral_r\n"
     ]
    }
   ],
   "source": [
    "def get_colormaps(collection, suffix):\n",
    "    for palette in collection.__dict__:\n",
    "        if palette.endswith(suffix):\n",
    "            yield getattr(collection, palette)\n",
    "            \n",
    "for palette in get_colormaps(div, '11_r'):\n",
    "    print(palette.name)"
   ]
  },
  {
   "cell_type": "code",
   "execution_count": 58,
   "metadata": {},
   "outputs": [
    {
     "data": {
      "text/plain": [
       "['#543005',\n",
       " '#8C510A',\n",
       " '#BF812D',\n",
       " '#DFC27D',\n",
       " '#F6E8C3',\n",
       " '#F5F5F5',\n",
       " '#C7EAE5',\n",
       " '#80CDC1',\n",
       " '#35978F',\n",
       " '#01665E',\n",
       " '#003C30']"
      ]
     },
     "execution_count": 58,
     "metadata": {},
     "output_type": "execute_result"
    }
   ],
   "source": [
    "div.BrBG_11.hex_colors"
   ]
  },
  {
   "cell_type": "code",
   "execution_count": 59,
   "metadata": {},
   "outputs": [
    {
     "name": "stdout",
     "output_type": "stream",
     "text": [
      "Accent\n",
      "Dark2\n",
      "Paired\n",
      "Pastel1\n",
      "Pastel2\n",
      "Set1\n",
      "Set2\n",
      "Set3\n"
     ]
    }
   ],
   "source": [
    "qual = palettable.colorbrewer.qualitative\n",
    "for palette in get_colormaps(qual, '8'):\n",
    "    print(palette.name)"
   ]
  },
  {
   "cell_type": "code",
   "execution_count": 68,
   "metadata": {},
   "outputs": [
    {
     "name": "stdout",
     "output_type": "stream",
     "text": [
      "Blues_r\n",
      "BuGn_r\n",
      "BuPu_r\n",
      "GnBu_r\n",
      "Greens_r\n",
      "Greys_r\n",
      "Oranges_r\n",
      "OrRd_r\n",
      "PuBu_r\n",
      "PuBuGn_r\n",
      "PuRd_r\n",
      "Purples_r\n",
      "RdPu_r\n",
      "Reds_r\n",
      "YlGn_r\n",
      "YlGnBu_r\n",
      "YlOrBr_r\n",
      "YlOrRd_r\n"
     ]
    }
   ],
   "source": [
    "seq = palettable.colorbrewer.sequential\n",
    "for palette in get_colormaps(seq, '9'):\n",
    "    print(palette.name)"
   ]
  },
  {
   "cell_type": "code",
   "execution_count": 69,
   "metadata": {
    "collapsed": true
   },
   "outputs": [],
   "source": [
    "head = \"\"\"<?xml version=\"1.0\" encoding=\"UTF-8\"?>\n",
    "\n",
    "<office:color-table xmlns:office=\"http://openoffice.org/2000/office\" xmlns:style=\"http://openoffice.org/2000/style\" xmlns:text=\"http://openoffice.org/2000/text\" xmlns:table=\"http://openoffice.org/2000/table\" xmlns:draw=\"http://openoffice.org/2000/drawing\" xmlns:fo=\"http://www.w3.org/1999/XSL/Format\" xmlns:xlink=\"http://www.w3.org/1999/xlink\" xmlns:dc=\"http://purl.org/dc/elements/1.1/\" xmlns:meta=\"http://openoffice.org/2000/meta\" xmlns:number=\"http://openoffice.org/2000/datastyle\" xmlns:svg=\"http://www.w3.org/2000/svg\" xmlns:chart=\"http://openoffice.org/2000/chart\" xmlns:dr3d=\"http://openoffice.org/2000/dr3d\" xmlns:math=\"http://www.w3.org/1998/Math/MathML\" xmlns:form=\"http://openoffice.org/2000/form\" xmlns:script=\"http://openoffice.org/2000/script\">\n",
    "\"\"\"\n",
    "\n",
    "template = '<draw:color draw:name=\"%s\" draw:color=\"%s\"/>\\n'\n",
    "            \n",
    "tail = \"</office:color-table>\"\n"
   ]
  },
  {
   "cell_type": "code",
   "execution_count": 70,
   "metadata": {},
   "outputs": [
    {
     "name": "stdout",
     "output_type": "stream",
     "text": [
      "<draw:color draw:name=\"Blues1\" draw:color=\"#F7FBFF\"/>\n",
      "\n",
      "<draw:color draw:name=\"Blues2\" draw:color=\"#DEEBF7\"/>\n",
      "\n",
      "<draw:color draw:name=\"Blues3\" draw:color=\"#C6DBEF\"/>\n",
      "\n",
      "<draw:color draw:name=\"Blues4\" draw:color=\"#9ECAE1\"/>\n",
      "\n",
      "<draw:color draw:name=\"Blues5\" draw:color=\"#6BAED6\"/>\n",
      "\n",
      "<draw:color draw:name=\"Blues6\" draw:color=\"#4292C6\"/>\n",
      "\n",
      "<draw:color draw:name=\"Blues7\" draw:color=\"#2171B5\"/>\n",
      "\n",
      "<draw:color draw:name=\"Blues8\" draw:color=\"#08519C\"/>\n",
      "\n",
      "<draw:color draw:name=\"Blues9\" draw:color=\"#08306B\"/>\n",
      "\n"
     ]
    }
   ],
   "source": [
    "colormap = seq.Blues_9\n",
    "\n",
    "for i, color in enumerate(colormap.hex_colors):\n",
    "    name = colormap.name + str(i+1)\n",
    "    line = template % (name, color)\n",
    "    print(line)"
   ]
  },
  {
   "cell_type": "code",
   "execution_count": 97,
   "metadata": {},
   "outputs": [],
   "source": [
    "def start_table():\n",
    "    f = open('allen.soc', 'w')\n",
    "    f.write(head)\n",
    "    return f\n",
    "\n",
    "def write_colormap(f, colormap):\n",
    "    for i, color in enumerate(colormap.hex_colors):\n",
    "        name = colormap.name + str(i+1)\n",
    "        line = template % (name, color)\n",
    "        f.write(line)\n",
    "\n",
    "next_level = 255\n",
    "\n",
    "def write_gray(f):\n",
    "    global next_level\n",
    "    \n",
    "    level = '%0.2x' % next_level\n",
    "    next_level -= 3\n",
    "    name = 'gray%s' % level\n",
    "    color = '#%s%s%s' % (level, level, level)\n",
    "    line = template % (name, color)\n",
    "    f.write(line)\n",
    "\n",
    "def end_table(f):\n",
    "    f.write(tail)\n",
    "    f.close()"
   ]
  },
  {
   "cell_type": "code",
   "execution_count": 98,
   "metadata": {},
   "outputs": [],
   "source": [
    "f = start_table()\n",
    "\n",
    "for colormap in get_colormaps(seq, '9'):\n",
    "    for i in range(3):\n",
    "        write_gray(f)\n",
    "    write_colormap(f, colormap)\n",
    "\n",
    "end_table(f)"
   ]
  },
  {
   "cell_type": "code",
   "execution_count": null,
   "metadata": {
    "collapsed": true
   },
   "outputs": [],
   "source": []
  }
 ],
 "metadata": {
  "kernelspec": {
   "display_name": "Python 3",
   "language": "python",
   "name": "python3"
  },
  "language_info": {
   "codemirror_mode": {
    "name": "ipython",
    "version": 3
   },
   "file_extension": ".py",
   "mimetype": "text/x-python",
   "name": "python",
   "nbconvert_exporter": "python",
   "pygments_lexer": "ipython3",
   "version": "3.6.1"
  }
 },
 "nbformat": 4,
 "nbformat_minor": 2
}
