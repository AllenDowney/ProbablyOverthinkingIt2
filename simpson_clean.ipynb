{
 "cells": [
  {
   "cell_type": "markdown",
   "metadata": {},
   "source": [
    "# Data cleaning for exploring Simpson's paradox"
   ]
  },
  {
   "cell_type": "markdown",
   "metadata": {},
   "source": [
    "Copyright 2021 Allen B. Downey\n",
    "\n",
    "License: [Attribution-NonCommercial-ShareAlike 4.0 International (CC BY-NC-SA 4.0)](https://creativecommons.org/licenses/by-nc-sa/4.0/)\n",
    "\n",
    "[Click here to run this notebook on Colab](https://colab.research.google.com/github/AllenDowney/ProbablyOverthinkingIt2/blob/master/simpson_wages.ipynb)"
   ]
  },
  {
   "cell_type": "markdown",
   "metadata": {},
   "source": []
  },
  {
   "cell_type": "code",
   "execution_count": 2,
   "metadata": {},
   "outputs": [],
   "source": [
    "import numpy as np\n",
    "import pandas as pd\n",
    "import matplotlib.pyplot as plt"
   ]
  },
  {
   "cell_type": "code",
   "execution_count": 3,
   "metadata": {},
   "outputs": [
    {
     "data": {
      "text/plain": [
       "(64814, 169)"
      ]
     },
     "execution_count": 3,
     "metadata": {},
     "output_type": "execute_result"
    }
   ],
   "source": [
    "gss = pd.read_hdf('gss_eda.3.hdf5', 'gss0')\n",
    "gss.shape"
   ]
  },
  {
   "cell_type": "code",
   "execution_count": 4,
   "metadata": {},
   "outputs": [],
   "source": [
    "recode_polviews = {1:'Liberal', \n",
    "                   2:'Liberal', \n",
    "                   3:'Liberal', \n",
    "                   4:'Moderate', \n",
    "                   5:'Conservative', \n",
    "                   6:'Conservative', \n",
    "                   7:'Conservative'}"
   ]
  },
  {
   "cell_type": "code",
   "execution_count": 5,
   "metadata": {},
   "outputs": [
    {
     "data": {
      "text/plain": [
       "Moderate        21444\n",
       "Conservative    19129\n",
       "Liberal         14979\n",
       "Name: polviews3, dtype: int64"
      ]
     },
     "execution_count": 5,
     "metadata": {},
     "output_type": "execute_result"
    }
   ],
   "source": [
    "gss['polviews3'] = gss['polviews'].replace(recode_polviews)\n",
    "gss['polviews3'].value_counts()"
   ]
  },
  {
   "cell_type": "markdown",
   "metadata": {},
   "source": [
    ">Generally speaking, do you usually think of yourself as a Republican, Democrat, Independent, or what?\n",
    "\n",
    "The valid responses are:\n",
    "\n",
    "```\n",
    "0\tStrong democrat\n",
    "1\tNot str democrat\n",
    "2\tInd,near dem\n",
    "3\tIndependent\n",
    "4\tInd,near rep\n",
    "5\tNot str republican\n",
    "6\tStrong republican\n",
    "7\tOther party\n",
    "```\n",
    "\n",
    "You can [read the codebook for `partyid` here](https://gssdataexplorer.norc.org/projects/52787/variables/141/vshow)."
   ]
  },
  {
   "cell_type": "code",
   "execution_count": 6,
   "metadata": {},
   "outputs": [],
   "source": [
    "recode_partyid = {0: 'Democrat',\n",
    "                  1:'Democrat', \n",
    "                   2:'Independent', \n",
    "                   3:'Independent', \n",
    "                   4:'Independent', \n",
    "                   5:'Republican', \n",
    "                   6:'Republican', \n",
    "                   7:'Other'}"
   ]
  },
  {
   "cell_type": "code",
   "execution_count": 7,
   "metadata": {},
   "outputs": [
    {
     "data": {
      "text/plain": [
       "Independent    23404\n",
       "Democrat       23308\n",
       "Republican     16617\n",
       "Other           1064\n",
       "Name: partyid4, dtype: int64"
      ]
     },
     "execution_count": 7,
     "metadata": {},
     "output_type": "execute_result"
    }
   ],
   "source": [
    "gss['partyid4'] = gss['partyid'].replace(recode_partyid)\n",
    "gss['partyid4'].value_counts()"
   ]
  },
  {
   "cell_type": "markdown",
   "metadata": {},
   "source": [
    "Respondent's highest degree\n",
    "\n",
    "```\n",
    "0 \tLt high school\n",
    "1 \tHigh school\n",
    "2 \tJunior college\n",
    "3 \tBachelor\n",
    "4 \tGraduate\n",
    "8 \tDon't know\n",
    "9 \tNo answer\n",
    "```\n",
    "\n"
   ]
  },
  {
   "cell_type": "code",
   "execution_count": 8,
   "metadata": {},
   "outputs": [
    {
     "data": {
      "text/plain": [
       "1.0    33855\n",
       "0.0    13274\n",
       "3.0     9277\n",
       "4.0     4465\n",
       "2.0     3759\n",
       "Name: degree, dtype: int64"
      ]
     },
     "execution_count": 8,
     "metadata": {},
     "output_type": "execute_result"
    }
   ],
   "source": [
    "gss['degree'].value_counts()"
   ]
  },
  {
   "cell_type": "markdown",
   "metadata": {},
   "source": [
    "> What is your religious preference? Is it Protestant, Catholic, Jewish, some other religion, or no religion?\n",
    "\n",
    "```\n",
    "1 \tProtestant\n",
    "2 \tCatholic\n",
    "3 \tJewish\n",
    "4 \tNone\n",
    "5 \tOther\n",
    "6 \tBuddhism\n",
    "7 \tHinduism\n",
    "8 \tOther eastern\n",
    "9 \tMoslem/islam\n",
    "10 \tOrthodox-christian\n",
    "11 \tChristian\n",
    "12 \tNative american\n",
    "13 \tInter-nondenominational\n",
    "```\n",
    "\n"
   ]
  },
  {
   "cell_type": "code",
   "execution_count": 9,
   "metadata": {},
   "outputs": [],
   "source": [
    "recode_relig = {1:'Protestant', \n",
    "                   2:'Catholic', \n",
    "                   3:'Other', \n",
    "                   4:'None', \n",
    "                   5:'Other', \n",
    "                   6:'Other', \n",
    "                   7:'Other', \n",
    "                   8:'Other', \n",
    "                   9:'Other', \n",
    "                   10:'Other Christian', \n",
    "                   11:'Other Christian', \n",
    "                   12:'Other', \n",
    "                   13:'Other'}"
   ]
  },
  {
   "cell_type": "code",
   "execution_count": 10,
   "metadata": {},
   "outputs": [
    {
     "data": {
      "text/plain": [
       "Protestant         36378\n",
       "Catholic           16501\n",
       "None                7803\n",
       "Other               2966\n",
       "Other Christian      896\n",
       "Name: relig5, dtype: int64"
      ]
     },
     "execution_count": 10,
     "metadata": {},
     "output_type": "execute_result"
    }
   ],
   "source": [
    "gss['relig5'] = gss['relig'].replace(recode_relig)\n",
    "gss['relig5'].value_counts()"
   ]
  },
  {
   "cell_type": "markdown",
   "metadata": {},
   "source": [
    "> If you were asked to use one of four names for your social class, which would you say you belong in: the lower class, the working class, the middle class, or the upper class?\n",
    " \n",
    "```\n",
    "1 \tLower class\n",
    "2 \tWorking class\n",
    "3 \tMiddle class\n",
    "4 \tUpper class\n",
    "5 \tNo class\n",
    "8 \tDon't know\n",
    "9 \tNo answer\n",
    "0 \tNot applicable\n",
    "```"
   ]
  },
  {
   "cell_type": "code",
   "execution_count": 11,
   "metadata": {},
   "outputs": [],
   "source": [
    "recode_class = {1:'Lower class', \n",
    "                   2:'Working class', \n",
    "                   3:'Middle class', \n",
    "                   4:'Upper class', \n",
    "                   }"
   ]
  },
  {
   "cell_type": "code",
   "execution_count": 12,
   "metadata": {},
   "outputs": [
    {
     "data": {
      "text/plain": [
       "Working class    28215\n",
       "Middle class     27746\n",
       "Lower class       3398\n",
       "Upper class       1969\n",
       "Name: class, dtype: int64"
      ]
     },
     "execution_count": 12,
     "metadata": {},
     "output_type": "execute_result"
    }
   ],
   "source": [
    "gss['class'] = gss['class_'].replace(recode_class)\n",
    "gss['class'].value_counts()"
   ]
  },
  {
   "cell_type": "markdown",
   "metadata": {},
   "source": [
    "```\n",
    "0 \tLt high school\n",
    "1 \tHigh school\n",
    "2 \tJunior college\n",
    "3 \tBachelor\n",
    "4 \tGraduate\n",
    "```"
   ]
  },
  {
   "cell_type": "code",
   "execution_count": 13,
   "metadata": {},
   "outputs": [],
   "source": [
    "recode_degree = {0: 'Less than high school',\n",
    "                  1:'High school', \n",
    "                   2:'Junior college', \n",
    "                   3:'Bachelor', \n",
    "                   4:'Graduate'}"
   ]
  },
  {
   "cell_type": "code",
   "execution_count": 14,
   "metadata": {},
   "outputs": [
    {
     "data": {
      "text/plain": [
       "High school              33855\n",
       "Less than high school    13274\n",
       "Bachelor                  9277\n",
       "Graduate                  4465\n",
       "Junior college            3759\n",
       "Name: degree5, dtype: int64"
      ]
     },
     "execution_count": 14,
     "metadata": {},
     "output_type": "execute_result"
    }
   ],
   "source": [
    "gss['degree5'] = gss['degree'].replace(recode_degree)\n",
    "gss['degree5'].value_counts()"
   ]
  },
  {
   "cell_type": "markdown",
   "metadata": {},
   "source": [
    "AGE"
   ]
  },
  {
   "cell_type": "code",
   "execution_count": 62,
   "metadata": {},
   "outputs": [
    {
     "data": {
      "text/plain": [
       "count    64633.000000\n",
       "mean        44.733635\n",
       "std         17.089962\n",
       "min         18.000000\n",
       "25%         30.000000\n",
       "50%         43.000000\n",
       "75%         57.000000\n",
       "max         89.000000\n",
       "Name: age, dtype: float64"
      ]
     },
     "execution_count": 62,
     "metadata": {},
     "output_type": "execute_result"
    }
   ],
   "source": [
    "gss['age'].describe()"
   ]
  },
  {
   "cell_type": "code",
   "execution_count": 63,
   "metadata": {},
   "outputs": [
    {
     "data": {
      "text/plain": [
       "0    60.0\n",
       "1    53.0\n",
       "2    72.0\n",
       "3    19.0\n",
       "4    44.0\n",
       "Name: age, dtype: float32"
      ]
     },
     "execution_count": 63,
     "metadata": {},
     "output_type": "execute_result"
    }
   ],
   "source": [
    "gss['age'].head()"
   ]
  },
  {
   "cell_type": "code",
   "execution_count": 65,
   "metadata": {},
   "outputs": [
    {
     "name": "stdout",
     "output_type": "stream",
     "text": [
      "16\n"
     ]
    },
    {
     "data": {
      "text/plain": [
       "array([17, 22, 27, 32, 37, 42, 47, 52, 57, 62, 67, 72, 77, 82, 87, 92])"
      ]
     },
     "execution_count": 65,
     "metadata": {},
     "output_type": "execute_result"
    }
   ],
   "source": [
    "bins = np.arange(17, 95, 5)\n",
    "print(len(bins))\n",
    "bins"
   ]
  },
  {
   "cell_type": "code",
   "execution_count": 60,
   "metadata": {},
   "outputs": [
    {
     "data": {
      "text/plain": [
       "0    60.0\n",
       "1    55.0\n",
       "2    70.0\n",
       "3    20.0\n",
       "4    45.0\n",
       "Name: age5, dtype: float64"
      ]
     },
     "execution_count": 60,
     "metadata": {},
     "output_type": "execute_result"
    }
   ],
   "source": [
    "labels = bins[:-1] + 3\n",
    "\n",
    "gss['age5'] = pd.cut(gss['age'], bins, labels=labels).astype(float)\n",
    "gss['age5'].head()"
   ]
  },
  {
   "cell_type": "code",
   "execution_count": 66,
   "metadata": {},
   "outputs": [
    {
     "data": {
      "text/plain": [
       "20.0    5308\n",
       "25.0    7010\n",
       "30.0    6776\n",
       "35.0    6534\n",
       "40.0    6176\n",
       "45.0    6103\n",
       "50.0    5763\n",
       "55.0    5153\n",
       "60.0    4457\n",
       "65.0    3719\n",
       "70.0    3044\n",
       "75.0    2155\n",
       "80.0    1329\n",
       "85.0     731\n",
       "90.0     375\n",
       "Name: age5, dtype: int64"
      ]
     },
     "execution_count": 66,
     "metadata": {},
     "output_type": "execute_result"
    }
   ],
   "source": [
    "gss['age5'].value_counts().sort_index()"
   ]
  },
  {
   "cell_type": "code",
   "execution_count": null,
   "metadata": {},
   "outputs": [],
   "source": []
  },
  {
   "cell_type": "code",
   "execution_count": 67,
   "metadata": {},
   "outputs": [
    {
     "data": {
      "text/plain": [
       "0    1912.0\n",
       "1    1919.0\n",
       "2    1900.0\n",
       "3    1953.0\n",
       "4    1928.0\n",
       "Name: cohort, dtype: float32"
      ]
     },
     "execution_count": 67,
     "metadata": {},
     "output_type": "execute_result"
    }
   ],
   "source": [
    "gss['cohort'].head()"
   ]
  },
  {
   "cell_type": "code",
   "execution_count": 68,
   "metadata": {},
   "outputs": [
    {
     "data": {
      "text/plain": [
       "0    1910.0\n",
       "1    1910.0\n",
       "2    1900.0\n",
       "3    1950.0\n",
       "4    1920.0\n",
       "Name: cohort10, dtype: float64"
      ]
     },
     "execution_count": 68,
     "metadata": {},
     "output_type": "execute_result"
    }
   ],
   "source": [
    "bins = np.arange(1889, 2001, 10)\n",
    "labels = bins[:-1] + 1\n",
    "\n",
    "gss['cohort10'] = pd.cut(gss['cohort'], bins, labels=labels).astype(float)\n",
    "gss['cohort10'].head()"
   ]
  },
  {
   "cell_type": "code",
   "execution_count": 69,
   "metadata": {},
   "outputs": [
    {
     "data": {
      "text/plain": [
       "1890.0      455\n",
       "1900.0     1717\n",
       "1910.0     3663\n",
       "1920.0     5959\n",
       "1930.0     6889\n",
       "1940.0    10463\n",
       "1950.0    13422\n",
       "1960.0    10123\n",
       "1970.0     6705\n",
       "1980.0     3821\n",
       "1990.0     1345\n",
       "Name: cohort10, dtype: int64"
      ]
     },
     "execution_count": 69,
     "metadata": {},
     "output_type": "execute_result"
    }
   ],
   "source": [
    "gss['cohort10'].value_counts().sort_index()"
   ]
  },
  {
   "cell_type": "code",
   "execution_count": null,
   "metadata": {},
   "outputs": [],
   "source": []
  },
  {
   "cell_type": "code",
   "execution_count": 70,
   "metadata": {},
   "outputs": [
    {
     "data": {
      "text/plain": [
       "64809    2018\n",
       "64810    2018\n",
       "64811    2018\n",
       "64812    2018\n",
       "64813    2018\n",
       "Name: year, dtype: int64"
      ]
     },
     "execution_count": 70,
     "metadata": {},
     "output_type": "execute_result"
    }
   ],
   "source": [
    "gss['year'].tail()"
   ]
  },
  {
   "cell_type": "code",
   "execution_count": 71,
   "metadata": {},
   "outputs": [
    {
     "data": {
      "text/plain": [
       "array([1970, 1975, 1980, 1985, 1990, 1995, 2000, 2005, 2010, 2015, 2020])"
      ]
     },
     "execution_count": 71,
     "metadata": {},
     "output_type": "execute_result"
    }
   ],
   "source": [
    "bins = np.arange(1970, 2025, 5)\n",
    "bins"
   ]
  },
  {
   "cell_type": "code",
   "execution_count": 72,
   "metadata": {},
   "outputs": [
    {
     "data": {
      "text/plain": [
       "64809    2017.0\n",
       "64810    2017.0\n",
       "64811    2017.0\n",
       "64812    2017.0\n",
       "64813    2017.0\n",
       "Name: year5, dtype: float64"
      ]
     },
     "execution_count": 72,
     "metadata": {},
     "output_type": "execute_result"
    }
   ],
   "source": [
    "labels = bins[:-1] + 2\n",
    "\n",
    "gss['year5'] = pd.cut(gss['year'], bins, labels=labels).astype(float)\n",
    "gss['year5'].tail()"
   ]
  },
  {
   "cell_type": "code",
   "execution_count": 73,
   "metadata": {},
   "outputs": [
    {
     "data": {
      "text/plain": [
       "1972.0    6091\n",
       "1977.0    6029\n",
       "1982.0    6466\n",
       "1987.0    7679\n",
       "1992.0    6115\n",
       "1997.0    8553\n",
       "2002.0    5577\n",
       "2007.0    8577\n",
       "2012.0    4512\n",
       "2017.0    5215\n",
       "Name: year5, dtype: int64"
      ]
     },
     "execution_count": 73,
     "metadata": {},
     "output_type": "execute_result"
    }
   ],
   "source": [
    "gss['year5'].value_counts().sort_index()"
   ]
  },
  {
   "cell_type": "code",
   "execution_count": null,
   "metadata": {},
   "outputs": [],
   "source": []
  },
  {
   "cell_type": "code",
   "execution_count": null,
   "metadata": {},
   "outputs": [],
   "source": []
  },
  {
   "cell_type": "markdown",
   "metadata": {},
   "source": [
    "Family income on 1972-2006 surveys in constant dollars (base = 1986)"
   ]
  },
  {
   "cell_type": "code",
   "execution_count": 74,
   "metadata": {},
   "outputs": [
    {
     "data": {
      "text/plain": [
       "count     57728.000000\n",
       "mean      34807.546875\n",
       "std       30804.416016\n",
       "min         227.000000\n",
       "25%       14015.000000\n",
       "50%       26015.000000\n",
       "75%       44178.750000\n",
       "max      162607.000000\n",
       "Name: realinc, dtype: float64"
      ]
     },
     "execution_count": 74,
     "metadata": {},
     "output_type": "execute_result"
    }
   ],
   "source": [
    "gss['realinc'].describe()"
   ]
  },
  {
   "cell_type": "code",
   "execution_count": 75,
   "metadata": {},
   "outputs": [
    {
     "data": {
      "text/plain": [
       "count    57728.000000\n",
       "mean         4.370259\n",
       "std          0.433391\n",
       "min          2.356026\n",
       "25%          4.146593\n",
       "50%          4.415224\n",
       "75%          4.645214\n",
       "max          5.211139\n",
       "Name: log_realinc, dtype: float64"
      ]
     },
     "execution_count": 75,
     "metadata": {},
     "output_type": "execute_result"
    }
   ],
   "source": [
    "gss['log_realinc'] = np.log10(gss['realinc'])\n",
    "gss['log_realinc'].describe()"
   ]
  },
  {
   "cell_type": "code",
   "execution_count": 76,
   "metadata": {},
   "outputs": [
    {
     "data": {
      "text/plain": [
       "0    (4.415, 4.507]\n",
       "1    (4.329, 4.415]\n",
       "2    (2.355, 3.829]\n",
       "3    (4.507, 4.587]\n",
       "4    (4.587, 4.688]\n",
       "Name: log_realinc, dtype: category\n",
       "Categories (10, interval[float64]): [(2.355, 3.829] < (3.829, 4.07] < (4.07, 4.22] < (4.22, 4.329] ... (4.507, 4.587] < (4.587, 4.688] < (4.688, 4.861] < (4.861, 5.211]]"
      ]
     },
     "execution_count": 76,
     "metadata": {},
     "output_type": "execute_result"
    }
   ],
   "source": [
    "temp, bins = pd.qcut(gss['log_realinc'], 10, retbins=True)\n",
    "temp.head()"
   ]
  },
  {
   "cell_type": "code",
   "execution_count": 77,
   "metadata": {},
   "outputs": [
    {
     "data": {
      "text/plain": [
       "array([2.35602593, 3.82872438, 4.07044411, 4.21950579, 4.32876158,\n",
       "       4.41522408, 4.50650501, 4.58669996, 4.68833065, 4.86117601,\n",
       "       5.2111392 ])"
      ]
     },
     "execution_count": 77,
     "metadata": {},
     "output_type": "execute_result"
    }
   ],
   "source": [
    "bins"
   ]
  },
  {
   "cell_type": "code",
   "execution_count": 78,
   "metadata": {},
   "outputs": [
    {
     "data": {
      "text/plain": [
       "array([3.09237516, 3.94958425, 4.14497495, 4.27413368, 4.37199283,\n",
       "       4.46086454, 4.54660249, 4.63751531, 4.77475333, 5.03615761])"
      ]
     },
     "execution_count": 78,
     "metadata": {},
     "output_type": "execute_result"
    }
   ],
   "source": [
    "labels = np.diff(bins) / 2 + bins[:-1]\n",
    "labels"
   ]
  },
  {
   "cell_type": "code",
   "execution_count": 81,
   "metadata": {},
   "outputs": [
    {
     "data": {
      "text/plain": [
       "0    4.460865\n",
       "1    4.371993\n",
       "2    3.092375\n",
       "3    4.546602\n",
       "4    4.637515\n",
       "Name: log_realinc10, dtype: float64"
      ]
     },
     "execution_count": 81,
     "metadata": {},
     "output_type": "execute_result"
    }
   ],
   "source": [
    "gss['log_realinc10'] = pd.cut(gss['log_realinc'], bins, labels=labels).astype(float)\n",
    "gss['log_realinc10'].head()"
   ]
  },
  {
   "cell_type": "code",
   "execution_count": 82,
   "metadata": {},
   "outputs": [
    {
     "name": "stderr",
     "output_type": "stream",
     "text": [
      "/home/downey/anaconda3/envs/ProbablyOverthinkingIt/lib/python3.9/site-packages/pandas/core/generic.py:2606: PerformanceWarning: \n",
      "your performance may suffer as PyTables will pickle object types that it cannot\n",
      "map directly to c-types [inferred_type->mixed,key->block3_values] [items->Index(['polviews3', 'partyid4', 'relig5', 'class', 'degree5'], dtype='object')]\n",
      "\n",
      "  pytables.to_hdf(\n"
     ]
    }
   ],
   "source": [
    "gss.to_hdf('gss_simpson', 'gss')"
   ]
  },
  {
   "cell_type": "code",
   "execution_count": null,
   "metadata": {},
   "outputs": [],
   "source": []
  }
 ],
 "metadata": {
  "kernelspec": {
   "display_name": "Python 3",
   "language": "python",
   "name": "python3"
  },
  "language_info": {
   "codemirror_mode": {
    "name": "ipython",
    "version": 3
   },
   "file_extension": ".py",
   "mimetype": "text/x-python",
   "name": "python",
   "nbconvert_exporter": "python",
   "pygments_lexer": "ipython3",
   "version": "3.9.2"
  }
 },
 "nbformat": 4,
 "nbformat_minor": 2
}
