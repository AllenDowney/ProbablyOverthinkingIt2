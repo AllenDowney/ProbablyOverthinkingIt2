{
 "cells": [
  {
   "cell_type": "markdown",
   "metadata": {},
   "source": [
    "# Searching for Simpson"
   ]
  },
  {
   "cell_type": "markdown",
   "metadata": {},
   "source": [
    "Copyright 2021 Allen B. Downey\n",
    "\n",
    "License: [Attribution-NonCommercial-ShareAlike 4.0 International (CC BY-NC-SA 4.0)](https://creativecommons.org/licenses/by-nc-sa/4.0/)\n",
    "\n",
    "[Click here to run this notebook on Colab](https://colab.research.google.com/github/AllenDowney/ProbablyOverthinkingIt2/blob/master/simpson_wages.ipynb)"
   ]
  },
  {
   "cell_type": "markdown",
   "metadata": {},
   "source": []
  },
  {
   "cell_type": "code",
   "execution_count": 1,
   "metadata": {},
   "outputs": [],
   "source": [
    "import numpy as np\n",
    "import pandas as pd\n",
    "import matplotlib.pyplot as plt"
   ]
  },
  {
   "cell_type": "code",
   "execution_count": 2,
   "metadata": {},
   "outputs": [
    {
     "data": {
      "text/plain": [
       "(64814, 169)"
      ]
     },
     "execution_count": 2,
     "metadata": {},
     "output_type": "execute_result"
    }
   ],
   "source": [
    "gss = pd.read_hdf('gss_eda.3.hdf5', 'gss0')\n",
    "gss.shape"
   ]
  },
  {
   "cell_type": "code",
   "execution_count": 3,
   "metadata": {},
   "outputs": [],
   "source": [
    "recode_polviews = {1:'Liberal', \n",
    "                   2:'Liberal', \n",
    "                   3:'Liberal', \n",
    "                   4:'Moderate', \n",
    "                   5:'Conservative', \n",
    "                   6:'Conservative', \n",
    "                   7:'Conservative'}"
   ]
  },
  {
   "cell_type": "code",
   "execution_count": 4,
   "metadata": {},
   "outputs": [
    {
     "data": {
      "text/plain": [
       "Moderate        21444\n",
       "Conservative    19129\n",
       "Liberal         14979\n",
       "Name: polviews3, dtype: int64"
      ]
     },
     "execution_count": 4,
     "metadata": {},
     "output_type": "execute_result"
    }
   ],
   "source": [
    "gss['polviews3'] = gss['polviews'].replace(recode_polviews)\n",
    "gss['polviews3'].value_counts()"
   ]
  },
  {
   "cell_type": "markdown",
   "metadata": {},
   "source": [
    ">Generally speaking, do you usually think of yourself as a Republican, Democrat, Independent, or what?\n",
    "\n",
    "The valid responses are:\n",
    "\n",
    "```\n",
    "0\tStrong democrat\n",
    "1\tNot str democrat\n",
    "2\tInd,near dem\n",
    "3\tIndependent\n",
    "4\tInd,near rep\n",
    "5\tNot str republican\n",
    "6\tStrong republican\n",
    "7\tOther party\n",
    "```\n",
    "\n",
    "You can [read the codebook for `partyid` here](https://gssdataexplorer.norc.org/projects/52787/variables/141/vshow)."
   ]
  },
  {
   "cell_type": "code",
   "execution_count": 5,
   "metadata": {},
   "outputs": [],
   "source": [
    "recode_partyid = {0: 'Democrat',\n",
    "                  1:'Democrat', \n",
    "                   2:'Independent', \n",
    "                   3:'Independent', \n",
    "                   4:'Independent', \n",
    "                   5:'Republican', \n",
    "                   6:'Republican', \n",
    "                   7:'Other'}"
   ]
  },
  {
   "cell_type": "code",
   "execution_count": 6,
   "metadata": {},
   "outputs": [
    {
     "data": {
      "text/plain": [
       "Independent    23404\n",
       "Democrat       23308\n",
       "Republican     16617\n",
       "Other           1064\n",
       "Name: partyid4, dtype: int64"
      ]
     },
     "execution_count": 6,
     "metadata": {},
     "output_type": "execute_result"
    }
   ],
   "source": [
    "gss['partyid4'] = gss['partyid'].replace(recode_partyid)\n",
    "gss['partyid4'].value_counts()"
   ]
  },
  {
   "cell_type": "markdown",
   "metadata": {},
   "source": [
    "Respondent's highest degree\n",
    "\n",
    "```\n",
    "0 \tLt high school\n",
    "1 \tHigh school\n",
    "2 \tJunior college\n",
    "3 \tBachelor\n",
    "4 \tGraduate\n",
    "8 \tDon't know\n",
    "9 \tNo answer\n",
    "```\n",
    "\n"
   ]
  },
  {
   "cell_type": "code",
   "execution_count": 7,
   "metadata": {},
   "outputs": [
    {
     "data": {
      "text/plain": [
       "1.0    33855\n",
       "0.0    13274\n",
       "3.0     9277\n",
       "4.0     4465\n",
       "2.0     3759\n",
       "Name: degree, dtype: int64"
      ]
     },
     "execution_count": 7,
     "metadata": {},
     "output_type": "execute_result"
    }
   ],
   "source": [
    "gss['degree'].value_counts()"
   ]
  },
  {
   "cell_type": "markdown",
   "metadata": {},
   "source": [
    "> What is your religious preference? Is it Protestant, Catholic, Jewish, some other religion, or no religion?\n",
    "\n",
    "```\n",
    "1 \tProtestant\n",
    "2 \tCatholic\n",
    "3 \tJewish\n",
    "4 \tNone\n",
    "5 \tOther\n",
    "6 \tBuddhism\n",
    "7 \tHinduism\n",
    "8 \tOther eastern\n",
    "9 \tMoslem/islam\n",
    "10 \tOrthodox-christian\n",
    "11 \tChristian\n",
    "12 \tNative american\n",
    "13 \tInter-nondenominational\n",
    "```\n",
    "\n"
   ]
  },
  {
   "cell_type": "code",
   "execution_count": 8,
   "metadata": {},
   "outputs": [],
   "source": [
    "recode_relig = {1:'Protestant', \n",
    "                   2:'Catholic', \n",
    "                   3:'Other', \n",
    "                   4:'None', \n",
    "                   5:'Other', \n",
    "                   6:'Other', \n",
    "                   7:'Other', \n",
    "                   8:'Other', \n",
    "                   9:'Other', \n",
    "                   10:'Other Christian', \n",
    "                   11:'Other Christian', \n",
    "                   12:'Other', \n",
    "                   13:'Other'}"
   ]
  },
  {
   "cell_type": "code",
   "execution_count": 9,
   "metadata": {},
   "outputs": [
    {
     "data": {
      "text/plain": [
       "Protestant         36378\n",
       "Catholic           16501\n",
       "None                7803\n",
       "Other               2966\n",
       "Other Christian      896\n",
       "Name: relig5, dtype: int64"
      ]
     },
     "execution_count": 9,
     "metadata": {},
     "output_type": "execute_result"
    }
   ],
   "source": [
    "gss['relig5'] = gss['relig'].replace(recode_relig)\n",
    "gss['relig5'].value_counts()"
   ]
  },
  {
   "cell_type": "markdown",
   "metadata": {},
   "source": [
    "> If you were asked to use one of four names for your social class, which would you say you belong in: the lower class, the working class, the middle class, or the upper class?\n",
    " \n",
    "```\n",
    "1 \tLower class\n",
    "2 \tWorking class\n",
    "3 \tMiddle class\n",
    "4 \tUpper class\n",
    "5 \tNo class\n",
    "8 \tDon't know\n",
    "9 \tNo answer\n",
    "0 \tNot applicable\n",
    "```"
   ]
  },
  {
   "cell_type": "code",
   "execution_count": 10,
   "metadata": {},
   "outputs": [
    {
     "data": {
      "text/plain": [
       "2.0    28215\n",
       "3.0    27746\n",
       "1.0     3398\n",
       "4.0     1969\n",
       "Name: class_, dtype: int64"
      ]
     },
     "execution_count": 10,
     "metadata": {},
     "output_type": "execute_result"
    }
   ],
   "source": [
    "gss['class_'].value_counts()"
   ]
  },
  {
   "cell_type": "code",
   "execution_count": null,
   "metadata": {},
   "outputs": [],
   "source": []
  },
  {
   "cell_type": "code",
   "execution_count": 11,
   "metadata": {},
   "outputs": [
    {
     "data": {
      "text/plain": [
       "0    60.0\n",
       "1    53.0\n",
       "2    72.0\n",
       "3    19.0\n",
       "4    44.0\n",
       "Name: age, dtype: float32"
      ]
     },
     "execution_count": 11,
     "metadata": {},
     "output_type": "execute_result"
    }
   ],
   "source": [
    "gss['age'].head()"
   ]
  },
  {
   "cell_type": "code",
   "execution_count": 12,
   "metadata": {},
   "outputs": [
    {
     "data": {
      "text/plain": [
       "0    60\n",
       "1    55\n",
       "2    70\n",
       "3    20\n",
       "4    45\n",
       "Name: age5, dtype: category\n",
       "Categories (15, int64): [20 < 25 < 30 < 35 ... 75 < 80 < 85 < 90]"
      ]
     },
     "execution_count": 12,
     "metadata": {},
     "output_type": "execute_result"
    }
   ],
   "source": [
    "bins = np.arange(17, 95, 5)\n",
    "labels = bins[:-1] + 3\n",
    "\n",
    "gss['age5'] = pd.cut(gss['age'], bins, labels=labels)\n",
    "gss['age5'].head()"
   ]
  },
  {
   "cell_type": "code",
   "execution_count": 13,
   "metadata": {},
   "outputs": [
    {
     "data": {
      "text/plain": [
       "20    5308\n",
       "25    7010\n",
       "30    6776\n",
       "35    6534\n",
       "40    6176\n",
       "45    6103\n",
       "50    5763\n",
       "55    5153\n",
       "60    4457\n",
       "65    3719\n",
       "70    3044\n",
       "75    2155\n",
       "80    1329\n",
       "85     731\n",
       "90     375\n",
       "Name: age5, dtype: int64"
      ]
     },
     "execution_count": 13,
     "metadata": {},
     "output_type": "execute_result"
    }
   ],
   "source": [
    "gss['age5'].value_counts().sort_index()"
   ]
  },
  {
   "cell_type": "code",
   "execution_count": null,
   "metadata": {},
   "outputs": [],
   "source": []
  },
  {
   "cell_type": "code",
   "execution_count": 14,
   "metadata": {},
   "outputs": [
    {
     "data": {
      "text/plain": [
       "0    1912.0\n",
       "1    1919.0\n",
       "2    1900.0\n",
       "3    1953.0\n",
       "4    1928.0\n",
       "Name: cohort, dtype: float32"
      ]
     },
     "execution_count": 14,
     "metadata": {},
     "output_type": "execute_result"
    }
   ],
   "source": [
    "gss['cohort'].head()"
   ]
  },
  {
   "cell_type": "code",
   "execution_count": 15,
   "metadata": {},
   "outputs": [
    {
     "data": {
      "text/plain": [
       "0    1910\n",
       "1    1910\n",
       "2    1900\n",
       "3    1950\n",
       "4    1920\n",
       "Name: cohort10, dtype: category\n",
       "Categories (11, int64): [1890 < 1900 < 1910 < 1920 ... 1960 < 1970 < 1980 < 1990]"
      ]
     },
     "execution_count": 15,
     "metadata": {},
     "output_type": "execute_result"
    }
   ],
   "source": [
    "bins = np.arange(1889, 2001, 10)\n",
    "labels = bins[:-1] + 1\n",
    "\n",
    "gss['cohort10'] = pd.cut(gss['cohort'], bins, labels=labels)\n",
    "gss['cohort10'].head()"
   ]
  },
  {
   "cell_type": "code",
   "execution_count": 16,
   "metadata": {},
   "outputs": [
    {
     "data": {
      "text/plain": [
       "1890      455\n",
       "1900     1717\n",
       "1910     3663\n",
       "1920     5959\n",
       "1930     6889\n",
       "1940    10463\n",
       "1950    13422\n",
       "1960    10123\n",
       "1970     6705\n",
       "1980     3821\n",
       "1990     1345\n",
       "Name: cohort10, dtype: int64"
      ]
     },
     "execution_count": 16,
     "metadata": {},
     "output_type": "execute_result"
    }
   ],
   "source": [
    "gss['cohort10'].value_counts().sort_index()"
   ]
  },
  {
   "cell_type": "code",
   "execution_count": null,
   "metadata": {},
   "outputs": [],
   "source": []
  },
  {
   "cell_type": "code",
   "execution_count": 17,
   "metadata": {},
   "outputs": [
    {
     "data": {
      "text/plain": [
       "64809    2018\n",
       "64810    2018\n",
       "64811    2018\n",
       "64812    2018\n",
       "64813    2018\n",
       "Name: year, dtype: int64"
      ]
     },
     "execution_count": 17,
     "metadata": {},
     "output_type": "execute_result"
    }
   ],
   "source": [
    "gss['year'].tail()"
   ]
  },
  {
   "cell_type": "code",
   "execution_count": 18,
   "metadata": {},
   "outputs": [
    {
     "data": {
      "text/plain": [
       "array([1970, 1975, 1980, 1985, 1990, 1995, 2000, 2005, 2010, 2015, 2020])"
      ]
     },
     "execution_count": 18,
     "metadata": {},
     "output_type": "execute_result"
    }
   ],
   "source": [
    "bins = np.arange(1970, 2025, 5)\n",
    "bins"
   ]
  },
  {
   "cell_type": "code",
   "execution_count": 19,
   "metadata": {},
   "outputs": [
    {
     "data": {
      "text/plain": [
       "64809    2017\n",
       "64810    2017\n",
       "64811    2017\n",
       "64812    2017\n",
       "64813    2017\n",
       "Name: year5, dtype: category\n",
       "Categories (10, int64): [1972 < 1977 < 1982 < 1987 ... 2002 < 2007 < 2012 < 2017]"
      ]
     },
     "execution_count": 19,
     "metadata": {},
     "output_type": "execute_result"
    }
   ],
   "source": [
    "labels = bins[:-1] + 2\n",
    "\n",
    "gss['year5'] = pd.cut(gss['year'], bins, labels=labels)\n",
    "gss['year5'].tail()"
   ]
  },
  {
   "cell_type": "code",
   "execution_count": 20,
   "metadata": {},
   "outputs": [
    {
     "data": {
      "text/plain": [
       "1972    6091\n",
       "1977    6029\n",
       "1982    6466\n",
       "1987    7679\n",
       "1992    6115\n",
       "1997    8553\n",
       "2002    5577\n",
       "2007    8577\n",
       "2012    4512\n",
       "2017    5215\n",
       "Name: year5, dtype: int64"
      ]
     },
     "execution_count": 20,
     "metadata": {},
     "output_type": "execute_result"
    }
   ],
   "source": [
    "gss['year5'].value_counts().sort_index()"
   ]
  },
  {
   "cell_type": "code",
   "execution_count": null,
   "metadata": {},
   "outputs": [],
   "source": []
  },
  {
   "cell_type": "markdown",
   "metadata": {},
   "source": [
    "## Run Subgroups"
   ]
  },
  {
   "cell_type": "code",
   "execution_count": 180,
   "metadata": {},
   "outputs": [],
   "source": [
    "xvarname = 'year'\n",
    "yvarname = 'fund'\n",
    "gvarname = 'relig5'"
   ]
  },
  {
   "cell_type": "code",
   "execution_count": 181,
   "metadata": {},
   "outputs": [],
   "source": [
    "yvar = gss[yvarname]"
   ]
  },
  {
   "cell_type": "code",
   "execution_count": 182,
   "metadata": {},
   "outputs": [
    {
     "data": {
      "text/plain": [
       "2.0    27000\n",
       "1.0    18789\n",
       "3.0    16513\n",
       "Name: fund, dtype: int64"
      ]
     },
     "execution_count": 182,
     "metadata": {},
     "output_type": "execute_result"
    }
   ],
   "source": [
    "counts = yvar.value_counts()\n",
    "counts"
   ]
  },
  {
   "cell_type": "code",
   "execution_count": 183,
   "metadata": {},
   "outputs": [
    {
     "data": {
      "text/plain": [
       "2.0"
      ]
     },
     "execution_count": 183,
     "metadata": {},
     "output_type": "execute_result"
    }
   ],
   "source": [
    "most_common = counts.idxmax()\n",
    "most_common"
   ]
  },
  {
   "cell_type": "code",
   "execution_count": 184,
   "metadata": {},
   "outputs": [
    {
     "data": {
      "text/plain": [
       "2.0    1\n",
       "1.0    0\n",
       "3.0    0\n",
       "Name: fund, dtype: int64"
      ]
     },
     "execution_count": 184,
     "metadata": {},
     "output_type": "execute_result"
    }
   ],
   "source": [
    "d = counts.copy()\n",
    "d[:] = 0\n",
    "d[most_common] = 1\n",
    "d"
   ]
  },
  {
   "cell_type": "code",
   "execution_count": 185,
   "metadata": {},
   "outputs": [
    {
     "data": {
      "text/plain": [
       "0.0    35302\n",
       "1.0    27000\n",
       "Name: y, dtype: int64"
      ]
     },
     "execution_count": 185,
     "metadata": {},
     "output_type": "execute_result"
    }
   ],
   "source": [
    "gss['y'] = yvar.replace(d)\n",
    "gss['y'].value_counts()"
   ]
  },
  {
   "cell_type": "code",
   "execution_count": 186,
   "metadata": {},
   "outputs": [
    {
     "data": {
      "text/plain": [
       "2512"
      ]
     },
     "execution_count": 186,
     "metadata": {},
     "output_type": "execute_result"
    }
   ],
   "source": [
    "gss['y'].isnull().sum()"
   ]
  },
  {
   "cell_type": "code",
   "execution_count": 187,
   "metadata": {},
   "outputs": [],
   "source": [
    "gss['x'] = gss[xvarname]"
   ]
  },
  {
   "cell_type": "code",
   "execution_count": 188,
   "metadata": {},
   "outputs": [
    {
     "name": "stdout",
     "output_type": "stream",
     "text": [
      "Optimization terminated successfully.\n",
      "         Current function value: 0.682015\n",
      "         Iterations 4\n"
     ]
    }
   ],
   "source": [
    "import statsmodels.formula.api as smf\n",
    "\n",
    "formula = 'y ~ x'\n",
    "results = smf.logit(formula, data=gss).fit()"
   ]
  },
  {
   "cell_type": "code",
   "execution_count": 189,
   "metadata": {},
   "outputs": [
    {
     "data": {
      "text/plain": [
       "-0.010007568995860933"
      ]
     },
     "execution_count": 189,
     "metadata": {},
     "output_type": "execute_result"
    }
   ],
   "source": [
    "param = results.params['x']\n",
    "param"
   ]
  },
  {
   "cell_type": "code",
   "execution_count": 190,
   "metadata": {},
   "outputs": [
    {
     "data": {
      "text/plain": [
       "4.794654437207781e-62"
      ]
     },
     "execution_count": 190,
     "metadata": {},
     "output_type": "execute_result"
    }
   ],
   "source": [
    "pvalue = results.pvalues['x']\n",
    "pvalue"
   ]
  },
  {
   "cell_type": "code",
   "execution_count": 191,
   "metadata": {},
   "outputs": [
    {
     "data": {
      "text/plain": [
       "array([-0.01118757, -0.00882757])"
      ]
     },
     "execution_count": 191,
     "metadata": {},
     "output_type": "execute_result"
    }
   ],
   "source": [
    "conf_int = results.conf_int().loc['x'].values\n",
    "conf_int"
   ]
  },
  {
   "cell_type": "code",
   "execution_count": 192,
   "metadata": {},
   "outputs": [],
   "source": [
    "stderr = results.bse['x']"
   ]
  },
  {
   "cell_type": "code",
   "execution_count": 193,
   "metadata": {},
   "outputs": [],
   "source": [
    "def get_xresult(results):\n",
    "    param = results.params['x']\n",
    "    pvalue = results.pvalues['x']\n",
    "    conf_int = results.conf_int().loc['x'].values\n",
    "    stderr = results.bse['x']\n",
    "    return [param, pvalue, stderr, conf_int]"
   ]
  },
  {
   "cell_type": "code",
   "execution_count": 194,
   "metadata": {},
   "outputs": [
    {
     "data": {
      "text/html": [
       "<div>\n",
       "<style scoped>\n",
       "    .dataframe tbody tr th:only-of-type {\n",
       "        vertical-align: middle;\n",
       "    }\n",
       "\n",
       "    .dataframe tbody tr th {\n",
       "        vertical-align: top;\n",
       "    }\n",
       "\n",
       "    .dataframe thead th {\n",
       "        text-align: right;\n",
       "    }\n",
       "</style>\n",
       "<table border=\"1\" class=\"dataframe\">\n",
       "  <thead>\n",
       "    <tr style=\"text-align: right;\">\n",
       "      <th></th>\n",
       "      <th>param</th>\n",
       "      <th>pvalue</th>\n",
       "      <th>stderr</th>\n",
       "      <th>conf_inf</th>\n",
       "    </tr>\n",
       "  </thead>\n",
       "  <tbody>\n",
       "    <tr>\n",
       "      <th>all</th>\n",
       "      <td>-0.010008</td>\n",
       "      <td>4.794654e-62</td>\n",
       "      <td>0.000602</td>\n",
       "      <td>[-0.01118756921483927, -0.008827568776882597]</td>\n",
       "    </tr>\n",
       "  </tbody>\n",
       "</table>\n",
       "</div>"
      ],
      "text/plain": [
       "        param        pvalue    stderr  \\\n",
       "all -0.010008  4.794654e-62  0.000602   \n",
       "\n",
       "                                          conf_inf  \n",
       "all  [-0.01118756921483927, -0.008827568776882597]  "
      ]
     },
     "execution_count": 194,
     "metadata": {},
     "output_type": "execute_result"
    }
   ],
   "source": [
    "columns = ['param', 'pvalue', 'stderr', 'conf_inf']\n",
    "result_df = pd.DataFrame(columns=columns, dtype=object)\n",
    "result_df.loc['all'] = get_xresult(results)\n",
    "result_df"
   ]
  },
  {
   "cell_type": "code",
   "execution_count": 195,
   "metadata": {},
   "outputs": [
    {
     "name": "stdout",
     "output_type": "stream",
     "text": [
      "Catholic 16501\n",
      "None 7803\n",
      "Other 2966\n",
      "Other Christian 896\n",
      "Protestant 36378\n"
     ]
    }
   ],
   "source": [
    "grouped = gss.groupby(gvarname)\n",
    "\n",
    "for name, group in grouped:\n",
    "    print(name, len(group))"
   ]
  },
  {
   "cell_type": "code",
   "execution_count": 196,
   "metadata": {},
   "outputs": [],
   "source": [
    "def valid_group(group, yvarname):\n",
    "\n",
    "    # make sure we have at least 100 values\n",
    "    num_valid = group[yvarname].notnull().sum()\n",
    "    if num_valid < 100:\n",
    "        return False\n",
    "    \n",
    "    # make sure all the answers aren't the same\n",
    "    counts = group[yvarname].value_counts()\n",
    "    most_common = counts.max()\n",
    "    \n",
    "    nonplurality = num_valid - most_common\n",
    "    if nonplurality < 20:\n",
    "        return False\n",
    "        \n",
    "    return True"
   ]
  },
  {
   "cell_type": "code",
   "execution_count": 197,
   "metadata": {},
   "outputs": [
    {
     "name": "stdout",
     "output_type": "stream",
     "text": [
      "Other Christian\n",
      "Protestant\n"
     ]
    }
   ],
   "source": [
    "for name, group in grouped:\n",
    "\n",
    "    if valid_group(group, yvarname):\n",
    "        print(name)"
   ]
  },
  {
   "cell_type": "code",
   "execution_count": 198,
   "metadata": {},
   "outputs": [
    {
     "name": "stdout",
     "output_type": "stream",
     "text": [
      "2.0    633\n",
      "1.0    107\n",
      "3.0     97\n",
      "Name: fund, dtype: int64\n",
      "Other Christian 0.3483233869681431\n",
      "1.0    18678\n",
      "2.0     9856\n",
      "3.0     7401\n",
      "Name: fund, dtype: int64\n",
      "Protestant -0.01632941103830114\n"
     ]
    }
   ],
   "source": [
    "for name, group in grouped:\n",
    "    if not valid_group(group, yvarname):\n",
    "        continue\n",
    "    print(group[yvarname].value_counts())\n",
    "    results = smf.logit(formula, data=group).fit(disp=False)\n",
    "    result_df.loc[name] = get_xresult(results)\n",
    "    print(name, results.params['x'])"
   ]
  },
  {
   "cell_type": "code",
   "execution_count": 199,
   "metadata": {},
   "outputs": [
    {
     "data": {
      "text/html": [
       "<div>\n",
       "<style scoped>\n",
       "    .dataframe tbody tr th:only-of-type {\n",
       "        vertical-align: middle;\n",
       "    }\n",
       "\n",
       "    .dataframe tbody tr th {\n",
       "        vertical-align: top;\n",
       "    }\n",
       "\n",
       "    .dataframe thead th {\n",
       "        text-align: right;\n",
       "    }\n",
       "</style>\n",
       "<table border=\"1\" class=\"dataframe\">\n",
       "  <thead>\n",
       "    <tr style=\"text-align: right;\">\n",
       "      <th></th>\n",
       "      <th>param</th>\n",
       "      <th>pvalue</th>\n",
       "      <th>stderr</th>\n",
       "      <th>conf_inf</th>\n",
       "    </tr>\n",
       "  </thead>\n",
       "  <tbody>\n",
       "    <tr>\n",
       "      <th>all</th>\n",
       "      <td>-0.010008</td>\n",
       "      <td>4.794654e-62</td>\n",
       "      <td>0.000602</td>\n",
       "      <td>[-0.01118756921483927, -0.008827568776882597]</td>\n",
       "    </tr>\n",
       "    <tr>\n",
       "      <th>Other Christian</th>\n",
       "      <td>0.348323</td>\n",
       "      <td>7.744273e-39</td>\n",
       "      <td>0.026722</td>\n",
       "      <td>[0.2959486113167891, 0.40069816261949703]</td>\n",
       "    </tr>\n",
       "    <tr>\n",
       "      <th>Protestant</th>\n",
       "      <td>-0.016329</td>\n",
       "      <td>7.699628e-72</td>\n",
       "      <td>0.000911</td>\n",
       "      <td>[-0.018115036430687938, -0.01454378564591434]</td>\n",
       "    </tr>\n",
       "  </tbody>\n",
       "</table>\n",
       "</div>"
      ],
      "text/plain": [
       "                    param        pvalue    stderr  \\\n",
       "all             -0.010008  4.794654e-62  0.000602   \n",
       "Other Christian  0.348323  7.744273e-39  0.026722   \n",
       "Protestant      -0.016329  7.699628e-72  0.000911   \n",
       "\n",
       "                                                      conf_inf  \n",
       "all              [-0.01118756921483927, -0.008827568776882597]  \n",
       "Other Christian      [0.2959486113167891, 0.40069816261949703]  \n",
       "Protestant       [-0.018115036430687938, -0.01454378564591434]  "
      ]
     },
     "execution_count": 199,
     "metadata": {},
     "output_type": "execute_result"
    }
   ],
   "source": [
    "result_df"
   ]
  },
  {
   "cell_type": "code",
   "execution_count": null,
   "metadata": {},
   "outputs": [],
   "source": []
  },
  {
   "cell_type": "code",
   "execution_count": 200,
   "metadata": {},
   "outputs": [],
   "source": [
    "def run_subgroups(gss, xvarname, yvarname, gvarname):\n",
    "    yvar = gss[yvarname]\n",
    "    counts = yvar.value_counts()\n",
    "    most_common = counts.idxmax()\n",
    "\n",
    "    d = counts.copy()\n",
    "    d[:] = 0\n",
    "    d[most_common] = 1\n",
    "\n",
    "    gss['y'] = yvar.replace(d)\n",
    "    gss['x'] = gss[xvarname]\n",
    "\n",
    "    formula = 'y ~ x'\n",
    "    results = smf.logit(formula, data=gss).fit(disp=False)\n",
    "\n",
    "    param = results.params['x']\n",
    "    pvalue = results.pvalues['x']\n",
    "    conf_int = results.conf_int().loc['x'].values\n",
    "    stderr = results.bse['x']\n",
    "\n",
    "    columns = ['param', 'pvalue', 'stderr', 'conf_inf']\n",
    "    result_df = pd.DataFrame(columns=columns, dtype=object)\n",
    "    result_df.loc['all'] = get_xresult(results)\n",
    "\n",
    "    grouped = gss.groupby(gvarname)\n",
    "    for name, group in grouped:\n",
    "        if not valid_group(group, yvarname):\n",
    "            continue\n",
    "    \n",
    "        results = smf.logit(formula, data=group).fit(disp=False)\n",
    "        result_df.loc[name] = get_xresult(results)\n",
    "\n",
    "    return result_df"
   ]
  },
  {
   "cell_type": "code",
   "execution_count": 201,
   "metadata": {},
   "outputs": [
    {
     "data": {
      "text/html": [
       "<div>\n",
       "<style scoped>\n",
       "    .dataframe tbody tr th:only-of-type {\n",
       "        vertical-align: middle;\n",
       "    }\n",
       "\n",
       "    .dataframe tbody tr th {\n",
       "        vertical-align: top;\n",
       "    }\n",
       "\n",
       "    .dataframe thead th {\n",
       "        text-align: right;\n",
       "    }\n",
       "</style>\n",
       "<table border=\"1\" class=\"dataframe\">\n",
       "  <thead>\n",
       "    <tr style=\"text-align: right;\">\n",
       "      <th></th>\n",
       "      <th>param</th>\n",
       "      <th>pvalue</th>\n",
       "      <th>stderr</th>\n",
       "      <th>conf_inf</th>\n",
       "    </tr>\n",
       "  </thead>\n",
       "  <tbody>\n",
       "    <tr>\n",
       "      <th>all</th>\n",
       "      <td>0.003234</td>\n",
       "      <td>6.733636e-05</td>\n",
       "      <td>0.000812</td>\n",
       "      <td>[0.0016437864240885886, 0.0048249216360200945]</td>\n",
       "    </tr>\n",
       "    <tr>\n",
       "      <th>Democrat</th>\n",
       "      <td>0.019363</td>\n",
       "      <td>2.944667e-38</td>\n",
       "      <td>0.001497</td>\n",
       "      <td>[0.01642815207928425, 0.022297010084502907]</td>\n",
       "    </tr>\n",
       "    <tr>\n",
       "      <th>Independent</th>\n",
       "      <td>0.002507</td>\n",
       "      <td>6.016695e-02</td>\n",
       "      <td>0.001334</td>\n",
       "      <td>[-0.00010722608201531704, 0.005120890341326177]</td>\n",
       "    </tr>\n",
       "    <tr>\n",
       "      <th>Other</th>\n",
       "      <td>-0.013315</td>\n",
       "      <td>7.678432e-03</td>\n",
       "      <td>0.004995</td>\n",
       "      <td>[-0.02310464633097545, -0.0035258814981323633]</td>\n",
       "    </tr>\n",
       "    <tr>\n",
       "      <th>Republican</th>\n",
       "      <td>-0.009366</td>\n",
       "      <td>3.977877e-09</td>\n",
       "      <td>0.001592</td>\n",
       "      <td>[-0.012485542444758965, -0.006246924054176914]</td>\n",
       "    </tr>\n",
       "  </tbody>\n",
       "</table>\n",
       "</div>"
      ],
      "text/plain": [
       "                param        pvalue    stderr  \\\n",
       "all          0.003234  6.733636e-05  0.000812   \n",
       "Democrat     0.019363  2.944667e-38  0.001497   \n",
       "Independent  0.002507  6.016695e-02  0.001334   \n",
       "Other       -0.013315  7.678432e-03  0.004995   \n",
       "Republican  -0.009366  3.977877e-09  0.001592   \n",
       "\n",
       "                                                    conf_inf  \n",
       "all           [0.0016437864240885886, 0.0048249216360200945]  \n",
       "Democrat         [0.01642815207928425, 0.022297010084502907]  \n",
       "Independent  [-0.00010722608201531704, 0.005120890341326177]  \n",
       "Other         [-0.02310464633097545, -0.0035258814981323633]  \n",
       "Republican    [-0.012485542444758965, -0.006246924054176914]  "
      ]
     },
     "execution_count": 201,
     "metadata": {},
     "output_type": "execute_result"
    }
   ],
   "source": [
    "xvarname = 'year'\n",
    "yvarname = 'gunlaw'\n",
    "gvarname = 'partyid4'\n",
    "\n",
    "result_df = run_subgroups(gss, xvarname, yvarname, gvarname)\n",
    "result_df"
   ]
  },
  {
   "cell_type": "code",
   "execution_count": null,
   "metadata": {},
   "outputs": [],
   "source": []
  },
  {
   "cell_type": "code",
   "execution_count": null,
   "metadata": {},
   "outputs": [],
   "source": []
  },
  {
   "cell_type": "markdown",
   "metadata": {},
   "source": [
    "## Get Differences\n"
   ]
  },
  {
   "cell_type": "code",
   "execution_count": null,
   "metadata": {},
   "outputs": [],
   "source": []
  },
  {
   "cell_type": "code",
   "execution_count": 202,
   "metadata": {},
   "outputs": [
    {
     "data": {
      "text/plain": [
       "0.0008115289967121576"
      ]
     },
     "execution_count": 202,
     "metadata": {},
     "output_type": "execute_result"
    }
   ],
   "source": [
    "stderr = result_df.loc['all', 'stderr']\n",
    "stderr"
   ]
  },
  {
   "cell_type": "code",
   "execution_count": 203,
   "metadata": {},
   "outputs": [
    {
     "data": {
      "text/plain": [
       "array([[ 0.        , 20.77035943, 40.26700849, 35.40084759],\n",
       "       [20.77035943,  0.        , 19.49664905, 14.63048816],\n",
       "       [40.26700849, 19.49664905,  0.        ,  4.86616089],\n",
       "       [35.40084759, 14.63048816,  4.86616089,  0.        ]])"
      ]
     },
     "execution_count": 203,
     "metadata": {},
     "output_type": "execute_result"
    }
   ],
   "source": [
    "params = result_df['param'].values[1:]\n",
    "a = np.abs(np.subtract.outer(params, params)) / stderr\n",
    "a"
   ]
  },
  {
   "cell_type": "code",
   "execution_count": 204,
   "metadata": {},
   "outputs": [
    {
     "data": {
      "text/plain": [
       "Democrat     Democrat        0.000000\n",
       "             Independent    20.770359\n",
       "             Other          40.267008\n",
       "             Republican     35.400848\n",
       "Independent  Democrat       20.770359\n",
       "             Independent     0.000000\n",
       "             Other          19.496649\n",
       "             Republican     14.630488\n",
       "Other        Democrat       40.267008\n",
       "             Independent    19.496649\n",
       "             Other           0.000000\n",
       "             Republican      4.866161\n",
       "Republican   Democrat       35.400848\n",
       "             Independent    14.630488\n",
       "             Other           4.866161\n",
       "             Republican      0.000000\n",
       "dtype: float64"
      ]
     },
     "execution_count": 204,
     "metadata": {},
     "output_type": "execute_result"
    }
   ],
   "source": [
    "names = result_df.index.values[1:]\n",
    "diff_df = pd.DataFrame(a, index=names, columns=names).stack()\n",
    "diff_df"
   ]
  },
  {
   "cell_type": "code",
   "execution_count": 205,
   "metadata": {},
   "outputs": [
    {
     "data": {
      "text/plain": [
       "(40.2670084850191, ('Democrat', 'Other'))"
      ]
     },
     "execution_count": 205,
     "metadata": {},
     "output_type": "execute_result"
    }
   ],
   "source": [
    "diff_df.max(), diff_df.idxmax()"
   ]
  },
  {
   "cell_type": "code",
   "execution_count": 206,
   "metadata": {},
   "outputs": [],
   "source": [
    "def get_differences(result_df):\n",
    "    stderr = result_df.loc['all', 'stderr']\n",
    "    params = result_df['param'].values[1:]\n",
    "    a = np.abs(np.subtract.outer(params, params)) / stderr\n",
    "    names = result_df.index.values[1:]\n",
    "    diff_df = pd.DataFrame(a, index=names, columns=names).stack()\n",
    "    return diff_df"
   ]
  },
  {
   "cell_type": "code",
   "execution_count": 207,
   "metadata": {},
   "outputs": [],
   "source": [
    "diff_df = get_differences(result_df)"
   ]
  },
  {
   "cell_type": "code",
   "execution_count": 208,
   "metadata": {},
   "outputs": [
    {
     "data": {
      "text/plain": [
       "(40.2670084850191, ('Democrat', 'Other'))"
      ]
     },
     "execution_count": 208,
     "metadata": {},
     "output_type": "execute_result"
    }
   ],
   "source": [
    "diff_df.max(), diff_df.idxmax()"
   ]
  },
  {
   "cell_type": "code",
   "execution_count": null,
   "metadata": {},
   "outputs": [],
   "source": []
  },
  {
   "cell_type": "code",
   "execution_count": 209,
   "metadata": {},
   "outputs": [],
   "source": [
    "def check_simpson(result_df):\n",
    "    param_all = result_df['param'].values[0]\n",
    "    params = result_df['param'].values[1:]\n",
    "    return (param_all < params.min()) or (param_all > params.max())"
   ]
  },
  {
   "cell_type": "code",
   "execution_count": 210,
   "metadata": {},
   "outputs": [
    {
     "data": {
      "text/plain": [
       "False"
      ]
     },
     "execution_count": 210,
     "metadata": {},
     "output_type": "execute_result"
    }
   ],
   "source": [
    "check_simpson(result_df)"
   ]
  },
  {
   "cell_type": "code",
   "execution_count": 227,
   "metadata": {},
   "outputs": [],
   "source": [
    "def true_simpson(result_df):\n",
    "    param_all = result_df['param'].values[0]\n",
    "    params = result_df['param'].values[1:]\n",
    "    if param_all > 0:\n",
    "        return np.all(params < 0)\n",
    "    else:\n",
    "        return np.all(params > 0)"
   ]
  },
  {
   "cell_type": "code",
   "execution_count": 228,
   "metadata": {},
   "outputs": [
    {
     "data": {
      "text/plain": [
       "False"
      ]
     },
     "execution_count": 228,
     "metadata": {},
     "output_type": "execute_result"
    }
   ],
   "source": [
    "true_simpson(result_df)"
   ]
  },
  {
   "cell_type": "code",
   "execution_count": null,
   "metadata": {},
   "outputs": [],
   "source": []
  },
  {
   "cell_type": "code",
   "execution_count": null,
   "metadata": {},
   "outputs": [],
   "source": []
  },
  {
   "cell_type": "code",
   "execution_count": 214,
   "metadata": {},
   "outputs": [
    {
     "data": {
      "text/plain": [
       "119"
      ]
     },
     "execution_count": 214,
     "metadata": {},
     "output_type": "execute_result"
    }
   ],
   "source": [
    "yvarnames = ['abany', 'abdefect', 'abhlth', 'abnomore', 'abpoor', 'abrape', \n",
    "            'absingle', 'affrmact', 'bible', 'cappun', 'colath', 'colcom', \n",
    "            'colhomo', 'colmil', 'colmslm', 'colrac', 'compuse', 'conarmy', \n",
    "            'conbus', 'conclerg', 'coneduc', 'confed', 'confinan', 'conjudge', \n",
    "            'conlabor', 'conlegis', 'conmedic', 'conpress', 'consci', 'contv', \n",
    "            'discaffm', 'discaffw', 'divlaw', 'divorce', 'fair', \n",
    "            'fear', 'fechld', 'fefam', 'fehire', 'fejobaff', 'fepol', 'fepresch', \n",
    "            'finrela', 'fund', 'fund16', 'god', 'grass', 'gunlaw', 'hapmar', \n",
    "            'happy', 'health', 'helpful', 'homosex', 'hunt', 'letdie1', \n",
    "            'libath', 'libcom', 'libhomo', 'libmil', 'libmslm', 'librac', \n",
    "            'life', 'memchurh', 'meovrwrk', 'nataid', 'natarms', 'natchld', \n",
    "            'natcity', 'natcrime', 'natcrimy', 'natdrug', 'nateduc', 'natenrgy', \n",
    "            'natenvir', 'natfare', 'natheal', 'natmass', 'natpark', 'natrace', \n",
    "            'natroad', 'natsci', 'natsoc', 'natspac', 'pornlaw', \n",
    "            'postlife', 'pray', 'prayer', 'premarsx', 'pres04', 'pres08', 'pres12', \n",
    "            'racmar', 'racopen', 'racpres', 'reborn', 'relexp', 'reliten', \n",
    "            'relpersn', 'res16', 'satfin', 'satjob', 'savesoul', 'sexeduc', \n",
    "            'spanking', 'spkath', 'spkcom', 'spkhomo', 'spkmil', 'spkmslm', \n",
    "            'spkrac', 'sprtprsn', 'teensex', 'trust', 'union_', 'xmarsex',\n",
    "            'owngun', 'pistol', 'attend', 'relactiv']\n",
    "\n",
    "len(yvarnames)"
   ]
  },
  {
   "cell_type": "code",
   "execution_count": 229,
   "metadata": {},
   "outputs": [
    {
     "name": "stdout",
     "output_type": "stream",
     "text": [
      "year finrela polviews3 \n",
      "year happy polviews3 \n",
      "year pres04 polviews3 \n",
      "year pres08 polviews3 \n",
      "year spkath polviews3 \n"
     ]
    }
   ],
   "source": [
    "xvarname = 'year'\n",
    "gvarname = 'polviews3'\n",
    "\n",
    "for yvarname in yvarnames:\n",
    "    result_df = run_subgroups(gss, xvarname, yvarname, gvarname)\n",
    "    if check_simpson(result_df):\n",
    "        flag = '*' if true_simpson(result_df) else ''\n",
    "        print(xvarname, yvarname, gvarname, flag)"
   ]
  },
  {
   "cell_type": "code",
   "execution_count": 230,
   "metadata": {},
   "outputs": [],
   "source": [
    "gvarnames = ['sex', 'race', 'polviews3', 'partyid4', 'relig5',\n",
    "             'age5', 'year5', 'cohort10', 'class_', 'degree']"
   ]
  },
  {
   "cell_type": "code",
   "execution_count": 231,
   "metadata": {},
   "outputs": [],
   "source": [
    "bad_pairs = [('year', 'year5'),\n",
    "            ('age', 'age5'),\n",
    "            ('cohort', 'cohort10')]"
   ]
  },
  {
   "cell_type": "code",
   "execution_count": null,
   "metadata": {},
   "outputs": [
    {
     "name": "stdout",
     "output_type": "stream",
     "text": [
      "year abany degree \n",
      "year abnomore degree *\n",
      "year abpoor degree \n",
      "year abrape degree \n",
      "year absingle degree \n",
      "year bible relig5 \n",
      "year colath degree \n",
      "year colcom relig5 \n",
      "year colcom degree \n",
      "year colmil degree \n",
      "year coneduc degree \n",
      "year confinan degree \n"
     ]
    }
   ],
   "source": [
    "xvarname = 'year'\n",
    "\n",
    "for yvarname in yvarnames:\n",
    "    for gvarname in gvarnames:\n",
    "        #print(xvarname, yvarname, gvarname)\n",
    "        if (xvarname, gvarname) in bad_pairs:\n",
    "            continue\n",
    "        result_df = run_subgroups(gss, xvarname, yvarname, gvarname)\n",
    "        if check_simpson(result_df):\n",
    "            flag = '*' if true_simpson(result_df) else ''\n",
    "            print(xvarname, yvarname, gvarname, flag)"
   ]
  },
  {
   "cell_type": "code",
   "execution_count": 223,
   "metadata": {},
   "outputs": [],
   "source": [
    "xvarname = 'year'\n",
    "yvarname = 'affrmact'\n",
    "gvarname = 'cohort10'\n",
    "\n",
    "result_df = run_subgroups(gss, xvarname, yvarname, gvarname)"
   ]
  },
  {
   "cell_type": "code",
   "execution_count": 224,
   "metadata": {},
   "outputs": [
    {
     "data": {
      "text/plain": [
       "False"
      ]
     },
     "execution_count": 224,
     "metadata": {},
     "output_type": "execute_result"
    }
   ],
   "source": [
    "check_simpson(result_df)"
   ]
  },
  {
   "cell_type": "code",
   "execution_count": 225,
   "metadata": {},
   "outputs": [
    {
     "data": {
      "text/html": [
       "<div>\n",
       "<style scoped>\n",
       "    .dataframe tbody tr th:only-of-type {\n",
       "        vertical-align: middle;\n",
       "    }\n",
       "\n",
       "    .dataframe tbody tr th {\n",
       "        vertical-align: top;\n",
       "    }\n",
       "\n",
       "    .dataframe thead th {\n",
       "        text-align: right;\n",
       "    }\n",
       "</style>\n",
       "<table border=\"1\" class=\"dataframe\">\n",
       "  <thead>\n",
       "    <tr style=\"text-align: right;\">\n",
       "      <th></th>\n",
       "      <th>param</th>\n",
       "      <th>pvalue</th>\n",
       "      <th>stderr</th>\n",
       "      <th>conf_inf</th>\n",
       "    </tr>\n",
       "  </thead>\n",
       "  <tbody>\n",
       "    <tr>\n",
       "      <th>all</th>\n",
       "      <td>-0.019200</td>\n",
       "      <td>4.492028e-24</td>\n",
       "      <td>0.001897</td>\n",
       "      <td>[-0.022918465542601046, -0.015481624543470643]</td>\n",
       "    </tr>\n",
       "    <tr>\n",
       "      <th>1910</th>\n",
       "      <td>-0.059528</td>\n",
       "      <td>7.666859e-02</td>\n",
       "      <td>0.033625</td>\n",
       "      <td>[-0.12543250910809475, 0.006375750536510398]</td>\n",
       "    </tr>\n",
       "    <tr>\n",
       "      <th>1920</th>\n",
       "      <td>-0.022594</td>\n",
       "      <td>3.828111e-02</td>\n",
       "      <td>0.010905</td>\n",
       "      <td>[-0.0439680108467779, -0.001219956500778694]</td>\n",
       "    </tr>\n",
       "    <tr>\n",
       "      <th>1930</th>\n",
       "      <td>-0.015916</td>\n",
       "      <td>2.873411e-02</td>\n",
       "      <td>0.007277</td>\n",
       "      <td>[-0.030179524854307034, -0.0016530469449427543]</td>\n",
       "    </tr>\n",
       "    <tr>\n",
       "      <th>1940</th>\n",
       "      <td>-0.022228</td>\n",
       "      <td>1.733299e-05</td>\n",
       "      <td>0.005173</td>\n",
       "      <td>[-0.03236724900315135, -0.012088628508484356]</td>\n",
       "    </tr>\n",
       "    <tr>\n",
       "      <th>1950</th>\n",
       "      <td>-0.010287</td>\n",
       "      <td>1.683937e-02</td>\n",
       "      <td>0.004304</td>\n",
       "      <td>[-0.01872311157575919, -0.0018517220914679305]</td>\n",
       "    </tr>\n",
       "    <tr>\n",
       "      <th>1960</th>\n",
       "      <td>-0.011174</td>\n",
       "      <td>9.402089e-03</td>\n",
       "      <td>0.004303</td>\n",
       "      <td>[-0.019607397749283224, -0.002741279988595432]</td>\n",
       "    </tr>\n",
       "    <tr>\n",
       "      <th>1970</th>\n",
       "      <td>-0.015059</td>\n",
       "      <td>1.395418e-03</td>\n",
       "      <td>0.004712</td>\n",
       "      <td>[-0.02429475451494085, -0.005822722716562222]</td>\n",
       "    </tr>\n",
       "    <tr>\n",
       "      <th>1980</th>\n",
       "      <td>0.000756</td>\n",
       "      <td>9.310781e-01</td>\n",
       "      <td>0.008737</td>\n",
       "      <td>[-0.016368229311305136, 0.017879499045332304]</td>\n",
       "    </tr>\n",
       "    <tr>\n",
       "      <th>1990</th>\n",
       "      <td>0.041024</td>\n",
       "      <td>1.578338e-01</td>\n",
       "      <td>0.029046</td>\n",
       "      <td>[-0.01590445179410966, 0.09795200293909329]</td>\n",
       "    </tr>\n",
       "  </tbody>\n",
       "</table>\n",
       "</div>"
      ],
      "text/plain": [
       "         param        pvalue    stderr  \\\n",
       "all  -0.019200  4.492028e-24  0.001897   \n",
       "1910 -0.059528  7.666859e-02  0.033625   \n",
       "1920 -0.022594  3.828111e-02  0.010905   \n",
       "1930 -0.015916  2.873411e-02  0.007277   \n",
       "1940 -0.022228  1.733299e-05  0.005173   \n",
       "1950 -0.010287  1.683937e-02  0.004304   \n",
       "1960 -0.011174  9.402089e-03  0.004303   \n",
       "1970 -0.015059  1.395418e-03  0.004712   \n",
       "1980  0.000756  9.310781e-01  0.008737   \n",
       "1990  0.041024  1.578338e-01  0.029046   \n",
       "\n",
       "                                             conf_inf  \n",
       "all    [-0.022918465542601046, -0.015481624543470643]  \n",
       "1910     [-0.12543250910809475, 0.006375750536510398]  \n",
       "1920     [-0.0439680108467779, -0.001219956500778694]  \n",
       "1930  [-0.030179524854307034, -0.0016530469449427543]  \n",
       "1940    [-0.03236724900315135, -0.012088628508484356]  \n",
       "1950   [-0.01872311157575919, -0.0018517220914679305]  \n",
       "1960   [-0.019607397749283224, -0.002741279988595432]  \n",
       "1970    [-0.02429475451494085, -0.005822722716562222]  \n",
       "1980    [-0.016368229311305136, 0.017879499045332304]  \n",
       "1990      [-0.01590445179410966, 0.09795200293909329]  "
      ]
     },
     "execution_count": 225,
     "metadata": {},
     "output_type": "execute_result"
    }
   ],
   "source": [
    "result_df"
   ]
  },
  {
   "cell_type": "code",
   "execution_count": null,
   "metadata": {},
   "outputs": [],
   "source": []
  },
  {
   "cell_type": "code",
   "execution_count": null,
   "metadata": {},
   "outputs": [],
   "source": []
  },
  {
   "cell_type": "code",
   "execution_count": 56,
   "metadata": {},
   "outputs": [],
   "source": [
    "import matplotlib.pyplot as plt\n",
    "\n",
    "plt.rcParams['figure.figsize'] = (9, 4)\n",
    "\n",
    "def decorate(**options):\n",
    "    \"\"\"Decorate the current axes.\n",
    "    \n",
    "    Call decorate with keyword arguments like\n",
    "    decorate(title='Title',\n",
    "             xlabel='x',\n",
    "             ylabel='y')\n",
    "             \n",
    "    The keyword arguments can be any of the axis properties\n",
    "    https://matplotlib.org/api/axes_api.html\n",
    "    \"\"\"\n",
    "    ax = plt.gca()\n",
    "    ax.set(**options)\n",
    "    \n",
    "    handles, labels = ax.get_legend_handles_labels()\n",
    "    if handles:\n",
    "        ax.legend(handles, labels)\n",
    "\n",
    "    plt.tight_layout()"
   ]
  },
  {
   "cell_type": "code",
   "execution_count": 57,
   "metadata": {},
   "outputs": [],
   "source": [
    "def stretch_x(factor = 0.03):\n",
    "    low, high = plt.xlim()\n",
    "    space = (high-low) * factor\n",
    "    plt.xlim(low - space, high + space)"
   ]
  },
  {
   "cell_type": "code",
   "execution_count": 58,
   "metadata": {},
   "outputs": [],
   "source": [
    "def anchor_legend(x, y):\n",
    "    \"\"\"Place the upper left corner of the legend box.\n",
    "    \n",
    "    x: x coordinate\n",
    "    y: y coordinate\n",
    "    \"\"\"\n",
    "    plt.legend(bbox_to_anchor=(x, y), loc='upper left', ncol=1)   \n",
    "    plt.tight_layout()"
   ]
  },
  {
   "cell_type": "code",
   "execution_count": 59,
   "metadata": {},
   "outputs": [],
   "source": [
    "import numpy as np\n",
    "from statsmodels.nonparametric.smoothers_lowess import lowess\n",
    "\n",
    "def make_lowess(series):\n",
    "    \"\"\"Use LOWESS to compute a smooth line.\n",
    "    \n",
    "    series: pd.Series\n",
    "    \n",
    "    returns: pd.Series\n",
    "    \"\"\"\n",
    "    y = series.values\n",
    "    x = series.index.values\n",
    "\n",
    "    smooth = lowess(y, x)\n",
    "    index, data = np.transpose(smooth)\n",
    "\n",
    "    return pd.Series(data, index=series.index) "
   ]
  },
  {
   "cell_type": "code",
   "execution_count": 60,
   "metadata": {},
   "outputs": [],
   "source": [
    "def plot_series_lowess(series, color, indexed=False, plot_series=True):\n",
    "    \"\"\"Plots a series of data points and a smooth line.\n",
    "    \n",
    "    series: pd.Series\n",
    "    color: string or tuple\n",
    "    \"\"\"\n",
    "    if plot_series:\n",
    "        series.plot(linewidth=0, marker='o', color=color, alpha=0.1, label='_')\n",
    "    smooth = make_lowess(series)\n",
    "    if indexed:\n",
    "        smooth /= smooth.iloc[0] / 100\n",
    "        \n",
    "    style = '--' if series.name=='Total, all educational levels' else '-'\n",
    "    smooth.plot(style=style, label=series.name, color=color)"
   ]
  },
  {
   "cell_type": "code",
   "execution_count": 61,
   "metadata": {},
   "outputs": [],
   "source": [
    "def plot_columns_lowess(table, columns, colors, **options):\n",
    "    \"\"\"Plot the columns in a DataFrame.\n",
    "    \n",
    "    table: DataFrame with a cross tabulation\n",
    "    columns: list of column names, in the desired order\n",
    "    colors: mapping from column names to colors\n",
    "    \"\"\"\n",
    "    for col in columns:\n",
    "        series = table[col]\n",
    "        plot_series_lowess(series, colors[col], **options)"
   ]
  },
  {
   "cell_type": "code",
   "execution_count": 62,
   "metadata": {},
   "outputs": [],
   "source": [
    "colors = {\n",
    "    'Total, all educational levels' : 'gray',\n",
    "    'Less than a high school diploma' : 'C0',\n",
    "    'High school graduates, no college' : 'C1',\n",
    "    'Some college or associate degree' : 'C2',\n",
    "    \"Bachelor's degree only\" : 'C3',\n",
    "    'Advanced degree' : 'C4',\n",
    "}"
   ]
  },
  {
   "cell_type": "code",
   "execution_count": null,
   "metadata": {},
   "outputs": [],
   "source": []
  },
  {
   "cell_type": "code",
   "execution_count": null,
   "metadata": {},
   "outputs": [],
   "source": []
  },
  {
   "cell_type": "code",
   "execution_count": 63,
   "metadata": {},
   "outputs": [],
   "source": [
    "yvar = gss[yvarname]\n",
    "counts = yvar.value_counts()\n",
    "most_common = counts.idxmax()\n",
    "\n",
    "d = counts.copy()\n",
    "d[:] = 0\n",
    "d[most_common] = 1\n",
    "\n",
    "gss['y'] = yvar.replace(d)\n",
    "gss['x'] = gss[xvarname]\n",
    "\n",
    "formula = 'y ~ x'\n",
    "results = smf.logit(formula, data=gss).fit(disp=False)\n",
    "\n",
    "param = results.params['x']\n",
    "pvalue = results.pvalues['x']\n",
    "conf_int = results.conf_int().loc['x'].values\n",
    "stderr = results.bse['x']\n",
    "\n",
    "columns = ['param', 'pvalue', 'stderr', 'conf_inf']\n",
    "result_df = pd.DataFrame(columns=columns, dtype=object)\n",
    "result_df.loc['all'] = get_xresult(results)\n",
    "\n",
    "grouped = gss.groupby(gvarname)\n",
    "for name, group in grouped:\n",
    "    results = smf.logit(formula, data=group).fit(disp=False)\n",
    "    result_df.loc[name] = get_xresult(results)"
   ]
  }
 ],
 "metadata": {
  "kernelspec": {
   "display_name": "Python 3",
   "language": "python",
   "name": "python3"
  },
  "language_info": {
   "codemirror_mode": {
    "name": "ipython",
    "version": 3
   },
   "file_extension": ".py",
   "mimetype": "text/x-python",
   "name": "python",
   "nbconvert_exporter": "python",
   "pygments_lexer": "ipython3",
   "version": "3.9.2"
  }
 },
 "nbformat": 4,
 "nbformat_minor": 2
}
