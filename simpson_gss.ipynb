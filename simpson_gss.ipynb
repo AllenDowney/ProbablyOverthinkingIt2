{
 "cells": [
  {
   "cell_type": "markdown",
   "metadata": {},
   "source": [
    "# Searching for Simpson"
   ]
  },
  {
   "cell_type": "markdown",
   "metadata": {},
   "source": [
    "Copyright 2021 Allen B. Downey\n",
    "\n",
    "License: [Attribution-NonCommercial-ShareAlike 4.0 International (CC BY-NC-SA 4.0)](https://creativecommons.org/licenses/by-nc-sa/4.0/)\n",
    "\n",
    "[Click here to run this notebook on Colab](https://colab.research.google.com/github/AllenDowney/ProbablyOverthinkingIt2/blob/master/simpson_wages.ipynb)"
   ]
  },
  {
   "cell_type": "markdown",
   "metadata": {},
   "source": []
  },
  {
   "cell_type": "code",
   "execution_count": 1,
   "metadata": {},
   "outputs": [],
   "source": [
    "import numpy as np\n",
    "import pandas as pd\n",
    "import matplotlib.pyplot as plt"
   ]
  },
  {
   "cell_type": "code",
   "execution_count": 2,
   "metadata": {},
   "outputs": [],
   "source": [
    "import matplotlib.pyplot as plt\n",
    "\n",
    "plt.rcParams['figure.figsize'] = (9, 4)\n",
    "\n",
    "def decorate(**options):\n",
    "    \"\"\"Decorate the current axes.\n",
    "    \n",
    "    Call decorate with keyword arguments like\n",
    "    decorate(title='Title',\n",
    "             xlabel='x',\n",
    "             ylabel='y')\n",
    "             \n",
    "    The keyword arguments can be any of the axis properties\n",
    "    https://matplotlib.org/api/axes_api.html\n",
    "    \"\"\"\n",
    "    ax = plt.gca()\n",
    "    ax.set(**options)\n",
    "    \n",
    "    handles, labels = ax.get_legend_handles_labels()\n",
    "    if handles:\n",
    "        ax.legend(handles, labels)\n",
    "\n",
    "    plt.tight_layout()"
   ]
  },
  {
   "cell_type": "code",
   "execution_count": 3,
   "metadata": {},
   "outputs": [],
   "source": [
    "def stretch_x(factor = 0.03):\n",
    "    low, high = plt.xlim()\n",
    "    space = (high-low) * factor\n",
    "    plt.xlim(low - space, high + space)"
   ]
  },
  {
   "cell_type": "code",
   "execution_count": 4,
   "metadata": {},
   "outputs": [],
   "source": [
    "def anchor_legend(x, y):\n",
    "    \"\"\"Place the upper left corner of the legend box.\n",
    "    \n",
    "    x: x coordinate\n",
    "    y: y coordinate\n",
    "    \"\"\"\n",
    "    plt.legend(bbox_to_anchor=(x, y), loc='upper left', ncol=1)   \n",
    "    plt.tight_layout()"
   ]
  },
  {
   "cell_type": "code",
   "execution_count": 87,
   "metadata": {},
   "outputs": [],
   "source": [
    "import numpy as np\n",
    "from statsmodels.nonparametric.smoothers_lowess import lowess\n",
    "\n",
    "def make_lowess(series):\n",
    "    \"\"\"Use LOWESS to compute a smooth line.\n",
    "    \n",
    "    series: pd.Series\n",
    "    \n",
    "    returns: pd.Series\n",
    "    \"\"\"\n",
    "    y = series.values\n",
    "    x = series.index.values\n",
    "\n",
    "    smooth = lowess(y, x)\n",
    "    index, data = np.transpose(smooth)\n",
    "\n",
    "    return pd.Series(data, index=index) "
   ]
  },
  {
   "cell_type": "code",
   "execution_count": 112,
   "metadata": {},
   "outputs": [],
   "source": [
    "def plot_series_lowess(series, color, indexed=False, plot_series=True):\n",
    "    \"\"\"Plots a series of data points and a smooth line.\n",
    "    \n",
    "    series: pd.Series\n",
    "    color: string or tuple\n",
    "    \"\"\"\n",
    "    if plot_series:\n",
    "        x = series.index\n",
    "        y = series.values\n",
    "        plt.plot(x, y, 'o', color=color, alpha=0.3, label='_')\n",
    "        # series.plot(linewidth=0, marker='o', color=color, alpha=0.3, label='_')\n",
    "        \n",
    "    smooth = make_lowess(series)\n",
    "    if indexed:\n",
    "        smooth /= smooth.iloc[0] / 100\n",
    "\n",
    "    style = '--' if series.name=='all' else '-'\n",
    "    smooth.plot(style=style, label=series.name, color=color)"
   ]
  },
  {
   "cell_type": "code",
   "execution_count": 74,
   "metadata": {},
   "outputs": [
    {
     "data": {
      "text/plain": [
       "10"
      ]
     },
     "execution_count": 74,
     "metadata": {},
     "output_type": "execute_result"
    }
   ],
   "source": [
    "prop_cycle = plt.rcParams['axes.prop_cycle']\n",
    "colors = prop_cycle.by_key()['color']\n",
    "len(colors)"
   ]
  },
  {
   "cell_type": "code",
   "execution_count": 83,
   "metadata": {},
   "outputs": [],
   "source": [
    "from itertools import cycle\n",
    "\n",
    "color_it = cycle(colors)"
   ]
  },
  {
   "cell_type": "code",
   "execution_count": 84,
   "metadata": {},
   "outputs": [],
   "source": [
    "\n",
    "def plot_columns_lowess(table, columns, color_map=None, **options):\n",
    "    \"\"\"Plot the columns in a DataFrame.\n",
    "    \n",
    "    table: DataFrame with a cross tabulation\n",
    "    columns: list of column names, in the desired order\n",
    "    colors: mapping from column names to colors\n",
    "    \"\"\"\n",
    "    color_it = cycle(colors)\n",
    "    \n",
    "    for col in columns:\n",
    "        series = table[col]\n",
    "        color = color_map[col] if color_map else next(color_it)\n",
    "        plot_series_lowess(series, color, **options)"
   ]
  },
  {
   "cell_type": "code",
   "execution_count": null,
   "metadata": {},
   "outputs": [],
   "source": []
  },
  {
   "cell_type": "code",
   "execution_count": null,
   "metadata": {},
   "outputs": [],
   "source": []
  },
  {
   "cell_type": "code",
   "execution_count": 9,
   "metadata": {},
   "outputs": [
    {
     "data": {
      "text/plain": [
       "(64814, 169)"
      ]
     },
     "execution_count": 9,
     "metadata": {},
     "output_type": "execute_result"
    }
   ],
   "source": [
    "gss = pd.read_hdf('gss_eda.3.hdf5', 'gss0')\n",
    "gss.shape"
   ]
  },
  {
   "cell_type": "code",
   "execution_count": 10,
   "metadata": {},
   "outputs": [],
   "source": [
    "recode_polviews = {1:'Liberal', \n",
    "                   2:'Liberal', \n",
    "                   3:'Liberal', \n",
    "                   4:'Moderate', \n",
    "                   5:'Conservative', \n",
    "                   6:'Conservative', \n",
    "                   7:'Conservative'}"
   ]
  },
  {
   "cell_type": "code",
   "execution_count": 11,
   "metadata": {},
   "outputs": [
    {
     "data": {
      "text/plain": [
       "Moderate        21444\n",
       "Conservative    19129\n",
       "Liberal         14979\n",
       "Name: polviews3, dtype: int64"
      ]
     },
     "execution_count": 11,
     "metadata": {},
     "output_type": "execute_result"
    }
   ],
   "source": [
    "gss['polviews3'] = gss['polviews'].replace(recode_polviews)\n",
    "gss['polviews3'].value_counts()"
   ]
  },
  {
   "cell_type": "markdown",
   "metadata": {},
   "source": [
    ">Generally speaking, do you usually think of yourself as a Republican, Democrat, Independent, or what?\n",
    "\n",
    "The valid responses are:\n",
    "\n",
    "```\n",
    "0\tStrong democrat\n",
    "1\tNot str democrat\n",
    "2\tInd,near dem\n",
    "3\tIndependent\n",
    "4\tInd,near rep\n",
    "5\tNot str republican\n",
    "6\tStrong republican\n",
    "7\tOther party\n",
    "```\n",
    "\n",
    "You can [read the codebook for `partyid` here](https://gssdataexplorer.norc.org/projects/52787/variables/141/vshow)."
   ]
  },
  {
   "cell_type": "code",
   "execution_count": 12,
   "metadata": {},
   "outputs": [],
   "source": [
    "recode_partyid = {0: 'Democrat',\n",
    "                  1:'Democrat', \n",
    "                   2:'Independent', \n",
    "                   3:'Independent', \n",
    "                   4:'Independent', \n",
    "                   5:'Republican', \n",
    "                   6:'Republican', \n",
    "                   7:'Other'}"
   ]
  },
  {
   "cell_type": "code",
   "execution_count": 13,
   "metadata": {},
   "outputs": [
    {
     "data": {
      "text/plain": [
       "Independent    23404\n",
       "Democrat       23308\n",
       "Republican     16617\n",
       "Other           1064\n",
       "Name: partyid4, dtype: int64"
      ]
     },
     "execution_count": 13,
     "metadata": {},
     "output_type": "execute_result"
    }
   ],
   "source": [
    "gss['partyid4'] = gss['partyid'].replace(recode_partyid)\n",
    "gss['partyid4'].value_counts()"
   ]
  },
  {
   "cell_type": "markdown",
   "metadata": {},
   "source": [
    "Respondent's highest degree\n",
    "\n",
    "```\n",
    "0 \tLt high school\n",
    "1 \tHigh school\n",
    "2 \tJunior college\n",
    "3 \tBachelor\n",
    "4 \tGraduate\n",
    "8 \tDon't know\n",
    "9 \tNo answer\n",
    "```\n",
    "\n"
   ]
  },
  {
   "cell_type": "code",
   "execution_count": 14,
   "metadata": {},
   "outputs": [
    {
     "data": {
      "text/plain": [
       "1.0    33855\n",
       "0.0    13274\n",
       "3.0     9277\n",
       "4.0     4465\n",
       "2.0     3759\n",
       "Name: degree, dtype: int64"
      ]
     },
     "execution_count": 14,
     "metadata": {},
     "output_type": "execute_result"
    }
   ],
   "source": [
    "gss['degree'].value_counts()"
   ]
  },
  {
   "cell_type": "markdown",
   "metadata": {},
   "source": [
    "> What is your religious preference? Is it Protestant, Catholic, Jewish, some other religion, or no religion?\n",
    "\n",
    "```\n",
    "1 \tProtestant\n",
    "2 \tCatholic\n",
    "3 \tJewish\n",
    "4 \tNone\n",
    "5 \tOther\n",
    "6 \tBuddhism\n",
    "7 \tHinduism\n",
    "8 \tOther eastern\n",
    "9 \tMoslem/islam\n",
    "10 \tOrthodox-christian\n",
    "11 \tChristian\n",
    "12 \tNative american\n",
    "13 \tInter-nondenominational\n",
    "```\n",
    "\n"
   ]
  },
  {
   "cell_type": "code",
   "execution_count": 15,
   "metadata": {},
   "outputs": [],
   "source": [
    "recode_relig = {1:'Protestant', \n",
    "                   2:'Catholic', \n",
    "                   3:'Other', \n",
    "                   4:'None', \n",
    "                   5:'Other', \n",
    "                   6:'Other', \n",
    "                   7:'Other', \n",
    "                   8:'Other', \n",
    "                   9:'Other', \n",
    "                   10:'Other Christian', \n",
    "                   11:'Other Christian', \n",
    "                   12:'Other', \n",
    "                   13:'Other'}"
   ]
  },
  {
   "cell_type": "code",
   "execution_count": 16,
   "metadata": {},
   "outputs": [
    {
     "data": {
      "text/plain": [
       "Protestant         36378\n",
       "Catholic           16501\n",
       "None                7803\n",
       "Other               2966\n",
       "Other Christian      896\n",
       "Name: relig5, dtype: int64"
      ]
     },
     "execution_count": 16,
     "metadata": {},
     "output_type": "execute_result"
    }
   ],
   "source": [
    "gss['relig5'] = gss['relig'].replace(recode_relig)\n",
    "gss['relig5'].value_counts()"
   ]
  },
  {
   "cell_type": "markdown",
   "metadata": {},
   "source": [
    "> If you were asked to use one of four names for your social class, which would you say you belong in: the lower class, the working class, the middle class, or the upper class?\n",
    " \n",
    "```\n",
    "1 \tLower class\n",
    "2 \tWorking class\n",
    "3 \tMiddle class\n",
    "4 \tUpper class\n",
    "5 \tNo class\n",
    "8 \tDon't know\n",
    "9 \tNo answer\n",
    "0 \tNot applicable\n",
    "```"
   ]
  },
  {
   "cell_type": "code",
   "execution_count": 17,
   "metadata": {},
   "outputs": [
    {
     "data": {
      "text/plain": [
       "2.0    28215\n",
       "3.0    27746\n",
       "1.0     3398\n",
       "4.0     1969\n",
       "Name: class_, dtype: int64"
      ]
     },
     "execution_count": 17,
     "metadata": {},
     "output_type": "execute_result"
    }
   ],
   "source": [
    "gss['class_'].value_counts()"
   ]
  },
  {
   "cell_type": "code",
   "execution_count": null,
   "metadata": {},
   "outputs": [],
   "source": []
  },
  {
   "cell_type": "code",
   "execution_count": 18,
   "metadata": {},
   "outputs": [
    {
     "data": {
      "text/plain": [
       "0    60.0\n",
       "1    53.0\n",
       "2    72.0\n",
       "3    19.0\n",
       "4    44.0\n",
       "Name: age, dtype: float32"
      ]
     },
     "execution_count": 18,
     "metadata": {},
     "output_type": "execute_result"
    }
   ],
   "source": [
    "gss['age'].head()"
   ]
  },
  {
   "cell_type": "code",
   "execution_count": 19,
   "metadata": {},
   "outputs": [
    {
     "data": {
      "text/plain": [
       "0    60\n",
       "1    55\n",
       "2    70\n",
       "3    20\n",
       "4    45\n",
       "Name: age5, dtype: category\n",
       "Categories (15, int64): [20 < 25 < 30 < 35 ... 75 < 80 < 85 < 90]"
      ]
     },
     "execution_count": 19,
     "metadata": {},
     "output_type": "execute_result"
    }
   ],
   "source": [
    "bins = np.arange(17, 95, 5)\n",
    "labels = bins[:-1] + 3\n",
    "\n",
    "gss['age5'] = pd.cut(gss['age'], bins, labels=labels)\n",
    "gss['age5'].head()"
   ]
  },
  {
   "cell_type": "code",
   "execution_count": 20,
   "metadata": {},
   "outputs": [
    {
     "data": {
      "text/plain": [
       "20    5308\n",
       "25    7010\n",
       "30    6776\n",
       "35    6534\n",
       "40    6176\n",
       "45    6103\n",
       "50    5763\n",
       "55    5153\n",
       "60    4457\n",
       "65    3719\n",
       "70    3044\n",
       "75    2155\n",
       "80    1329\n",
       "85     731\n",
       "90     375\n",
       "Name: age5, dtype: int64"
      ]
     },
     "execution_count": 20,
     "metadata": {},
     "output_type": "execute_result"
    }
   ],
   "source": [
    "gss['age5'].value_counts().sort_index()"
   ]
  },
  {
   "cell_type": "code",
   "execution_count": null,
   "metadata": {},
   "outputs": [],
   "source": []
  },
  {
   "cell_type": "code",
   "execution_count": 21,
   "metadata": {},
   "outputs": [
    {
     "data": {
      "text/plain": [
       "0    1912.0\n",
       "1    1919.0\n",
       "2    1900.0\n",
       "3    1953.0\n",
       "4    1928.0\n",
       "Name: cohort, dtype: float32"
      ]
     },
     "execution_count": 21,
     "metadata": {},
     "output_type": "execute_result"
    }
   ],
   "source": [
    "gss['cohort'].head()"
   ]
  },
  {
   "cell_type": "code",
   "execution_count": 22,
   "metadata": {},
   "outputs": [
    {
     "data": {
      "text/plain": [
       "0    1910\n",
       "1    1910\n",
       "2    1900\n",
       "3    1950\n",
       "4    1920\n",
       "Name: cohort10, dtype: category\n",
       "Categories (11, int64): [1890 < 1900 < 1910 < 1920 ... 1960 < 1970 < 1980 < 1990]"
      ]
     },
     "execution_count": 22,
     "metadata": {},
     "output_type": "execute_result"
    }
   ],
   "source": [
    "bins = np.arange(1889, 2001, 10)\n",
    "labels = bins[:-1] + 1\n",
    "\n",
    "gss['cohort10'] = pd.cut(gss['cohort'], bins, labels=labels)\n",
    "gss['cohort10'].head()"
   ]
  },
  {
   "cell_type": "code",
   "execution_count": 23,
   "metadata": {},
   "outputs": [
    {
     "data": {
      "text/plain": [
       "1890      455\n",
       "1900     1717\n",
       "1910     3663\n",
       "1920     5959\n",
       "1930     6889\n",
       "1940    10463\n",
       "1950    13422\n",
       "1960    10123\n",
       "1970     6705\n",
       "1980     3821\n",
       "1990     1345\n",
       "Name: cohort10, dtype: int64"
      ]
     },
     "execution_count": 23,
     "metadata": {},
     "output_type": "execute_result"
    }
   ],
   "source": [
    "gss['cohort10'].value_counts().sort_index()"
   ]
  },
  {
   "cell_type": "code",
   "execution_count": null,
   "metadata": {},
   "outputs": [],
   "source": []
  },
  {
   "cell_type": "code",
   "execution_count": 24,
   "metadata": {},
   "outputs": [
    {
     "data": {
      "text/plain": [
       "64809    2018\n",
       "64810    2018\n",
       "64811    2018\n",
       "64812    2018\n",
       "64813    2018\n",
       "Name: year, dtype: int64"
      ]
     },
     "execution_count": 24,
     "metadata": {},
     "output_type": "execute_result"
    }
   ],
   "source": [
    "gss['year'].tail()"
   ]
  },
  {
   "cell_type": "code",
   "execution_count": 25,
   "metadata": {},
   "outputs": [
    {
     "data": {
      "text/plain": [
       "array([1970, 1975, 1980, 1985, 1990, 1995, 2000, 2005, 2010, 2015, 2020])"
      ]
     },
     "execution_count": 25,
     "metadata": {},
     "output_type": "execute_result"
    }
   ],
   "source": [
    "bins = np.arange(1970, 2025, 5)\n",
    "bins"
   ]
  },
  {
   "cell_type": "code",
   "execution_count": 26,
   "metadata": {},
   "outputs": [
    {
     "data": {
      "text/plain": [
       "64809    2017\n",
       "64810    2017\n",
       "64811    2017\n",
       "64812    2017\n",
       "64813    2017\n",
       "Name: year5, dtype: category\n",
       "Categories (10, int64): [1972 < 1977 < 1982 < 1987 ... 2002 < 2007 < 2012 < 2017]"
      ]
     },
     "execution_count": 26,
     "metadata": {},
     "output_type": "execute_result"
    }
   ],
   "source": [
    "labels = bins[:-1] + 2\n",
    "\n",
    "gss['year5'] = pd.cut(gss['year'], bins, labels=labels)\n",
    "gss['year5'].tail()"
   ]
  },
  {
   "cell_type": "code",
   "execution_count": 27,
   "metadata": {},
   "outputs": [
    {
     "data": {
      "text/plain": [
       "1972    6091\n",
       "1977    6029\n",
       "1982    6466\n",
       "1987    7679\n",
       "1992    6115\n",
       "1997    8553\n",
       "2002    5577\n",
       "2007    8577\n",
       "2012    4512\n",
       "2017    5215\n",
       "Name: year5, dtype: int64"
      ]
     },
     "execution_count": 27,
     "metadata": {},
     "output_type": "execute_result"
    }
   ],
   "source": [
    "gss['year5'].value_counts().sort_index()"
   ]
  },
  {
   "cell_type": "code",
   "execution_count": null,
   "metadata": {},
   "outputs": [],
   "source": []
  },
  {
   "cell_type": "code",
   "execution_count": null,
   "metadata": {},
   "outputs": [],
   "source": []
  },
  {
   "cell_type": "markdown",
   "metadata": {},
   "source": [
    "Family income on 1972-2006 surveys in constant dollars (base = 1986)"
   ]
  },
  {
   "cell_type": "code",
   "execution_count": 144,
   "metadata": {},
   "outputs": [
    {
     "data": {
      "text/plain": [
       "count     57728.000000\n",
       "mean      34807.546875\n",
       "std       30804.416016\n",
       "min         227.000000\n",
       "25%       14015.000000\n",
       "50%       26015.000000\n",
       "75%       44178.750000\n",
       "max      162607.000000\n",
       "Name: realinc, dtype: float64"
      ]
     },
     "execution_count": 144,
     "metadata": {},
     "output_type": "execute_result"
    }
   ],
   "source": [
    "gss['realinc'].describe()"
   ]
  },
  {
   "cell_type": "code",
   "execution_count": 157,
   "metadata": {},
   "outputs": [
    {
     "data": {
      "text/plain": [
       "count    57728.000000\n",
       "mean         4.370259\n",
       "std          0.433391\n",
       "min          2.356026\n",
       "25%          4.146593\n",
       "50%          4.415224\n",
       "75%          4.645214\n",
       "max          5.211139\n",
       "Name: log_realinc, dtype: float64"
      ]
     },
     "execution_count": 157,
     "metadata": {},
     "output_type": "execute_result"
    }
   ],
   "source": [
    "gss['log_realinc'] = np.log10(gss['realinc'])\n",
    "gss['log_realinc'].describe()"
   ]
  },
  {
   "cell_type": "code",
   "execution_count": 159,
   "metadata": {},
   "outputs": [
    {
     "data": {
      "text/plain": [
       "0    (4.415, 4.507]\n",
       "1    (4.329, 4.415]\n",
       "2    (2.355, 3.829]\n",
       "3    (4.507, 4.587]\n",
       "4    (4.587, 4.688]\n",
       "Name: log_realinc, dtype: category\n",
       "Categories (10, interval[float64]): [(2.355, 3.829] < (3.829, 4.07] < (4.07, 4.22] < (4.22, 4.329] ... (4.507, 4.587] < (4.587, 4.688] < (4.688, 4.861] < (4.861, 5.211]]"
      ]
     },
     "execution_count": 159,
     "metadata": {},
     "output_type": "execute_result"
    }
   ],
   "source": [
    "temp, bins = pd.qcut(gss['log_realinc'], 10, retbins=True)\n",
    "temp.head()"
   ]
  },
  {
   "cell_type": "code",
   "execution_count": 160,
   "metadata": {},
   "outputs": [
    {
     "data": {
      "text/plain": [
       "array([2.35602593, 3.82872438, 4.07044411, 4.21950579, 4.32876158,\n",
       "       4.41522408, 4.50650501, 4.58669996, 4.68833065, 4.86117601,\n",
       "       5.2111392 ])"
      ]
     },
     "execution_count": 160,
     "metadata": {},
     "output_type": "execute_result"
    }
   ],
   "source": [
    "bins"
   ]
  },
  {
   "cell_type": "code",
   "execution_count": 161,
   "metadata": {},
   "outputs": [
    {
     "data": {
      "text/plain": [
       "array([3.09237516, 3.94958425, 4.14497495, 4.27413368, 4.37199283,\n",
       "       4.46086454, 4.54660249, 4.63751531, 4.77475333, 5.03615761])"
      ]
     },
     "execution_count": 161,
     "metadata": {},
     "output_type": "execute_result"
    }
   ],
   "source": [
    "labels = np.diff(bins) / 2 + bins[:-1]\n",
    "labels"
   ]
  },
  {
   "cell_type": "code",
   "execution_count": 163,
   "metadata": {},
   "outputs": [
    {
     "data": {
      "text/plain": [
       "10"
      ]
     },
     "execution_count": 163,
     "metadata": {},
     "output_type": "execute_result"
    }
   ],
   "source": [
    "len(labels)"
   ]
  },
  {
   "cell_type": "code",
   "execution_count": 162,
   "metadata": {},
   "outputs": [
    {
     "name": "stderr",
     "output_type": "stream",
     "text": [
      "/home/downey/anaconda3/envs/ProbablyOverthinkingIt/lib/python3.9/site-packages/pandas/io/formats/format.py:1403: FutureWarning: Index.ravel returning ndarray is deprecated; in a future version this will return a view on self.\n",
      "  for val, m in zip(values.ravel(), mask.ravel())\n",
      "/home/downey/anaconda3/envs/ProbablyOverthinkingIt/lib/python3.9/site-packages/pandas/io/formats/format.py:1403: FutureWarning: Index.ravel returning ndarray is deprecated; in a future version this will return a view on self.\n",
      "  for val, m in zip(values.ravel(), mask.ravel())\n"
     ]
    },
    {
     "data": {
      "text/plain": [
       "0    4.460865\n",
       "1    4.371993\n",
       "2    3.092375\n",
       "3    4.546602\n",
       "4    4.637515\n",
       "Name: log_realinc10, dtype: category\n",
       "Categories (10, float64): [3.092375 < 3.949584 < 4.144975 < 4.274134 ... 4.546602 < 4.637515 < 4.774753 < 5.036158]"
      ]
     },
     "execution_count": 162,
     "metadata": {},
     "output_type": "execute_result"
    }
   ],
   "source": [
    "gss['log_realinc10'] = pd.qcut(gss['log_realinc'], 10, labels=labels)\n",
    "gss['log_realinc10'].head()"
   ]
  },
  {
   "cell_type": "markdown",
   "metadata": {},
   "source": [
    "## Run Subgroups"
   ]
  },
  {
   "cell_type": "code",
   "execution_count": 28,
   "metadata": {},
   "outputs": [],
   "source": [
    "xvarname = 'year'\n",
    "yvarname = 'fund'\n",
    "gvarname = 'relig5'"
   ]
  },
  {
   "cell_type": "code",
   "execution_count": 29,
   "metadata": {},
   "outputs": [],
   "source": [
    "yvar = gss[yvarname]"
   ]
  },
  {
   "cell_type": "code",
   "execution_count": 30,
   "metadata": {},
   "outputs": [
    {
     "data": {
      "text/plain": [
       "2.0    27000\n",
       "1.0    18789\n",
       "3.0    16513\n",
       "Name: fund, dtype: int64"
      ]
     },
     "execution_count": 30,
     "metadata": {},
     "output_type": "execute_result"
    }
   ],
   "source": [
    "counts = yvar.value_counts()\n",
    "counts"
   ]
  },
  {
   "cell_type": "code",
   "execution_count": 31,
   "metadata": {},
   "outputs": [
    {
     "data": {
      "text/plain": [
       "2.0"
      ]
     },
     "execution_count": 31,
     "metadata": {},
     "output_type": "execute_result"
    }
   ],
   "source": [
    "most_common = counts.idxmax()\n",
    "most_common"
   ]
  },
  {
   "cell_type": "code",
   "execution_count": 32,
   "metadata": {},
   "outputs": [
    {
     "data": {
      "text/plain": [
       "2.0    1\n",
       "1.0    0\n",
       "3.0    0\n",
       "Name: fund, dtype: int64"
      ]
     },
     "execution_count": 32,
     "metadata": {},
     "output_type": "execute_result"
    }
   ],
   "source": [
    "d = counts.copy()\n",
    "d[:] = 0\n",
    "d[most_common] = 1\n",
    "d"
   ]
  },
  {
   "cell_type": "code",
   "execution_count": 33,
   "metadata": {},
   "outputs": [
    {
     "data": {
      "text/plain": [
       "0.0    35302\n",
       "1.0    27000\n",
       "Name: y, dtype: int64"
      ]
     },
     "execution_count": 33,
     "metadata": {},
     "output_type": "execute_result"
    }
   ],
   "source": [
    "gss['y'] = yvar.replace(d)\n",
    "gss['y'].value_counts()"
   ]
  },
  {
   "cell_type": "code",
   "execution_count": 34,
   "metadata": {},
   "outputs": [
    {
     "data": {
      "text/plain": [
       "2512"
      ]
     },
     "execution_count": 34,
     "metadata": {},
     "output_type": "execute_result"
    }
   ],
   "source": [
    "gss['y'].isnull().sum()"
   ]
  },
  {
   "cell_type": "code",
   "execution_count": 35,
   "metadata": {},
   "outputs": [],
   "source": [
    "gss['x'] = gss[xvarname]"
   ]
  },
  {
   "cell_type": "code",
   "execution_count": 36,
   "metadata": {},
   "outputs": [
    {
     "name": "stdout",
     "output_type": "stream",
     "text": [
      "Optimization terminated successfully.\n",
      "         Current function value: 0.682015\n",
      "         Iterations 4\n"
     ]
    }
   ],
   "source": [
    "import statsmodels.formula.api as smf\n",
    "\n",
    "formula = 'y ~ x'\n",
    "results = smf.logit(formula, data=gss).fit()"
   ]
  },
  {
   "cell_type": "code",
   "execution_count": 37,
   "metadata": {},
   "outputs": [
    {
     "data": {
      "text/plain": [
       "-0.010007568995860933"
      ]
     },
     "execution_count": 37,
     "metadata": {},
     "output_type": "execute_result"
    }
   ],
   "source": [
    "param = results.params['x']\n",
    "param"
   ]
  },
  {
   "cell_type": "code",
   "execution_count": 38,
   "metadata": {},
   "outputs": [
    {
     "data": {
      "text/plain": [
       "4.794654437207781e-62"
      ]
     },
     "execution_count": 38,
     "metadata": {},
     "output_type": "execute_result"
    }
   ],
   "source": [
    "pvalue = results.pvalues['x']\n",
    "pvalue"
   ]
  },
  {
   "cell_type": "code",
   "execution_count": 39,
   "metadata": {},
   "outputs": [
    {
     "data": {
      "text/plain": [
       "array([-0.01118757, -0.00882757])"
      ]
     },
     "execution_count": 39,
     "metadata": {},
     "output_type": "execute_result"
    }
   ],
   "source": [
    "conf_int = results.conf_int().loc['x'].values\n",
    "conf_int"
   ]
  },
  {
   "cell_type": "code",
   "execution_count": 40,
   "metadata": {},
   "outputs": [],
   "source": [
    "stderr = results.bse['x']"
   ]
  },
  {
   "cell_type": "code",
   "execution_count": 41,
   "metadata": {},
   "outputs": [],
   "source": [
    "def get_xresult(results):\n",
    "    param = results.params['x']\n",
    "    pvalue = results.pvalues['x']\n",
    "    conf_int = results.conf_int().loc['x'].values\n",
    "    stderr = results.bse['x']\n",
    "    return [param, pvalue, stderr, conf_int]"
   ]
  },
  {
   "cell_type": "code",
   "execution_count": 42,
   "metadata": {},
   "outputs": [
    {
     "data": {
      "text/html": [
       "<div>\n",
       "<style scoped>\n",
       "    .dataframe tbody tr th:only-of-type {\n",
       "        vertical-align: middle;\n",
       "    }\n",
       "\n",
       "    .dataframe tbody tr th {\n",
       "        vertical-align: top;\n",
       "    }\n",
       "\n",
       "    .dataframe thead th {\n",
       "        text-align: right;\n",
       "    }\n",
       "</style>\n",
       "<table border=\"1\" class=\"dataframe\">\n",
       "  <thead>\n",
       "    <tr style=\"text-align: right;\">\n",
       "      <th></th>\n",
       "      <th>param</th>\n",
       "      <th>pvalue</th>\n",
       "      <th>stderr</th>\n",
       "      <th>conf_inf</th>\n",
       "    </tr>\n",
       "  </thead>\n",
       "  <tbody>\n",
       "    <tr>\n",
       "      <th>all</th>\n",
       "      <td>-0.010008</td>\n",
       "      <td>4.794654e-62</td>\n",
       "      <td>0.000602</td>\n",
       "      <td>[-0.01118756921483927, -0.008827568776882597]</td>\n",
       "    </tr>\n",
       "  </tbody>\n",
       "</table>\n",
       "</div>"
      ],
      "text/plain": [
       "        param        pvalue    stderr  \\\n",
       "all -0.010008  4.794654e-62  0.000602   \n",
       "\n",
       "                                          conf_inf  \n",
       "all  [-0.01118756921483927, -0.008827568776882597]  "
      ]
     },
     "execution_count": 42,
     "metadata": {},
     "output_type": "execute_result"
    }
   ],
   "source": [
    "columns = ['param', 'pvalue', 'stderr', 'conf_inf']\n",
    "result_df = pd.DataFrame(columns=columns, dtype=object)\n",
    "result_df.loc['all'] = get_xresult(results)\n",
    "result_df"
   ]
  },
  {
   "cell_type": "code",
   "execution_count": 43,
   "metadata": {},
   "outputs": [
    {
     "name": "stdout",
     "output_type": "stream",
     "text": [
      "Catholic 16501\n",
      "None 7803\n",
      "Other 2966\n",
      "Other Christian 896\n",
      "Protestant 36378\n"
     ]
    }
   ],
   "source": [
    "grouped = gss.groupby(gvarname)\n",
    "\n",
    "for name, group in grouped:\n",
    "    print(name, len(group))"
   ]
  },
  {
   "cell_type": "code",
   "execution_count": 44,
   "metadata": {},
   "outputs": [],
   "source": [
    "def valid_group(group, yvarname):\n",
    "\n",
    "    # make sure we have at least 100 values\n",
    "    num_valid = group[yvarname].notnull().sum()\n",
    "    if num_valid < 100:\n",
    "        return False\n",
    "    \n",
    "    # make sure all the answers aren't the same\n",
    "    counts = group[yvarname].value_counts()\n",
    "    most_common = counts.max()\n",
    "    \n",
    "    nonplurality = num_valid - most_common\n",
    "    if nonplurality < 20:\n",
    "        return False\n",
    "        \n",
    "    return True"
   ]
  },
  {
   "cell_type": "code",
   "execution_count": 45,
   "metadata": {},
   "outputs": [
    {
     "name": "stdout",
     "output_type": "stream",
     "text": [
      "Other Christian\n",
      "Protestant\n"
     ]
    }
   ],
   "source": [
    "for name, group in grouped:\n",
    "\n",
    "    if valid_group(group, yvarname):\n",
    "        print(name)"
   ]
  },
  {
   "cell_type": "code",
   "execution_count": 46,
   "metadata": {},
   "outputs": [
    {
     "name": "stdout",
     "output_type": "stream",
     "text": [
      "2.0    633\n",
      "1.0    107\n",
      "3.0     97\n",
      "Name: fund, dtype: int64\n",
      "Other Christian 0.3483233869681431\n",
      "1.0    18678\n",
      "2.0     9856\n",
      "3.0     7401\n",
      "Name: fund, dtype: int64\n",
      "Protestant -0.01632941103830114\n"
     ]
    }
   ],
   "source": [
    "for name, group in grouped:\n",
    "    if not valid_group(group, yvarname):\n",
    "        continue\n",
    "    print(group[yvarname].value_counts())\n",
    "    results = smf.logit(formula, data=group).fit(disp=False)\n",
    "    result_df.loc[name] = get_xresult(results)\n",
    "    print(name, results.params['x'])"
   ]
  },
  {
   "cell_type": "code",
   "execution_count": 47,
   "metadata": {},
   "outputs": [
    {
     "data": {
      "text/html": [
       "<div>\n",
       "<style scoped>\n",
       "    .dataframe tbody tr th:only-of-type {\n",
       "        vertical-align: middle;\n",
       "    }\n",
       "\n",
       "    .dataframe tbody tr th {\n",
       "        vertical-align: top;\n",
       "    }\n",
       "\n",
       "    .dataframe thead th {\n",
       "        text-align: right;\n",
       "    }\n",
       "</style>\n",
       "<table border=\"1\" class=\"dataframe\">\n",
       "  <thead>\n",
       "    <tr style=\"text-align: right;\">\n",
       "      <th></th>\n",
       "      <th>param</th>\n",
       "      <th>pvalue</th>\n",
       "      <th>stderr</th>\n",
       "      <th>conf_inf</th>\n",
       "    </tr>\n",
       "  </thead>\n",
       "  <tbody>\n",
       "    <tr>\n",
       "      <th>all</th>\n",
       "      <td>-0.010008</td>\n",
       "      <td>4.794654e-62</td>\n",
       "      <td>0.000602</td>\n",
       "      <td>[-0.01118756921483927, -0.008827568776882597]</td>\n",
       "    </tr>\n",
       "    <tr>\n",
       "      <th>Other Christian</th>\n",
       "      <td>0.348323</td>\n",
       "      <td>7.744273e-39</td>\n",
       "      <td>0.026722</td>\n",
       "      <td>[0.2959486113167891, 0.40069816261949703]</td>\n",
       "    </tr>\n",
       "    <tr>\n",
       "      <th>Protestant</th>\n",
       "      <td>-0.016329</td>\n",
       "      <td>7.699628e-72</td>\n",
       "      <td>0.000911</td>\n",
       "      <td>[-0.018115036430687938, -0.01454378564591434]</td>\n",
       "    </tr>\n",
       "  </tbody>\n",
       "</table>\n",
       "</div>"
      ],
      "text/plain": [
       "                    param        pvalue    stderr  \\\n",
       "all             -0.010008  4.794654e-62  0.000602   \n",
       "Other Christian  0.348323  7.744273e-39  0.026722   \n",
       "Protestant      -0.016329  7.699628e-72  0.000911   \n",
       "\n",
       "                                                      conf_inf  \n",
       "all              [-0.01118756921483927, -0.008827568776882597]  \n",
       "Other Christian      [0.2959486113167891, 0.40069816261949703]  \n",
       "Protestant       [-0.018115036430687938, -0.01454378564591434]  "
      ]
     },
     "execution_count": 47,
     "metadata": {},
     "output_type": "execute_result"
    }
   ],
   "source": [
    "result_df"
   ]
  },
  {
   "cell_type": "code",
   "execution_count": null,
   "metadata": {},
   "outputs": [],
   "source": []
  },
  {
   "cell_type": "code",
   "execution_count": 48,
   "metadata": {},
   "outputs": [],
   "source": [
    "def run_subgroups(gss, xvarname, yvarname, gvarname):\n",
    "    yvar = gss[yvarname]\n",
    "    counts = yvar.value_counts()\n",
    "    most_common = counts.idxmax()\n",
    "\n",
    "    d = counts.copy()\n",
    "    d[:] = 0\n",
    "    d[most_common] = 1\n",
    "\n",
    "    gss['y'] = yvar.replace(d)\n",
    "    gss['x'] = gss[xvarname]\n",
    "    #xvalues = gss['x'].unique()\n",
    "\n",
    "    formula = 'y ~ x'\n",
    "    results = smf.logit(formula, data=gss).fit(disp=False)\n",
    "    #pred_df = pd.DataFrame(results.predict(xvalues), \n",
    "    #                       columns=['all'], index=xvalues)\n",
    "    #print(pred_df)\n",
    "\n",
    "    param = results.params['x']\n",
    "    pvalue = results.pvalues['x']\n",
    "    conf_int = results.conf_int().loc['x'].values\n",
    "    stderr = results.bse['x']\n",
    "\n",
    "    columns = ['param', 'pvalue', 'stderr', 'conf_inf']\n",
    "    result_df = pd.DataFrame(columns=columns, dtype=object)\n",
    "    result_df.loc['all'] = get_xresult(results)\n",
    "\n",
    "    grouped = gss.groupby(gvarname)\n",
    "    for name, group in grouped:\n",
    "        if not valid_group(group, yvarname):\n",
    "            continue\n",
    "    \n",
    "        results = smf.logit(formula, data=group).fit(disp=False)\n",
    "        result_df.loc[name] = get_xresult(results)\n",
    "\n",
    "    return result_df"
   ]
  },
  {
   "cell_type": "code",
   "execution_count": 49,
   "metadata": {},
   "outputs": [
    {
     "data": {
      "text/html": [
       "<div>\n",
       "<style scoped>\n",
       "    .dataframe tbody tr th:only-of-type {\n",
       "        vertical-align: middle;\n",
       "    }\n",
       "\n",
       "    .dataframe tbody tr th {\n",
       "        vertical-align: top;\n",
       "    }\n",
       "\n",
       "    .dataframe thead th {\n",
       "        text-align: right;\n",
       "    }\n",
       "</style>\n",
       "<table border=\"1\" class=\"dataframe\">\n",
       "  <thead>\n",
       "    <tr style=\"text-align: right;\">\n",
       "      <th></th>\n",
       "      <th>param</th>\n",
       "      <th>pvalue</th>\n",
       "      <th>stderr</th>\n",
       "      <th>conf_inf</th>\n",
       "    </tr>\n",
       "  </thead>\n",
       "  <tbody>\n",
       "    <tr>\n",
       "      <th>all</th>\n",
       "      <td>0.003234</td>\n",
       "      <td>6.733636e-05</td>\n",
       "      <td>0.000812</td>\n",
       "      <td>[0.0016437864240885886, 0.0048249216360200945]</td>\n",
       "    </tr>\n",
       "    <tr>\n",
       "      <th>Democrat</th>\n",
       "      <td>0.019363</td>\n",
       "      <td>2.944667e-38</td>\n",
       "      <td>0.001497</td>\n",
       "      <td>[0.01642815207928425, 0.022297010084502907]</td>\n",
       "    </tr>\n",
       "    <tr>\n",
       "      <th>Independent</th>\n",
       "      <td>0.002507</td>\n",
       "      <td>6.016695e-02</td>\n",
       "      <td>0.001334</td>\n",
       "      <td>[-0.00010722608201531704, 0.005120890341326177]</td>\n",
       "    </tr>\n",
       "    <tr>\n",
       "      <th>Other</th>\n",
       "      <td>-0.013315</td>\n",
       "      <td>7.678432e-03</td>\n",
       "      <td>0.004995</td>\n",
       "      <td>[-0.02310464633097545, -0.0035258814981323633]</td>\n",
       "    </tr>\n",
       "    <tr>\n",
       "      <th>Republican</th>\n",
       "      <td>-0.009366</td>\n",
       "      <td>3.977877e-09</td>\n",
       "      <td>0.001592</td>\n",
       "      <td>[-0.012485542444758965, -0.006246924054176914]</td>\n",
       "    </tr>\n",
       "  </tbody>\n",
       "</table>\n",
       "</div>"
      ],
      "text/plain": [
       "                param        pvalue    stderr  \\\n",
       "all          0.003234  6.733636e-05  0.000812   \n",
       "Democrat     0.019363  2.944667e-38  0.001497   \n",
       "Independent  0.002507  6.016695e-02  0.001334   \n",
       "Other       -0.013315  7.678432e-03  0.004995   \n",
       "Republican  -0.009366  3.977877e-09  0.001592   \n",
       "\n",
       "                                                    conf_inf  \n",
       "all           [0.0016437864240885886, 0.0048249216360200945]  \n",
       "Democrat         [0.01642815207928425, 0.022297010084502907]  \n",
       "Independent  [-0.00010722608201531704, 0.005120890341326177]  \n",
       "Other         [-0.02310464633097545, -0.0035258814981323633]  \n",
       "Republican    [-0.012485542444758965, -0.006246924054176914]  "
      ]
     },
     "execution_count": 49,
     "metadata": {},
     "output_type": "execute_result"
    }
   ],
   "source": [
    "xvarname = 'year'\n",
    "yvarname = 'gunlaw'\n",
    "gvarname = 'partyid4'\n",
    "\n",
    "result_df = run_subgroups(gss, xvarname, yvarname, gvarname)\n",
    "result_df"
   ]
  },
  {
   "cell_type": "code",
   "execution_count": null,
   "metadata": {},
   "outputs": [],
   "source": []
  },
  {
   "cell_type": "code",
   "execution_count": null,
   "metadata": {},
   "outputs": [],
   "source": []
  },
  {
   "cell_type": "markdown",
   "metadata": {},
   "source": [
    "## Get Differences\n"
   ]
  },
  {
   "cell_type": "code",
   "execution_count": null,
   "metadata": {},
   "outputs": [],
   "source": []
  },
  {
   "cell_type": "code",
   "execution_count": 50,
   "metadata": {},
   "outputs": [
    {
     "data": {
      "text/plain": [
       "0.0008115289967121576"
      ]
     },
     "execution_count": 50,
     "metadata": {},
     "output_type": "execute_result"
    }
   ],
   "source": [
    "stderr = result_df.loc['all', 'stderr']\n",
    "stderr"
   ]
  },
  {
   "cell_type": "code",
   "execution_count": 51,
   "metadata": {},
   "outputs": [
    {
     "data": {
      "text/plain": [
       "array([[ 0.        , 20.77035943, 40.26700849, 35.40084759],\n",
       "       [20.77035943,  0.        , 19.49664905, 14.63048816],\n",
       "       [40.26700849, 19.49664905,  0.        ,  4.86616089],\n",
       "       [35.40084759, 14.63048816,  4.86616089,  0.        ]])"
      ]
     },
     "execution_count": 51,
     "metadata": {},
     "output_type": "execute_result"
    }
   ],
   "source": [
    "params = result_df['param'].values[1:]\n",
    "a = np.abs(np.subtract.outer(params, params)) / stderr\n",
    "a"
   ]
  },
  {
   "cell_type": "code",
   "execution_count": 52,
   "metadata": {},
   "outputs": [
    {
     "data": {
      "text/plain": [
       "Democrat     Democrat        0.000000\n",
       "             Independent    20.770359\n",
       "             Other          40.267008\n",
       "             Republican     35.400848\n",
       "Independent  Democrat       20.770359\n",
       "             Independent     0.000000\n",
       "             Other          19.496649\n",
       "             Republican     14.630488\n",
       "Other        Democrat       40.267008\n",
       "             Independent    19.496649\n",
       "             Other           0.000000\n",
       "             Republican      4.866161\n",
       "Republican   Democrat       35.400848\n",
       "             Independent    14.630488\n",
       "             Other           4.866161\n",
       "             Republican      0.000000\n",
       "dtype: float64"
      ]
     },
     "execution_count": 52,
     "metadata": {},
     "output_type": "execute_result"
    }
   ],
   "source": [
    "names = result_df.index.values[1:]\n",
    "diff_df = pd.DataFrame(a, index=names, columns=names).stack()\n",
    "diff_df"
   ]
  },
  {
   "cell_type": "code",
   "execution_count": 53,
   "metadata": {},
   "outputs": [
    {
     "data": {
      "text/plain": [
       "(40.2670084850191, ('Democrat', 'Other'))"
      ]
     },
     "execution_count": 53,
     "metadata": {},
     "output_type": "execute_result"
    }
   ],
   "source": [
    "diff_df.max(), diff_df.idxmax()"
   ]
  },
  {
   "cell_type": "code",
   "execution_count": 54,
   "metadata": {},
   "outputs": [],
   "source": [
    "def get_differences(result_df):\n",
    "    stderr = result_df.loc['all', 'stderr']\n",
    "    params = result_df['param'].values[1:]\n",
    "    a = np.abs(np.subtract.outer(params, params)) / stderr\n",
    "    names = result_df.index.values[1:]\n",
    "    diff_df = pd.DataFrame(a, index=names, columns=names).stack()\n",
    "    return diff_df"
   ]
  },
  {
   "cell_type": "code",
   "execution_count": 55,
   "metadata": {},
   "outputs": [],
   "source": [
    "diff_df = get_differences(result_df)"
   ]
  },
  {
   "cell_type": "code",
   "execution_count": 56,
   "metadata": {},
   "outputs": [
    {
     "data": {
      "text/plain": [
       "(40.2670084850191, ('Democrat', 'Other'))"
      ]
     },
     "execution_count": 56,
     "metadata": {},
     "output_type": "execute_result"
    }
   ],
   "source": [
    "diff_df.max(), diff_df.idxmax()"
   ]
  },
  {
   "cell_type": "code",
   "execution_count": null,
   "metadata": {},
   "outputs": [],
   "source": []
  },
  {
   "cell_type": "code",
   "execution_count": 57,
   "metadata": {},
   "outputs": [],
   "source": [
    "def check_simpson(result_df):\n",
    "    param_all = result_df['param'].values[0]\n",
    "    params = result_df['param'].values[1:]\n",
    "    mean, std = np.mean(params), np.std(params)\n",
    "    stderr = result_df['stderr'].values[0]\n",
    "    # if the standard deviation is small,\n",
    "    # use the standard error of the estimate\n",
    "    std = max(std, stderr)\n",
    "    return np.abs(param_all - mean) / std"
   ]
  },
  {
   "cell_type": "code",
   "execution_count": 58,
   "metadata": {},
   "outputs": [
    {
     "data": {
      "text/plain": [
       "0.27047264945760835"
      ]
     },
     "execution_count": 58,
     "metadata": {},
     "output_type": "execute_result"
    }
   ],
   "source": [
    "check_simpson(result_df)"
   ]
  },
  {
   "cell_type": "code",
   "execution_count": 59,
   "metadata": {},
   "outputs": [],
   "source": [
    "def true_simpson(result_df):\n",
    "    param_all = result_df['param'].values[0]\n",
    "    params = result_df['param'].values[1:]\n",
    "    if param_all > 0:\n",
    "        return np.all(params < 0)\n",
    "    else:\n",
    "        return np.all(params > 0)"
   ]
  },
  {
   "cell_type": "code",
   "execution_count": 60,
   "metadata": {},
   "outputs": [
    {
     "data": {
      "text/plain": [
       "False"
      ]
     },
     "execution_count": 60,
     "metadata": {},
     "output_type": "execute_result"
    }
   ],
   "source": [
    "true_simpson(result_df)"
   ]
  },
  {
   "cell_type": "code",
   "execution_count": null,
   "metadata": {},
   "outputs": [],
   "source": []
  },
  {
   "cell_type": "code",
   "execution_count": null,
   "metadata": {},
   "outputs": [],
   "source": []
  },
  {
   "cell_type": "code",
   "execution_count": 61,
   "metadata": {},
   "outputs": [
    {
     "data": {
      "text/plain": [
       "119"
      ]
     },
     "execution_count": 61,
     "metadata": {},
     "output_type": "execute_result"
    }
   ],
   "source": [
    "yvarnames = ['abany', 'abdefect', 'abhlth', 'abnomore', 'abpoor', 'abrape', \n",
    "            'absingle', 'affrmact', 'bible', 'cappun', 'colath', 'colcom', \n",
    "            'colhomo', 'colmil', 'colmslm', 'colrac', 'compuse', 'conarmy', \n",
    "            'conbus', 'conclerg', 'coneduc', 'confed', 'confinan', 'conjudge', \n",
    "            'conlabor', 'conlegis', 'conmedic', 'conpress', 'consci', 'contv', \n",
    "            'discaffm', 'discaffw', 'divlaw', 'divorce', 'fair', \n",
    "            'fear', 'fechld', 'fefam', 'fehire', 'fejobaff', 'fepol', 'fepresch', \n",
    "            'finrela', 'fund', 'fund16', 'god', 'grass', 'gunlaw', 'hapmar', \n",
    "            'happy', 'health', 'helpful', 'homosex', 'hunt', 'letdie1', \n",
    "            'libath', 'libcom', 'libhomo', 'libmil', 'libmslm', 'librac', \n",
    "            'life', 'memchurh', 'meovrwrk', 'nataid', 'natarms', 'natchld', \n",
    "            'natcity', 'natcrime', 'natcrimy', 'natdrug', 'nateduc', 'natenrgy', \n",
    "            'natenvir', 'natfare', 'natheal', 'natmass', 'natpark', 'natrace', \n",
    "            'natroad', 'natsci', 'natsoc', 'natspac', 'pornlaw', \n",
    "            'postlife', 'pray', 'prayer', 'premarsx', 'pres04', 'pres08', 'pres12', \n",
    "            'racmar', 'racopen', 'racpres', 'reborn', 'relexp', 'reliten', \n",
    "            'relpersn', 'res16', 'satfin', 'satjob', 'savesoul', 'sexeduc', \n",
    "            'spanking', 'spkath', 'spkcom', 'spkhomo', 'spkmil', 'spkmslm', \n",
    "            'spkrac', 'sprtprsn', 'teensex', 'trust', 'union_', 'xmarsex',\n",
    "            'owngun', 'pistol', 'attend', 'relactiv']\n",
    "\n",
    "len(yvarnames)"
   ]
  },
  {
   "cell_type": "code",
   "execution_count": 164,
   "metadata": {},
   "outputs": [],
   "source": [
    "xvarname = 'log_realinc'\n",
    "gvarname = 'polviews3'\n",
    "\n",
    "for yvarname in yvarnames:\n",
    "    result_df = run_subgroups(gss, xvarname, yvarname, gvarname)\n",
    "    if check_simpson(result_df) > 2:\n",
    "        flag = '*' if true_simpson(result_df) else ''\n",
    "        print(xvarname, yvarname, gvarname, flag)"
   ]
  },
  {
   "cell_type": "code",
   "execution_count": 165,
   "metadata": {},
   "outputs": [],
   "source": [
    "gvarnames = ['sex', 'race', 'polviews3', 'partyid4', 'relig5',\n",
    "             'age5', 'year5', 'cohort10', 'class_', 'degree']"
   ]
  },
  {
   "cell_type": "code",
   "execution_count": 166,
   "metadata": {},
   "outputs": [],
   "source": [
    "bad_pairs = [('year', 'year5'),\n",
    "            ('age', 'age5'),\n",
    "            ('cohort', 'cohort10')]"
   ]
  },
  {
   "cell_type": "code",
   "execution_count": 167,
   "metadata": {},
   "outputs": [],
   "source": [
    "xvarname = 'log_realinc'\n",
    "\n",
    "res = []\n",
    "for yvarname in yvarnames:\n",
    "    for gvarname in gvarnames:\n",
    "        #print(xvarname, yvarname, gvarname)\n",
    "        if (xvarname, gvarname) in bad_pairs:\n",
    "            continue\n",
    "        result_df = run_subgroups(gss, xvarname, yvarname, gvarname)\n",
    "        score = check_simpson(result_df)\n",
    "        if score > 2:\n",
    "            flag = true_simpson(result_df)\n",
    "            res.append((xvarname, yvarname, gvarname, score, flag))"
   ]
  },
  {
   "cell_type": "code",
   "execution_count": 168,
   "metadata": {},
   "outputs": [
    {
     "data": {
      "text/html": [
       "<div>\n",
       "<style scoped>\n",
       "    .dataframe tbody tr th:only-of-type {\n",
       "        vertical-align: middle;\n",
       "    }\n",
       "\n",
       "    .dataframe tbody tr th {\n",
       "        vertical-align: top;\n",
       "    }\n",
       "\n",
       "    .dataframe thead th {\n",
       "        text-align: right;\n",
       "    }\n",
       "</style>\n",
       "<table border=\"1\" class=\"dataframe\">\n",
       "  <thead>\n",
       "    <tr style=\"text-align: right;\">\n",
       "      <th></th>\n",
       "      <th>xvarname</th>\n",
       "      <th>yvarname</th>\n",
       "      <th>gvarname</th>\n",
       "      <th>score</th>\n",
       "      <th>flag</th>\n",
       "    </tr>\n",
       "  </thead>\n",
       "  <tbody>\n",
       "    <tr>\n",
       "      <th>1</th>\n",
       "      <td>log_realinc</td>\n",
       "      <td>colcom</td>\n",
       "      <td>degree</td>\n",
       "      <td>12.862849</td>\n",
       "      <td>False</td>\n",
       "    </tr>\n",
       "    <tr>\n",
       "      <th>23</th>\n",
       "      <td>log_realinc</td>\n",
       "      <td>spkcom</td>\n",
       "      <td>degree</td>\n",
       "      <td>6.874645</td>\n",
       "      <td>False</td>\n",
       "    </tr>\n",
       "    <tr>\n",
       "      <th>19</th>\n",
       "      <td>log_realinc</td>\n",
       "      <td>pres08</td>\n",
       "      <td>partyid4</td>\n",
       "      <td>6.732786</td>\n",
       "      <td>False</td>\n",
       "    </tr>\n",
       "    <tr>\n",
       "      <th>15</th>\n",
       "      <td>log_realinc</td>\n",
       "      <td>natspac</td>\n",
       "      <td>degree</td>\n",
       "      <td>4.863178</td>\n",
       "      <td>False</td>\n",
       "    </tr>\n",
       "    <tr>\n",
       "      <th>8</th>\n",
       "      <td>log_realinc</td>\n",
       "      <td>libcom</td>\n",
       "      <td>degree</td>\n",
       "      <td>4.803216</td>\n",
       "      <td>False</td>\n",
       "    </tr>\n",
       "    <tr>\n",
       "      <th>10</th>\n",
       "      <td>log_realinc</td>\n",
       "      <td>librac</td>\n",
       "      <td>degree</td>\n",
       "      <td>4.485588</td>\n",
       "      <td>False</td>\n",
       "    </tr>\n",
       "    <tr>\n",
       "      <th>4</th>\n",
       "      <td>log_realinc</td>\n",
       "      <td>colmslm</td>\n",
       "      <td>degree</td>\n",
       "      <td>4.455192</td>\n",
       "      <td>False</td>\n",
       "    </tr>\n",
       "    <tr>\n",
       "      <th>3</th>\n",
       "      <td>log_realinc</td>\n",
       "      <td>colmil</td>\n",
       "      <td>degree</td>\n",
       "      <td>3.919362</td>\n",
       "      <td>False</td>\n",
       "    </tr>\n",
       "    <tr>\n",
       "      <th>18</th>\n",
       "      <td>log_realinc</td>\n",
       "      <td>pres04</td>\n",
       "      <td>partyid4</td>\n",
       "      <td>3.339512</td>\n",
       "      <td>False</td>\n",
       "    </tr>\n",
       "    <tr>\n",
       "      <th>12</th>\n",
       "      <td>log_realinc</td>\n",
       "      <td>natfare</td>\n",
       "      <td>race</td>\n",
       "      <td>3.324132</td>\n",
       "      <td>False</td>\n",
       "    </tr>\n",
       "  </tbody>\n",
       "</table>\n",
       "</div>"
      ],
      "text/plain": [
       "       xvarname yvarname  gvarname      score   flag\n",
       "1   log_realinc   colcom    degree  12.862849  False\n",
       "23  log_realinc   spkcom    degree   6.874645  False\n",
       "19  log_realinc   pres08  partyid4   6.732786  False\n",
       "15  log_realinc  natspac    degree   4.863178  False\n",
       "8   log_realinc   libcom    degree   4.803216  False\n",
       "10  log_realinc   librac    degree   4.485588  False\n",
       "4   log_realinc  colmslm    degree   4.455192  False\n",
       "3   log_realinc   colmil    degree   3.919362  False\n",
       "18  log_realinc   pres04  partyid4   3.339512  False\n",
       "12  log_realinc  natfare      race   3.324132  False"
      ]
     },
     "execution_count": 168,
     "metadata": {},
     "output_type": "execute_result"
    }
   ],
   "source": [
    "columns = ['xvarname', 'yvarname', 'gvarname', 'score', 'flag']\n",
    "leader_board = pd.DataFrame(res, columns=columns)\n",
    "leader_board.sort_values(by='score', ascending=False, inplace=True)\n",
    "leader_board.head(10)"
   ]
  },
  {
   "cell_type": "code",
   "execution_count": 190,
   "metadata": {},
   "outputs": [],
   "source": [
    "xvarname = 'log_realinc'\n",
    "xbinned = 'log_realinc10'\n",
    "yvarname = 'colcom'\n",
    "gvarname = 'degree'\n",
    "\n",
    "result_df = run_subgroups(gss, xvarname, yvarname, gvarname)"
   ]
  },
  {
   "cell_type": "code",
   "execution_count": 191,
   "metadata": {},
   "outputs": [
    {
     "data": {
      "text/plain": [
       "12.862849345093586"
      ]
     },
     "execution_count": 191,
     "metadata": {},
     "output_type": "execute_result"
    }
   ],
   "source": [
    "check_simpson(result_df)"
   ]
  },
  {
   "cell_type": "code",
   "execution_count": 192,
   "metadata": {},
   "outputs": [
    {
     "data": {
      "text/plain": [
       "False"
      ]
     },
     "execution_count": 192,
     "metadata": {},
     "output_type": "execute_result"
    }
   ],
   "source": [
    "true_simpson(result_df)"
   ]
  },
  {
   "cell_type": "code",
   "execution_count": 193,
   "metadata": {},
   "outputs": [
    {
     "data": {
      "text/html": [
       "<div>\n",
       "<style scoped>\n",
       "    .dataframe tbody tr th:only-of-type {\n",
       "        vertical-align: middle;\n",
       "    }\n",
       "\n",
       "    .dataframe tbody tr th {\n",
       "        vertical-align: top;\n",
       "    }\n",
       "\n",
       "    .dataframe thead th {\n",
       "        text-align: right;\n",
       "    }\n",
       "</style>\n",
       "<table border=\"1\" class=\"dataframe\">\n",
       "  <thead>\n",
       "    <tr style=\"text-align: right;\">\n",
       "      <th></th>\n",
       "      <th>param</th>\n",
       "      <th>pvalue</th>\n",
       "      <th>stderr</th>\n",
       "      <th>conf_inf</th>\n",
       "    </tr>\n",
       "  </thead>\n",
       "  <tbody>\n",
       "    <tr>\n",
       "      <th>all</th>\n",
       "      <td>0.501531</td>\n",
       "      <td>7.061367e-85</td>\n",
       "      <td>0.025690</td>\n",
       "      <td>[0.4511794374015768, 0.5518815857063435]</td>\n",
       "    </tr>\n",
       "    <tr>\n",
       "      <th>0.0</th>\n",
       "      <td>0.037889</td>\n",
       "      <td>5.077047e-01</td>\n",
       "      <td>0.057199</td>\n",
       "      <td>[-0.07421785380317864, 0.14999629285295277]</td>\n",
       "    </tr>\n",
       "    <tr>\n",
       "      <th>1.0</th>\n",
       "      <td>0.036825</td>\n",
       "      <td>3.183689e-01</td>\n",
       "      <td>0.036906</td>\n",
       "      <td>[-0.03550875101504161, 0.10915886639955735]</td>\n",
       "    </tr>\n",
       "    <tr>\n",
       "      <th>2.0</th>\n",
       "      <td>0.108864</td>\n",
       "      <td>4.143488e-01</td>\n",
       "      <td>0.133368</td>\n",
       "      <td>[-0.15253335925783582, 0.37026121583754523]</td>\n",
       "    </tr>\n",
       "    <tr>\n",
       "      <th>3.0</th>\n",
       "      <td>0.096205</td>\n",
       "      <td>2.738387e-01</td>\n",
       "      <td>0.087918</td>\n",
       "      <td>[-0.07611033131541335, 0.2685210641091154]</td>\n",
       "    </tr>\n",
       "    <tr>\n",
       "      <th>4.0</th>\n",
       "      <td>0.026204</td>\n",
       "      <td>8.567345e-01</td>\n",
       "      <td>0.145149</td>\n",
       "      <td>[-0.2582828147852127, 0.3106910986803649]</td>\n",
       "    </tr>\n",
       "  </tbody>\n",
       "</table>\n",
       "</div>"
      ],
      "text/plain": [
       "        param        pvalue    stderr  \\\n",
       "all  0.501531  7.061367e-85  0.025690   \n",
       "0.0  0.037889  5.077047e-01  0.057199   \n",
       "1.0  0.036825  3.183689e-01  0.036906   \n",
       "2.0  0.108864  4.143488e-01  0.133368   \n",
       "3.0  0.096205  2.738387e-01  0.087918   \n",
       "4.0  0.026204  8.567345e-01  0.145149   \n",
       "\n",
       "                                        conf_inf  \n",
       "all     [0.4511794374015768, 0.5518815857063435]  \n",
       "0.0  [-0.07421785380317864, 0.14999629285295277]  \n",
       "1.0  [-0.03550875101504161, 0.10915886639955735]  \n",
       "2.0  [-0.15253335925783582, 0.37026121583754523]  \n",
       "3.0   [-0.07611033131541335, 0.2685210641091154]  \n",
       "4.0    [-0.2582828147852127, 0.3106910986803649]  "
      ]
     },
     "execution_count": 193,
     "metadata": {},
     "output_type": "execute_result"
    }
   ],
   "source": [
    "result_df"
   ]
  },
  {
   "cell_type": "code",
   "execution_count": 194,
   "metadata": {},
   "outputs": [
    {
     "data": {
      "text/plain": [
       "log_realinc10\n",
       "3.092375159263611     0.495967\n",
       "3.9495842456817627    0.475683\n",
       "4.144974946975708     0.507492\n",
       "4.274133682250977     0.533333\n",
       "4.371992826461792     0.533370\n",
       "4.460864543914795     0.548396\n",
       "4.546602487564087     0.582060\n",
       "4.637515306472778     0.600174\n",
       "4.7747533321380615    0.649073\n",
       "5.036157608032227     0.682771\n",
       "Name: all, dtype: float32"
      ]
     },
     "execution_count": 194,
     "metadata": {},
     "output_type": "execute_result"
    }
   ],
   "source": [
    "series_all = gss.groupby(xbinned)['y'].mean()\n",
    "series_all.name = 'all'\n",
    "series_all"
   ]
  },
  {
   "cell_type": "code",
   "execution_count": 195,
   "metadata": {},
   "outputs": [
    {
     "data": {
      "text/html": [
       "<div>\n",
       "<style scoped>\n",
       "    .dataframe tbody tr th:only-of-type {\n",
       "        vertical-align: middle;\n",
       "    }\n",
       "\n",
       "    .dataframe tbody tr th {\n",
       "        vertical-align: top;\n",
       "    }\n",
       "\n",
       "    .dataframe thead th {\n",
       "        text-align: right;\n",
       "    }\n",
       "</style>\n",
       "<table border=\"1\" class=\"dataframe\">\n",
       "  <thead>\n",
       "    <tr style=\"text-align: right;\">\n",
       "      <th>degree</th>\n",
       "      <th>0.0</th>\n",
       "      <th>1.0</th>\n",
       "      <th>2.0</th>\n",
       "      <th>3.0</th>\n",
       "      <th>4.0</th>\n",
       "    </tr>\n",
       "    <tr>\n",
       "      <th>log_realinc10</th>\n",
       "      <th></th>\n",
       "      <th></th>\n",
       "      <th></th>\n",
       "      <th></th>\n",
       "      <th></th>\n",
       "    </tr>\n",
       "  </thead>\n",
       "  <tbody>\n",
       "    <tr>\n",
       "      <th>3.092375159263611</th>\n",
       "      <td>0.362466</td>\n",
       "      <td>0.570691</td>\n",
       "      <td>0.660000</td>\n",
       "      <td>0.795455</td>\n",
       "      <td>0.810811</td>\n",
       "    </tr>\n",
       "    <tr>\n",
       "      <th>3.9495842456817627</th>\n",
       "      <td>0.350507</td>\n",
       "      <td>0.512028</td>\n",
       "      <td>0.687898</td>\n",
       "      <td>0.684685</td>\n",
       "      <td>0.844828</td>\n",
       "    </tr>\n",
       "    <tr>\n",
       "      <th>4.144974946975708</th>\n",
       "      <td>0.320526</td>\n",
       "      <td>0.542339</td>\n",
       "      <td>0.684211</td>\n",
       "      <td>0.684028</td>\n",
       "      <td>0.847059</td>\n",
       "    </tr>\n",
       "    <tr>\n",
       "      <th>4.274133682250977</th>\n",
       "      <td>0.388889</td>\n",
       "      <td>0.528210</td>\n",
       "      <td>0.682927</td>\n",
       "      <td>0.734637</td>\n",
       "      <td>0.834951</td>\n",
       "    </tr>\n",
       "    <tr>\n",
       "      <th>4.371992826461792</th>\n",
       "      <td>0.358667</td>\n",
       "      <td>0.521928</td>\n",
       "      <td>0.632075</td>\n",
       "      <td>0.753880</td>\n",
       "      <td>0.726190</td>\n",
       "    </tr>\n",
       "    <tr>\n",
       "      <th>4.460864543914795</th>\n",
       "      <td>0.381481</td>\n",
       "      <td>0.514597</td>\n",
       "      <td>0.666667</td>\n",
       "      <td>0.748479</td>\n",
       "      <td>0.725490</td>\n",
       "    </tr>\n",
       "    <tr>\n",
       "      <th>4.546602487564087</th>\n",
       "      <td>0.394209</td>\n",
       "      <td>0.528090</td>\n",
       "      <td>0.766667</td>\n",
       "      <td>0.749550</td>\n",
       "      <td>0.824627</td>\n",
       "    </tr>\n",
       "    <tr>\n",
       "      <th>4.637515306472778</th>\n",
       "      <td>0.320242</td>\n",
       "      <td>0.562370</td>\n",
       "      <td>0.689243</td>\n",
       "      <td>0.721008</td>\n",
       "      <td>0.803977</td>\n",
       "    </tr>\n",
       "    <tr>\n",
       "      <th>4.7747533321380615</th>\n",
       "      <td>0.388889</td>\n",
       "      <td>0.568955</td>\n",
       "      <td>0.733333</td>\n",
       "      <td>0.738043</td>\n",
       "      <td>0.832311</td>\n",
       "    </tr>\n",
       "    <tr>\n",
       "      <th>5.036157608032227</th>\n",
       "      <td>0.453202</td>\n",
       "      <td>0.598751</td>\n",
       "      <td>0.661017</td>\n",
       "      <td>0.754797</td>\n",
       "      <td>0.791617</td>\n",
       "    </tr>\n",
       "  </tbody>\n",
       "</table>\n",
       "</div>"
      ],
      "text/plain": [
       "degree                   0.0       1.0       2.0       3.0       4.0\n",
       "log_realinc10                                                       \n",
       "3.092375159263611   0.362466  0.570691  0.660000  0.795455  0.810811\n",
       "3.9495842456817627  0.350507  0.512028  0.687898  0.684685  0.844828\n",
       "4.144974946975708   0.320526  0.542339  0.684211  0.684028  0.847059\n",
       "4.274133682250977   0.388889  0.528210  0.682927  0.734637  0.834951\n",
       "4.371992826461792   0.358667  0.521928  0.632075  0.753880  0.726190\n",
       "4.460864543914795   0.381481  0.514597  0.666667  0.748479  0.725490\n",
       "4.546602487564087   0.394209  0.528090  0.766667  0.749550  0.824627\n",
       "4.637515306472778   0.320242  0.562370  0.689243  0.721008  0.803977\n",
       "4.7747533321380615  0.388889  0.568955  0.733333  0.738043  0.832311\n",
       "5.036157608032227   0.453202  0.598751  0.661017  0.754797  0.791617"
      ]
     },
     "execution_count": 195,
     "metadata": {},
     "output_type": "execute_result"
    }
   ],
   "source": [
    "table = gss.pivot_table(index=xbinned, columns=gvarname, values='y', aggfunc='mean')\n",
    "table"
   ]
  },
  {
   "cell_type": "code",
   "execution_count": 196,
   "metadata": {},
   "outputs": [
    {
     "data": {
      "image/png": "[encoded data removed]",
      "text/plain": [
       "<Figure size 648x288 with 1 Axes>"
      ]
     },
     "metadata": {
      "needs_background": "light"
     },
     "output_type": "display_data"
    }
   ],
   "source": [
    "plot_series_lowess(series_all, 'gray', indexed=False, plot_series=False)\n",
    "plot_columns_lowess(table, table.columns)\n",
    "\n",
    "decorate(xlabel=xbinned, ylabel=yvarname)\n",
    "anchor_legend(1.02, 1.02)"
   ]
  },
  {
   "cell_type": "code",
   "execution_count": null,
   "metadata": {},
   "outputs": [],
   "source": []
  },
  {
   "cell_type": "code",
   "execution_count": null,
   "metadata": {},
   "outputs": [],
   "source": []
  },
  {
   "cell_type": "code",
   "execution_count": null,
   "metadata": {},
   "outputs": [],
   "source": []
  }
 ],
 "metadata": {
  "kernelspec": {
   "display_name": "Python 3",
   "language": "python",
   "name": "python3"
  },
  "language_info": {
   "codemirror_mode": {
    "name": "ipython",
    "version": 3
   },
   "file_extension": ".py",
   "mimetype": "text/x-python",
   "name": "python",
   "nbconvert_exporter": "python",
   "pygments_lexer": "ipython3",
   "version": "3.9.2"
  }
 },
 "nbformat": 4,
 "nbformat_minor": 2
}
