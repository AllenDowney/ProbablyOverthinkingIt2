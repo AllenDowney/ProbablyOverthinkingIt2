{
 "cells": [
  {
   "cell_type": "markdown",
   "metadata": {},
   "source": [
    "# Searching for Simpson"
   ]
  },
  {
   "cell_type": "markdown",
   "metadata": {},
   "source": [
    "Copyright 2021 Allen B. Downey\n",
    "\n",
    "License: [Attribution-NonCommercial-ShareAlike 4.0 International (CC BY-NC-SA 4.0)](https://creativecommons.org/licenses/by-nc-sa/4.0/)\n",
    "\n",
    "[Click here to run this notebook on Colab](https://colab.research.google.com/github/AllenDowney/ProbablyOverthinkingIt2/blob/master/simpson_wages.ipynb)"
   ]
  },
  {
   "cell_type": "markdown",
   "metadata": {},
   "source": []
  },
  {
   "cell_type": "code",
   "execution_count": 1,
   "metadata": {},
   "outputs": [],
   "source": [
    "import numpy as np\n",
    "import pandas as pd\n",
    "import matplotlib.pyplot as plt"
   ]
  },
  {
   "cell_type": "code",
   "execution_count": 2,
   "metadata": {},
   "outputs": [
    {
     "data": {
      "text/plain": [
       "(64814, 169)"
      ]
     },
     "execution_count": 2,
     "metadata": {},
     "output_type": "execute_result"
    }
   ],
   "source": [
    "gss = pd.read_hdf('gss_eda.3.hdf5', 'gss0')\n",
    "gss.shape"
   ]
  },
  {
   "cell_type": "code",
   "execution_count": 3,
   "metadata": {},
   "outputs": [],
   "source": [
    "recode_polviews = {1:'Liberal', \n",
    "                   2:'Liberal', \n",
    "                   3:'Liberal', \n",
    "                   4:'Moderate', \n",
    "                   5:'Conservative', \n",
    "                   6:'Conservative', \n",
    "                   7:'Conservative'}"
   ]
  },
  {
   "cell_type": "code",
   "execution_count": 4,
   "metadata": {},
   "outputs": [
    {
     "data": {
      "text/plain": [
       "Moderate        21444\n",
       "Conservative    19129\n",
       "Liberal         14979\n",
       "Name: polviews3, dtype: int64"
      ]
     },
     "execution_count": 4,
     "metadata": {},
     "output_type": "execute_result"
    }
   ],
   "source": [
    "gss['polviews3'] = gss['polviews'].replace(recode_polviews)\n",
    "gss['polviews3'].value_counts()"
   ]
  },
  {
   "cell_type": "markdown",
   "metadata": {},
   "source": [
    ">Generally speaking, do you usually think of yourself as a Republican, Democrat, Independent, or what?\n",
    "\n",
    "The valid responses are:\n",
    "\n",
    "```\n",
    "0\tStrong democrat\n",
    "1\tNot str democrat\n",
    "2\tInd,near dem\n",
    "3\tIndependent\n",
    "4\tInd,near rep\n",
    "5\tNot str republican\n",
    "6\tStrong republican\n",
    "7\tOther party\n",
    "```\n",
    "\n",
    "You can [read the codebook for `partyid` here](https://gssdataexplorer.norc.org/projects/52787/variables/141/vshow)."
   ]
  },
  {
   "cell_type": "code",
   "execution_count": 5,
   "metadata": {},
   "outputs": [],
   "source": [
    "recode_partyid = {0: 'Democrat',\n",
    "                  1:'Democrat', \n",
    "                   2:'Independent', \n",
    "                   3:'Independent', \n",
    "                   4:'Independent', \n",
    "                   5:'Republican', \n",
    "                   6:'Republican', \n",
    "                   7:'Other'}"
   ]
  },
  {
   "cell_type": "code",
   "execution_count": 6,
   "metadata": {},
   "outputs": [
    {
     "data": {
      "text/plain": [
       "Independent    23404\n",
       "Democrat       23308\n",
       "Republican     16617\n",
       "Other           1064\n",
       "Name: partyid4, dtype: int64"
      ]
     },
     "execution_count": 6,
     "metadata": {},
     "output_type": "execute_result"
    }
   ],
   "source": [
    "gss['partyid4'] = gss['partyid'].replace(recode_partyid)\n",
    "gss['partyid4'].value_counts()"
   ]
  },
  {
   "cell_type": "markdown",
   "metadata": {},
   "source": [
    "Respondent's highest degree\n",
    "\n",
    "```\n",
    "0 \tLt high school\n",
    "1 \tHigh school\n",
    "2 \tJunior college\n",
    "3 \tBachelor\n",
    "4 \tGraduate\n",
    "8 \tDon't know\n",
    "9 \tNo answer\n",
    "```\n",
    "\n"
   ]
  },
  {
   "cell_type": "code",
   "execution_count": 36,
   "metadata": {},
   "outputs": [
    {
     "data": {
      "text/plain": [
       "1.0    33855\n",
       "0.0    13274\n",
       "3.0     9277\n",
       "4.0     4465\n",
       "2.0     3759\n",
       "Name: degree, dtype: int64"
      ]
     },
     "execution_count": 36,
     "metadata": {},
     "output_type": "execute_result"
    }
   ],
   "source": [
    "gss['degree'].value_counts()"
   ]
  },
  {
   "cell_type": "markdown",
   "metadata": {},
   "source": [
    "> What is your religious preference? Is it Protestant, Catholic, Jewish, some other religion, or no religion?\n",
    "\n",
    "```\n",
    "1 \tProtestant\n",
    "2 \tCatholic\n",
    "3 \tJewish\n",
    "4 \tNone\n",
    "5 \tOther\n",
    "6 \tBuddhism\n",
    "7 \tHinduism\n",
    "8 \tOther eastern\n",
    "9 \tMoslem/islam\n",
    "10 \tOrthodox-christian\n",
    "11 \tChristian\n",
    "12 \tNative american\n",
    "13 \tInter-nondenominational\n",
    "```\n",
    "\n"
   ]
  },
  {
   "cell_type": "code",
   "execution_count": 39,
   "metadata": {},
   "outputs": [],
   "source": [
    "recode_relig = {1:'Protestant', \n",
    "                   2:'Catholic', \n",
    "                   3:'Other', \n",
    "                   4:'None', \n",
    "                   5:'Other', \n",
    "                   6:'Other', \n",
    "                   7:'Other', \n",
    "                   8:'Other', \n",
    "                   9:'Other', \n",
    "                   10:'Other Christian', \n",
    "                   11:'Other Christian', \n",
    "                   12:'Other', \n",
    "                   13:'Other'}"
   ]
  },
  {
   "cell_type": "code",
   "execution_count": 40,
   "metadata": {},
   "outputs": [
    {
     "data": {
      "text/plain": [
       "Protestant         36378\n",
       "Catholic           16501\n",
       "None                7803\n",
       "Other               2966\n",
       "Other Christian      896\n",
       "Name: relig5, dtype: int64"
      ]
     },
     "execution_count": 40,
     "metadata": {},
     "output_type": "execute_result"
    }
   ],
   "source": [
    "gss['relig5'] = gss['relig'].replace(recode_relig)\n",
    "gss['relig5'].value_counts()"
   ]
  },
  {
   "cell_type": "code",
   "execution_count": null,
   "metadata": {},
   "outputs": [],
   "source": []
  },
  {
   "cell_type": "code",
   "execution_count": 7,
   "metadata": {},
   "outputs": [],
   "source": [
    "yvarname = 'gunlaw'\n",
    "yvar = gss[yvarname]"
   ]
  },
  {
   "cell_type": "code",
   "execution_count": 8,
   "metadata": {},
   "outputs": [
    {
     "data": {
      "text/plain": [
       "1.0    31917\n",
       "2.0    10076\n",
       "Name: gunlaw, dtype: int64"
      ]
     },
     "execution_count": 8,
     "metadata": {},
     "output_type": "execute_result"
    }
   ],
   "source": [
    "counts = yvar.value_counts()\n",
    "counts"
   ]
  },
  {
   "cell_type": "code",
   "execution_count": 9,
   "metadata": {},
   "outputs": [
    {
     "data": {
      "text/plain": [
       "1.0"
      ]
     },
     "execution_count": 9,
     "metadata": {},
     "output_type": "execute_result"
    }
   ],
   "source": [
    "most_common = counts.idxmax()\n",
    "most_common"
   ]
  },
  {
   "cell_type": "code",
   "execution_count": 10,
   "metadata": {},
   "outputs": [
    {
     "data": {
      "text/plain": [
       "1.0    1\n",
       "2.0    0\n",
       "Name: gunlaw, dtype: int64"
      ]
     },
     "execution_count": 10,
     "metadata": {},
     "output_type": "execute_result"
    }
   ],
   "source": [
    "d = counts.copy()\n",
    "d[:] = 0\n",
    "d[most_common] = 1\n",
    "d"
   ]
  },
  {
   "cell_type": "code",
   "execution_count": 12,
   "metadata": {},
   "outputs": [
    {
     "data": {
      "text/plain": [
       "1.0    31917\n",
       "0.0    10076\n",
       "Name: y, dtype: int64"
      ]
     },
     "execution_count": 12,
     "metadata": {},
     "output_type": "execute_result"
    }
   ],
   "source": [
    "gss['y'] = yvar.replace(d)\n",
    "gss['y'].value_counts()"
   ]
  },
  {
   "cell_type": "code",
   "execution_count": 13,
   "metadata": {},
   "outputs": [
    {
     "data": {
      "text/plain": [
       "22821"
      ]
     },
     "execution_count": 13,
     "metadata": {},
     "output_type": "execute_result"
    }
   ],
   "source": [
    "gss['y'].isnull().sum()"
   ]
  },
  {
   "cell_type": "code",
   "execution_count": 14,
   "metadata": {},
   "outputs": [],
   "source": [
    "xvarname = 'year'\n",
    "gss['x'] = gss[xvarname]"
   ]
  },
  {
   "cell_type": "code",
   "execution_count": 27,
   "metadata": {},
   "outputs": [
    {
     "name": "stdout",
     "output_type": "stream",
     "text": [
      "Optimization terminated successfully.\n",
      "         Current function value: 0.550827\n",
      "         Iterations 5\n"
     ]
    }
   ],
   "source": [
    "import statsmodels.formula.api as smf\n",
    "\n",
    "formula = 'y ~ x'\n",
    "results = smf.logit(formula, data=gss).fit()"
   ]
  },
  {
   "cell_type": "code",
   "execution_count": 28,
   "metadata": {},
   "outputs": [
    {
     "data": {
      "text/plain": [
       "0.0032343540300543414"
      ]
     },
     "execution_count": 28,
     "metadata": {},
     "output_type": "execute_result"
    }
   ],
   "source": [
    "param = results.params['x']\n",
    "param"
   ]
  },
  {
   "cell_type": "code",
   "execution_count": 29,
   "metadata": {},
   "outputs": [
    {
     "data": {
      "text/plain": [
       "6.733635524343815e-05"
      ]
     },
     "execution_count": 29,
     "metadata": {},
     "output_type": "execute_result"
    }
   ],
   "source": [
    "pvalue = results.pvalues['x']\n",
    "pvalue"
   ]
  },
  {
   "cell_type": "code",
   "execution_count": 30,
   "metadata": {},
   "outputs": [
    {
     "data": {
      "text/plain": [
       "array([0.00164379, 0.00482492])"
      ]
     },
     "execution_count": 30,
     "metadata": {},
     "output_type": "execute_result"
    }
   ],
   "source": [
    "conf_int = results.conf_int().loc['x'].values\n",
    "conf_int"
   ]
  },
  {
   "cell_type": "code",
   "execution_count": 31,
   "metadata": {},
   "outputs": [],
   "source": [
    "def get_xresult(results):\n",
    "    param = results.params['x']\n",
    "    pvalue = results.pvalues['x']\n",
    "    conf_int = results.conf_int().loc['x'].values\n",
    "    return [param, pvalue, conf_int]"
   ]
  },
  {
   "cell_type": "code",
   "execution_count": 32,
   "metadata": {},
   "outputs": [
    {
     "data": {
      "text/html": [
       "<div>\n",
       "<style scoped>\n",
       "    .dataframe tbody tr th:only-of-type {\n",
       "        vertical-align: middle;\n",
       "    }\n",
       "\n",
       "    .dataframe tbody tr th {\n",
       "        vertical-align: top;\n",
       "    }\n",
       "\n",
       "    .dataframe thead th {\n",
       "        text-align: right;\n",
       "    }\n",
       "</style>\n",
       "<table border=\"1\" class=\"dataframe\">\n",
       "  <thead>\n",
       "    <tr style=\"text-align: right;\">\n",
       "      <th></th>\n",
       "      <th>param</th>\n",
       "      <th>pvalue</th>\n",
       "      <th>conf_inf</th>\n",
       "    </tr>\n",
       "  </thead>\n",
       "  <tbody>\n",
       "    <tr>\n",
       "      <th>all</th>\n",
       "      <td>0.003234</td>\n",
       "      <td>0.000067</td>\n",
       "      <td>[0.0016437864240885886, 0.0048249216360200945]</td>\n",
       "    </tr>\n",
       "  </tbody>\n",
       "</table>\n",
       "</div>"
      ],
      "text/plain": [
       "        param    pvalue                                        conf_inf\n",
       "all  0.003234  0.000067  [0.0016437864240885886, 0.0048249216360200945]"
      ]
     },
     "execution_count": 32,
     "metadata": {},
     "output_type": "execute_result"
    }
   ],
   "source": [
    "columns = ['param', 'pvalue', 'conf_inf']\n",
    "result_df = pd.DataFrame(columns=columns, dtype=object)\n",
    "result_df.loc['all'] = get_xresult(results)\n",
    "result_df"
   ]
  },
  {
   "cell_type": "code",
   "execution_count": 33,
   "metadata": {},
   "outputs": [
    {
     "name": "stdout",
     "output_type": "stream",
     "text": [
      "Democrat 23308\n",
      "Independent 23404\n",
      "Other 1064\n",
      "Republican 16617\n"
     ]
    }
   ],
   "source": [
    "gvarname = 'partyid4'\n",
    "grouped = gss.groupby(gvarname)\n",
    "\n",
    "for name, group in grouped:\n",
    "    print(name, len(group))"
   ]
  },
  {
   "cell_type": "code",
   "execution_count": 34,
   "metadata": {},
   "outputs": [
    {
     "name": "stdout",
     "output_type": "stream",
     "text": [
      "Democrat 0.01936258108189358\n",
      "Independent 0.00250683212965543\n",
      "Other -0.013315263914553907\n",
      "Republican -0.00936623324946794\n"
     ]
    }
   ],
   "source": [
    "for name, group in grouped:\n",
    "    results = smf.logit(formula, data=group).fit(disp=False)\n",
    "    result_df.loc[name] = get_xresult(results)\n",
    "    print(name, results.params['x'])"
   ]
  },
  {
   "cell_type": "code",
   "execution_count": 35,
   "metadata": {},
   "outputs": [
    {
     "data": {
      "text/html": [
       "<div>\n",
       "<style scoped>\n",
       "    .dataframe tbody tr th:only-of-type {\n",
       "        vertical-align: middle;\n",
       "    }\n",
       "\n",
       "    .dataframe tbody tr th {\n",
       "        vertical-align: top;\n",
       "    }\n",
       "\n",
       "    .dataframe thead th {\n",
       "        text-align: right;\n",
       "    }\n",
       "</style>\n",
       "<table border=\"1\" class=\"dataframe\">\n",
       "  <thead>\n",
       "    <tr style=\"text-align: right;\">\n",
       "      <th></th>\n",
       "      <th>param</th>\n",
       "      <th>pvalue</th>\n",
       "      <th>conf_inf</th>\n",
       "    </tr>\n",
       "  </thead>\n",
       "  <tbody>\n",
       "    <tr>\n",
       "      <th>all</th>\n",
       "      <td>0.003234</td>\n",
       "      <td>6.733636e-05</td>\n",
       "      <td>[0.0016437864240885886, 0.0048249216360200945]</td>\n",
       "    </tr>\n",
       "    <tr>\n",
       "      <th>Democrat</th>\n",
       "      <td>0.019363</td>\n",
       "      <td>2.944667e-38</td>\n",
       "      <td>[0.01642815207928425, 0.022297010084502907]</td>\n",
       "    </tr>\n",
       "    <tr>\n",
       "      <th>Independent</th>\n",
       "      <td>0.002507</td>\n",
       "      <td>6.016695e-02</td>\n",
       "      <td>[-0.00010722608201531704, 0.005120890341326177]</td>\n",
       "    </tr>\n",
       "    <tr>\n",
       "      <th>Other</th>\n",
       "      <td>-0.013315</td>\n",
       "      <td>7.678432e-03</td>\n",
       "      <td>[-0.02310464633097545, -0.0035258814981323633]</td>\n",
       "    </tr>\n",
       "    <tr>\n",
       "      <th>Republican</th>\n",
       "      <td>-0.009366</td>\n",
       "      <td>3.977877e-09</td>\n",
       "      <td>[-0.012485542444758965, -0.006246924054176914]</td>\n",
       "    </tr>\n",
       "  </tbody>\n",
       "</table>\n",
       "</div>"
      ],
      "text/plain": [
       "                param        pvalue  \\\n",
       "all          0.003234  6.733636e-05   \n",
       "Democrat     0.019363  2.944667e-38   \n",
       "Independent  0.002507  6.016695e-02   \n",
       "Other       -0.013315  7.678432e-03   \n",
       "Republican  -0.009366  3.977877e-09   \n",
       "\n",
       "                                                    conf_inf  \n",
       "all           [0.0016437864240885886, 0.0048249216360200945]  \n",
       "Democrat         [0.01642815207928425, 0.022297010084502907]  \n",
       "Independent  [-0.00010722608201531704, 0.005120890341326177]  \n",
       "Other         [-0.02310464633097545, -0.0035258814981323633]  \n",
       "Republican    [-0.012485542444758965, -0.006246924054176914]  "
      ]
     },
     "execution_count": 35,
     "metadata": {},
     "output_type": "execute_result"
    }
   ],
   "source": [
    "result_df"
   ]
  },
  {
   "cell_type": "code",
   "execution_count": null,
   "metadata": {},
   "outputs": [],
   "source": []
  },
  {
   "cell_type": "code",
   "execution_count": null,
   "metadata": {},
   "outputs": [],
   "source": []
  },
  {
   "cell_type": "code",
   "execution_count": null,
   "metadata": {},
   "outputs": [],
   "source": []
  },
  {
   "cell_type": "code",
   "execution_count": null,
   "metadata": {},
   "outputs": [],
   "source": []
  },
  {
   "cell_type": "code",
   "execution_count": null,
   "metadata": {},
   "outputs": [],
   "source": []
  },
  {
   "cell_type": "code",
   "execution_count": null,
   "metadata": {},
   "outputs": [],
   "source": []
  },
  {
   "cell_type": "code",
   "execution_count": null,
   "metadata": {},
   "outputs": [],
   "source": []
  },
  {
   "cell_type": "code",
   "execution_count": null,
   "metadata": {},
   "outputs": [],
   "source": []
  },
  {
   "cell_type": "code",
   "execution_count": null,
   "metadata": {},
   "outputs": [],
   "source": [
    "import matplotlib.pyplot as plt\n",
    "\n",
    "plt.rcParams['figure.figsize'] = (9, 4)\n",
    "\n",
    "def decorate(**options):\n",
    "    \"\"\"Decorate the current axes.\n",
    "    \n",
    "    Call decorate with keyword arguments like\n",
    "    decorate(title='Title',\n",
    "             xlabel='x',\n",
    "             ylabel='y')\n",
    "             \n",
    "    The keyword arguments can be any of the axis properties\n",
    "    https://matplotlib.org/api/axes_api.html\n",
    "    \"\"\"\n",
    "    ax = plt.gca()\n",
    "    ax.set(**options)\n",
    "    \n",
    "    handles, labels = ax.get_legend_handles_labels()\n",
    "    if handles:\n",
    "        ax.legend(handles, labels)\n",
    "\n",
    "    plt.tight_layout()"
   ]
  },
  {
   "cell_type": "code",
   "execution_count": null,
   "metadata": {},
   "outputs": [],
   "source": [
    "def stretch_x(factor = 0.03):\n",
    "    low, high = plt.xlim()\n",
    "    space = (high-low) * factor\n",
    "    plt.xlim(low - space, high + space)"
   ]
  },
  {
   "cell_type": "code",
   "execution_count": null,
   "metadata": {},
   "outputs": [],
   "source": [
    "def anchor_legend(x, y):\n",
    "    \"\"\"Place the upper left corner of the legend box.\n",
    "    \n",
    "    x: x coordinate\n",
    "    y: y coordinate\n",
    "    \"\"\"\n",
    "    plt.legend(bbox_to_anchor=(x, y), loc='upper left', ncol=1)   \n",
    "    plt.tight_layout()"
   ]
  },
  {
   "cell_type": "code",
   "execution_count": null,
   "metadata": {},
   "outputs": [],
   "source": [
    "import numpy as np\n",
    "from statsmodels.nonparametric.smoothers_lowess import lowess\n",
    "\n",
    "def make_lowess(series):\n",
    "    \"\"\"Use LOWESS to compute a smooth line.\n",
    "    \n",
    "    series: pd.Series\n",
    "    \n",
    "    returns: pd.Series\n",
    "    \"\"\"\n",
    "    y = series.values\n",
    "    x = series.index.values\n",
    "\n",
    "    smooth = lowess(y, x)\n",
    "    index, data = np.transpose(smooth)\n",
    "\n",
    "    return pd.Series(data, index=series.index) "
   ]
  },
  {
   "cell_type": "code",
   "execution_count": null,
   "metadata": {},
   "outputs": [],
   "source": [
    "def plot_series_lowess(series, color, indexed=False, plot_series=True):\n",
    "    \"\"\"Plots a series of data points and a smooth line.\n",
    "    \n",
    "    series: pd.Series\n",
    "    color: string or tuple\n",
    "    \"\"\"\n",
    "    if plot_series:\n",
    "        series.plot(linewidth=0, marker='o', color=color, alpha=0.1, label='_')\n",
    "    smooth = make_lowess(series)\n",
    "    if indexed:\n",
    "        smooth /= smooth.iloc[0] / 100\n",
    "        \n",
    "    style = '--' if series.name=='Total, all educational levels' else '-'\n",
    "    smooth.plot(style=style, label=series.name, color=color)"
   ]
  },
  {
   "cell_type": "code",
   "execution_count": null,
   "metadata": {},
   "outputs": [],
   "source": [
    "def plot_columns_lowess(table, columns, colors, **options):\n",
    "    \"\"\"Plot the columns in a DataFrame.\n",
    "    \n",
    "    table: DataFrame with a cross tabulation\n",
    "    columns: list of column names, in the desired order\n",
    "    colors: mapping from column names to colors\n",
    "    \"\"\"\n",
    "    for col in columns:\n",
    "        series = table[col]\n",
    "        plot_series_lowess(series, colors[col], **options)"
   ]
  },
  {
   "cell_type": "code",
   "execution_count": null,
   "metadata": {},
   "outputs": [],
   "source": [
    "colors = {\n",
    "    'Total, all educational levels' : 'gray',\n",
    "    'Less than a high school diploma' : 'C0',\n",
    "    'High school graduates, no college' : 'C1',\n",
    "    'Some college or associate degree' : 'C2',\n",
    "    \"Bachelor's degree only\" : 'C3',\n",
    "    'Advanced degree' : 'C4',\n",
    "}"
   ]
  },
  {
   "cell_type": "code",
   "execution_count": null,
   "metadata": {},
   "outputs": [],
   "source": []
  },
  {
   "cell_type": "code",
   "execution_count": null,
   "metadata": {},
   "outputs": [],
   "source": []
  }
 ],
 "metadata": {
  "kernelspec": {
   "display_name": "Python 3",
   "language": "python",
   "name": "python3"
  },
  "language_info": {
   "codemirror_mode": {
    "name": "ipython",
    "version": 3
   },
   "file_extension": ".py",
   "mimetype": "text/x-python",
   "name": "python",
   "nbconvert_exporter": "python",
   "pygments_lexer": "ipython3",
   "version": "3.9.2"
  }
 },
 "nbformat": 4,
 "nbformat_minor": 2
}
