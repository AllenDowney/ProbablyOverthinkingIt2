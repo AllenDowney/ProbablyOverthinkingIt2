{
 "cells": [
  {
   "cell_type": "code",
   "execution_count": 11,
   "metadata": {},
   "outputs": [],
   "source": [
    "# Configure Jupyter so figures appear in the notebook\n",
    "%matplotlib inline\n",
    "\n",
    "# Configure Jupyter to display the assigned value after an assignment\n",
    "%config InteractiveShell.ast_node_interactivity='last_expr_or_assign'\n",
    "\n",
    "import numpy as np"
   ]
  },
  {
   "cell_type": "code",
   "execution_count": 20,
   "metadata": {},
   "outputs": [],
   "source": [
    "def pascal(nrows):\n",
    "    a = [1]\n",
    "    yield(a)\n",
    "    \n",
    "    for i in range(nrows):\n",
    "        a = np.convolve(a, [1,1])\n",
    "        yield(a)"
   ]
  },
  {
   "cell_type": "code",
   "execution_count": 21,
   "metadata": {},
   "outputs": [
    {
     "name": "stdout",
     "output_type": "stream",
     "text": [
      "[1]\n",
      "[1 1]\n",
      "[1 2 1]\n",
      "[1 3 3 1]\n",
      "[1 4 6 4 1]\n",
      "[ 1  5 10 10  5  1]\n"
     ]
    }
   ],
   "source": [
    "for row in pascal(5):\n",
    "    print(row)"
   ]
  },
  {
   "cell_type": "code",
   "execution_count": 22,
   "metadata": {},
   "outputs": [
    {
     "data": {
      "text/plain": [
       "array([ 1,  5, 10, 10,  5,  1])"
      ]
     },
     "execution_count": 22,
     "metadata": {},
     "output_type": "execute_result"
    }
   ],
   "source": [
    "row"
   ]
  },
  {
   "cell_type": "code",
   "execution_count": 23,
   "metadata": {},
   "outputs": [
    {
     "data": {
      "text/plain": [
       "range(0, 6)"
      ]
     },
     "execution_count": 23,
     "metadata": {},
     "output_type": "execute_result"
    }
   ],
   "source": [
    "ind = range(len(row))"
   ]
  },
  {
   "cell_type": "code",
   "execution_count": 24,
   "metadata": {},
   "outputs": [],
   "source": [
    "from itertools import combinations"
   ]
  },
  {
   "cell_type": "code",
   "execution_count": 71,
   "metadata": {},
   "outputs": [],
   "source": [
    "def all_combos(s, n):\n",
    "    for r in range(1, n):\n",
    "        for comb in combinations(s, r):\n",
    "            yield comb"
   ]
  },
  {
   "cell_type": "code",
   "execution_count": 72,
   "metadata": {},
   "outputs": [
    {
     "data": {
      "text/plain": [
       "{0, 1, 2}"
      ]
     },
     "execution_count": 72,
     "metadata": {},
     "output_type": "execute_result"
    }
   ],
   "source": [
    "n = 3\n",
    "ind = set(range(n))"
   ]
  },
  {
   "cell_type": "code",
   "execution_count": 73,
   "metadata": {},
   "outputs": [
    {
     "name": "stdout",
     "output_type": "stream",
     "text": [
      "(0,)\n",
      "(1,)\n",
      "(2,)\n",
      "(0, 1)\n",
      "(0, 2)\n",
      "(1, 2)\n"
     ]
    }
   ],
   "source": [
    "for comb in all_combos(ind, n):\n",
    "    print(comb)"
   ]
  },
  {
   "cell_type": "code",
   "execution_count": 74,
   "metadata": {},
   "outputs": [
    {
     "name": "stdout",
     "output_type": "stream",
     "text": [
      "(0,)\n",
      "(1,)\n",
      "(2,)\n",
      "(0, 1)\n",
      "(0, 2)\n",
      "(1, 2)\n",
      "(0, 1, 2)\n"
     ]
    }
   ],
   "source": [
    "for comb in all_combos(ind, n+1):\n",
    "    print(comb)"
   ]
  },
  {
   "cell_type": "code",
   "execution_count": 77,
   "metadata": {},
   "outputs": [],
   "source": [
    "def all_partitions(s):\n",
    "    for numer in all_combos(s, len(s)):\n",
    "        rest = ind - set(numer)\n",
    "        for denom in all_combos(rest, len(rest)+1):\n",
    "            yield numer, denom"
   ]
  },
  {
   "cell_type": "code",
   "execution_count": 78,
   "metadata": {},
   "outputs": [
    {
     "name": "stdout",
     "output_type": "stream",
     "text": [
      "((0,), (1,))\n",
      "((0,), (2,))\n",
      "((0,), (1, 2))\n",
      "((1,), (0,))\n",
      "((1,), (2,))\n",
      "((1,), (0, 2))\n",
      "((2,), (0,))\n",
      "((2,), (1,))\n",
      "((2,), (0, 1))\n",
      "((0, 1), (2,))\n",
      "((0, 2), (1,))\n",
      "((1, 2), (0,))\n"
     ]
    }
   ],
   "source": [
    "for part in all_partitions(ind):\n",
    "    print(part)"
   ]
  },
  {
   "cell_type": "code",
   "execution_count": null,
   "metadata": {},
   "outputs": [],
   "source": []
  }
 ],
 "metadata": {
  "kernelspec": {
   "display_name": "Python 3",
   "language": "python",
   "name": "python3"
  },
  "language_info": {
   "codemirror_mode": {
    "name": "ipython",
    "version": 3
   },
   "file_extension": ".py",
   "mimetype": "text/x-python",
   "name": "python",
   "nbconvert_exporter": "python",
   "pygments_lexer": "ipython3",
   "version": "3.6.5"
  }
 },
 "nbformat": 4,
 "nbformat_minor": 2
}
