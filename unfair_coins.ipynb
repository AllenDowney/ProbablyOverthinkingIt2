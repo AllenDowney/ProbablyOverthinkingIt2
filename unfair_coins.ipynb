{
 "cells": [
  {
   "cell_type": "markdown",
   "metadata": {},
   "source": [
    "### Unfair coin tosses\n",
    "\n",
    "Copyright Allen Downey 2018\n",
    "\n",
    "[MIT License](https://opensource.org/licenses/MIT)"
   ]
  },
  {
   "cell_type": "code",
   "execution_count": 1,
   "metadata": {},
   "outputs": [],
   "source": [
    "# Configure Jupyter so figures appear in the notebook\n",
    "%matplotlib inline\n",
    "\n",
    "# Configure Jupyter to display the assigned value after an assignment\n",
    "%config InteractiveShell.ast_node_interactivity='last_expr_or_assign'\n",
    "\n",
    "import numpy as np"
   ]
  },
  {
   "cell_type": "markdown",
   "metadata": {},
   "source": [
    "Here's a puzzle from [a recent FiveThirtyEight post](https://fivethirtyeight.com/features/how-far-would-you-go-to-rig-a-coin-flip/):\n",
    "\n",
    ">Coin flips are a handy way to determine a winner — if the goal is to give two people an equal chance of winning. But sometimes it’s not. Suppose Anna and Barry aren’t interested in equity. All they have is a fair coin marked heads and tails. How can they devise a game that gives Anna a 1 in 3 chance of winning? What about a 1 in 4 chance? What about a 1 in 5 chance?\n",
    "\n"
   ]
  },
  {
   "cell_type": "markdown",
   "metadata": {},
   "source": [
    "### Solution\n",
    "\n",
    "The key to the solution is to take advantage of Pascal's triangle.  If you toss `n` coins, the number of heads, `k`, follows a binomial distribution.  The relative probabilities of the totals `k = 0...n` are the coefficients in Pascal's triangle.\n",
    "\n",
    "Here's a function that uses `np.convolve` to generate the rows of Pascal's triangle."
   ]
  },
  {
   "cell_type": "code",
   "execution_count": 2,
   "metadata": {},
   "outputs": [],
   "source": [
    "def pascal(n_rows):\n",
    "    a = [1]\n",
    "    yield(a)\n",
    "    \n",
    "    for i in range(n_rows):\n",
    "        a = np.convolve(a, [1,1])\n",
    "        yield(a)"
   ]
  },
  {
   "cell_type": "code",
   "execution_count": 3,
   "metadata": {},
   "outputs": [
    {
     "name": "stdout",
     "output_type": "stream",
     "text": [
      "[1]\n",
      "[1 1]\n",
      "[1 2 1]\n",
      "[1 3 3 1]\n",
      "[1 4 6 4 1]\n",
      "[ 1  5 10 10  5  1]\n"
     ]
    }
   ],
   "source": [
    "for row in pascal(5):\n",
    "    print(row)"
   ]
  },
  {
   "cell_type": "markdown",
   "metadata": {},
   "source": [
    "The third row is [1 2 1], which indicates that if we flip two coins, the chance of getting 1 head is twice the chance of getting 0 or 2 heads.  So if we want to give Anna a 1/4 chance of winning, we could toss two coins: if we get 0 heads, Anna wins; otherwise Barry wins.\n",
    "\n",
    "More generally, we can toss `n` coins and choose\n",
    "\n",
    "1. A set of totals where Anna wins,\n",
    "2. A set of totals where Barry wins, and maybe\n",
    "3. A leftover set where we have to toss again.\n",
    "\n",
    "For example, if Anna should win `1/3` of the time, we could toss `2` coins; Anna wins if we get `0` heads, Barry wins if we get `1`, and we have to toss again if we get `2`.\n",
    "\n",
    "The chance that we have to try again is `1/4`, so the expected number of attempts is `4/3`.  Each attempt requires 2 coins tosses, so the expected number of flips is `8/3`.\n",
    "\n",
    "For each desired probability, we can search for the process that yields the desired outcome with the minimum expected number of flips."
   ]
  },
  {
   "cell_type": "markdown",
   "metadata": {},
   "source": [
    "I'll start with a function that yields all combinations from a set."
   ]
  },
  {
   "cell_type": "code",
   "execution_count": 4,
   "metadata": {},
   "outputs": [],
   "source": [
    "from itertools import combinations\n",
    "\n",
    "def all_combos(s):\n",
    "    n = len(s)\n",
    "    for r in range(1, n+1):\n",
    "        for comb in combinations(s, r):\n",
    "            yield list(comb)"
   ]
  },
  {
   "cell_type": "markdown",
   "metadata": {},
   "source": [
    "For example, if we take the third row from Pascal's triangle, there are three outcomes, `{0, 1, 2}`, with relative frequencies `[1, 2, 1]`."
   ]
  },
  {
   "cell_type": "code",
   "execution_count": 5,
   "metadata": {},
   "outputs": [
    {
     "data": {
      "text/plain": [
       "{0, 1, 2}"
      ]
     },
     "execution_count": 5,
     "metadata": {},
     "output_type": "execute_result"
    }
   ],
   "source": [
    "row = np.array([1, 2, 1])\n",
    "ind = set(range(len(row)))"
   ]
  },
  {
   "cell_type": "markdown",
   "metadata": {},
   "source": [
    "Here are all subsets of the outcomes:"
   ]
  },
  {
   "cell_type": "code",
   "execution_count": 6,
   "metadata": {},
   "outputs": [
    {
     "name": "stdout",
     "output_type": "stream",
     "text": [
      "[0]\n",
      "[1]\n",
      "[2]\n",
      "[0, 1]\n",
      "[0, 2]\n",
      "[1, 2]\n",
      "[0, 1, 2]\n"
     ]
    }
   ],
   "source": [
    "for comb in all_combos(ind):\n",
    "    print(comb)"
   ]
  },
  {
   "cell_type": "markdown",
   "metadata": {},
   "source": [
    "Now we'd like to enumerate all partitions of the set into `win` and `lose`, allowing the possiblity of leaving out some outcomes."
   ]
  },
  {
   "cell_type": "code",
   "execution_count": 7,
   "metadata": {},
   "outputs": [],
   "source": [
    "def all_partitions(s):\n",
    "    for win in all_combos(s):\n",
    "        rest = s - set(win)\n",
    "        for lose in all_combos(rest):\n",
    "            yield win, lose"
   ]
  },
  {
   "cell_type": "markdown",
   "metadata": {},
   "source": [
    "Here are the ways to partition `{0, 1, 2}`, and the total relative frequency for each subset."
   ]
  },
  {
   "cell_type": "code",
   "execution_count": 8,
   "metadata": {},
   "outputs": [
    {
     "name": "stdout",
     "output_type": "stream",
     "text": [
      "[0] [1] 1 2\n",
      "[0] [2] 1 1\n",
      "[0] [1, 2] 1 3\n",
      "[1] [0] 2 1\n",
      "[1] [2] 2 1\n",
      "[1] [0, 2] 2 2\n",
      "[2] [0] 1 1\n",
      "[2] [1] 1 2\n",
      "[2] [0, 1] 1 3\n",
      "[0, 1] [2] 3 1\n",
      "[0, 2] [1] 2 2\n",
      "[1, 2] [0] 3 1\n"
     ]
    }
   ],
   "source": [
    "for win, lose in all_partitions(ind):\n",
    "    print(win, lose, row[win].sum(), row[lose].sum())"
   ]
  },
  {
   "cell_type": "markdown",
   "metadata": {},
   "source": [
    "Now we can enumerate the rows of Pascal's triangle and for each set of outcomes, enumerate the partitions.\n",
    "\n",
    "For each partition, we compute the odds Anna wins and yield:\n",
    "\n",
    "* `expected_coins`: the expected total number of coins we have to toss.\n",
    "* `n_coins`: number of coins we toss for each attempt\n",
    "* `win`: set of outcomes where Anna wins\n",
    "* `lose`: set of outcomes where Anna loses\n",
    "* `odds`: the odds that Anna wins.\n"
   ]
  },
  {
   "cell_type": "code",
   "execution_count": 9,
   "metadata": {},
   "outputs": [],
   "source": [
    "import math\n",
    "\n",
    "def reduce(a, b):\n",
    "    d = math.gcd(a, b)\n",
    "    return a//d, b//d"
   ]
  },
  {
   "cell_type": "code",
   "execution_count": 10,
   "metadata": {},
   "outputs": [],
   "source": [
    "from fractions import Fraction\n",
    "\n",
    "def enumerate_rows(n_rows):\n",
    "    # loop through the rows of Pascal's triangle\n",
    "    for n_coins, row in enumerate(pascal(n_rows)):\n",
    "        index = set(range(len(row)))\n",
    "        \n",
    "        # loop through ways to partition the outcomes\n",
    "        for win, lose in all_partitions(index):\n",
    "            \n",
    "            # compute the odds Anna wins\n",
    "            numer, denom = row[win].sum(), row[lose].sum()\n",
    "            odds = reduce(numer, denom)\n",
    "\n",
    "            # compute the expected number of tosses\n",
    "            efficency = Fraction(numer + denom, 2**n_coins)\n",
    "            expected_coins = n_coins / efficency\n",
    "            \n",
    "            yield expected_coins, n_coins, efficency, win, lose, odds"
   ]
  },
  {
   "cell_type": "markdown",
   "metadata": {},
   "source": [
    "Here are the results from tossing one coin or two."
   ]
  },
  {
   "cell_type": "code",
   "execution_count": 11,
   "metadata": {},
   "outputs": [
    {
     "name": "stdout",
     "output_type": "stream",
     "text": [
      "(Fraction(1, 1), 1, Fraction(1, 1), [0], [1], (1, 1))\n",
      "(Fraction(1, 1), 1, Fraction(1, 1), [1], [0], (1, 1))\n",
      "(Fraction(8, 3), 2, Fraction(3, 4), [0], [1], (1, 2))\n",
      "(Fraction(4, 1), 2, Fraction(1, 2), [0], [2], (1, 1))\n",
      "(Fraction(2, 1), 2, Fraction(1, 1), [0], [1, 2], (1, 3))\n",
      "(Fraction(8, 3), 2, Fraction(3, 4), [1], [0], (2, 1))\n",
      "(Fraction(8, 3), 2, Fraction(3, 4), [1], [2], (2, 1))\n",
      "(Fraction(2, 1), 2, Fraction(1, 1), [1], [0, 2], (1, 1))\n",
      "(Fraction(4, 1), 2, Fraction(1, 2), [2], [0], (1, 1))\n",
      "(Fraction(8, 3), 2, Fraction(3, 4), [2], [1], (1, 2))\n",
      "(Fraction(2, 1), 2, Fraction(1, 1), [2], [0, 1], (1, 3))\n",
      "(Fraction(2, 1), 2, Fraction(1, 1), [0, 1], [2], (3, 1))\n",
      "(Fraction(2, 1), 2, Fraction(1, 1), [0, 2], [1], (1, 1))\n",
      "(Fraction(2, 1), 2, Fraction(1, 1), [1, 2], [0], (3, 1))\n"
     ]
    }
   ],
   "source": [
    "for result in enumerate_rows(2):\n",
    "    print(result)"
   ]
  },
  {
   "cell_type": "markdown",
   "metadata": {},
   "source": [
    "There are several ways to get `1:1` odds, but the most efficient is to toss one coin once.  No surprise there.\n",
    "\n",
    "The best ways to get `1:2` odds (so far) is to toss 2 coins, but we might have to try several times, so the expected number of tosses is `8/3`, as in the example above.\n",
    "\n",
    "No we can enumerate the rows of Pascal's triangle and for each effective odds, record the best way to achieve it.\n",
    "\n",
    "`best` maps from `odds`, represented by a tuple of integers, to `results`, which is a tuple.\n",
    "\n",
    "The elements of `results` are in order so we can use tuple comparison to select the results with the lowest expected number of coin tosses, and the lowest number of tosses per round, as a tie-breaker.\n",
    "\n",
    "Exploring the first 11 rows of Pascal's triangle takes several seconds.\n"
   ]
  },
  {
   "cell_type": "code",
   "execution_count": 12,
   "metadata": {},
   "outputs": [
    {
     "ename": "KeyboardInterrupt",
     "evalue": "",
     "output_type": "error",
     "traceback": [
      "\u001b[0;31m---------------------------------------------------------------------------\u001b[0m",
      "\u001b[0;31mKeyboardInterrupt\u001b[0m                         Traceback (most recent call last)",
      "\u001b[0;32m<ipython-input-12-bb2eab8ebd32>\u001b[0m in \u001b[0;36m<module>\u001b[0;34m()\u001b[0m\n\u001b[1;32m      2\u001b[0m \u001b[0mabsent\u001b[0m \u001b[0;34m=\u001b[0m \u001b[0;34m(\u001b[0m\u001b[0mnp\u001b[0m\u001b[0;34m.\u001b[0m\u001b[0minf\u001b[0m\u001b[0;34m,\u001b[0m\u001b[0;34m)\u001b[0m\u001b[0;34m\u001b[0m\u001b[0m\n\u001b[1;32m      3\u001b[0m \u001b[0;34m\u001b[0m\u001b[0m\n\u001b[0;32m----> 4\u001b[0;31m \u001b[0;32mfor\u001b[0m \u001b[0mresult\u001b[0m \u001b[0;32min\u001b[0m \u001b[0menumerate_rows\u001b[0m\u001b[0;34m(\u001b[0m\u001b[0;36m15\u001b[0m\u001b[0;34m)\u001b[0m\u001b[0;34m:\u001b[0m\u001b[0;34m\u001b[0m\u001b[0m\n\u001b[0m\u001b[1;32m      5\u001b[0m     \u001b[0modds\u001b[0m \u001b[0;34m=\u001b[0m \u001b[0mresult\u001b[0m\u001b[0;34m[\u001b[0m\u001b[0;34m-\u001b[0m\u001b[0;36m1\u001b[0m\u001b[0;34m]\u001b[0m\u001b[0;34m\u001b[0m\u001b[0m\n\u001b[1;32m      6\u001b[0m     \u001b[0mt\u001b[0m \u001b[0;34m=\u001b[0m \u001b[0mbest\u001b[0m\u001b[0;34m.\u001b[0m\u001b[0mget\u001b[0m\u001b[0;34m(\u001b[0m\u001b[0modds\u001b[0m\u001b[0;34m,\u001b[0m \u001b[0mabsent\u001b[0m\u001b[0;34m)\u001b[0m\u001b[0;34m\u001b[0m\u001b[0m\n",
      "\u001b[0;31mKeyboardInterrupt\u001b[0m: "
     ]
    }
   ],
   "source": [
    "best = {}\n",
    "absent = (np.inf,)\n",
    "\n",
    "for result in enumerate_rows(15):\n",
    "    odds = result[-1]\n",
    "    t = best.get(odds, absent)\n",
    "    if result < t:\n",
    "        best[odds] = result"
   ]
  },
  {
   "cell_type": "markdown",
   "metadata": {},
   "source": [
    "Here are the results:"
   ]
  },
  {
   "cell_type": "code",
   "execution_count": null,
   "metadata": {},
   "outputs": [],
   "source": [
    "res = []\n",
    "\n",
    "for denom in range(1, 40):\n",
    "    result = best[1, denom]\n",
    "    expected_coins, n_coins, efficiency, win, lose, odds = result\n",
    "    print(odds, n_coins, efficiency, expected_coins, win, lose)\n",
    "    res.append((denom, efficiency, expected_coins))"
   ]
  },
  {
   "cell_type": "markdown",
   "metadata": {},
   "source": [
    "The fourth line is `(1, 4) 3 5/8 24/5 [0] [1, 3]`, which indicates that if we want odds `1:4`, we should flip `3` coins.  Alice wins if we get `0` heads; Barry wins if we get `1` or `3`.  `5/8` of the time we are done; the remaining `3/8` we flip again; on average we expect to toss `24/5` coins. "
   ]
  },
  {
   "cell_type": "markdown",
   "metadata": {},
   "source": [
    "Let's see what the results look like graphically.  Here's efficiency for each value of odds against."
   ]
  },
  {
   "cell_type": "code",
   "execution_count": null,
   "metadata": {},
   "outputs": [],
   "source": [
    "odds, effs, coins = np.array(res).T"
   ]
  },
  {
   "cell_type": "code",
   "execution_count": null,
   "metadata": {},
   "outputs": [],
   "source": [
    "import matplotlib.pyplot as plt"
   ]
  },
  {
   "cell_type": "code",
   "execution_count": null,
   "metadata": {},
   "outputs": [],
   "source": [
    "plt.bar(odds, effs)\n",
    "plt.xlabel('Odds against')\n",
    "plt.ylabel('Efficiency');"
   ]
  },
  {
   "cell_type": "markdown",
   "metadata": {},
   "source": [
    "And here's the expected number of coin tosses for each value of odds against."
   ]
  },
  {
   "cell_type": "code",
   "execution_count": null,
   "metadata": {},
   "outputs": [],
   "source": [
    "plt.bar(odds, coins)\n",
    "plt.xlabel('Odds against')\n",
    "plt.ylabel('Expected number of coins');"
   ]
  },
  {
   "cell_type": "markdown",
   "metadata": {},
   "source": [
    "We can also visualize the efficiency for all values of odds, not just `1:k`."
   ]
  },
  {
   "cell_type": "code",
   "execution_count": null,
   "metadata": {},
   "outputs": [],
   "source": [
    "zs = np.full((40, 40), np.nan)\n",
    "for odds, result in best.items():\n",
    "    expected_coins = result[0]\n",
    "    efficiency = result[2]\n",
    "    try:\n",
    "        zs[odds] = efficiency\n",
    "    except IndexError:\n",
    "        pass\n",
    "    \n",
    "np.nanmean(zs)"
   ]
  },
  {
   "cell_type": "code",
   "execution_count": null,
   "metadata": {},
   "outputs": [],
   "source": [
    "plt.pcolormesh(zs)\n",
    "plt.colorbar();"
   ]
  },
  {
   "cell_type": "markdown",
   "metadata": {},
   "source": [
    "Interestingly, it seems that odds we can obtain efficiently come in diagonal stripes, with the exception of a few unlucky pairs with low efficiencies."
   ]
  },
  {
   "cell_type": "code",
   "execution_count": null,
   "metadata": {},
   "outputs": [],
   "source": [
    "best[4, 5]"
   ]
  },
  {
   "cell_type": "code",
   "execution_count": null,
   "metadata": {},
   "outputs": [],
   "source": []
  }
 ],
 "metadata": {
  "kernelspec": {
   "display_name": "Python 3",
   "language": "python",
   "name": "python3"
  },
  "language_info": {
   "codemirror_mode": {
    "name": "ipython",
    "version": 3
   },
   "file_extension": ".py",
   "mimetype": "text/x-python",
   "name": "python",
   "nbconvert_exporter": "python",
   "pygments_lexer": "ipython3",
   "version": "3.6.5"
  }
 },
 "nbformat": 4,
 "nbformat_minor": 2
}
